{
  "cells": [
    {
      "cell_type": "code",
      "execution_count": 2,
      "metadata": {
        "id": "ybDNhhfgHf3V",
        "colab": {
          "base_uri": "https://localhost:8080/"
        },
        "outputId": "c23f4ca5-631a-46de-9858-91cb0d29f1ce"
      },
      "outputs": [
        {
          "output_type": "stream",
          "name": "stdout",
          "text": [
            "--2022-10-25 22:26:12--  https://github.com/jhu-intro-hlt/jhu-intro-hlt.github.io/raw/master/assignments/hw2-files/student/required_files.zip\n",
            "Resolving github.com (github.com)... 140.82.113.3\n",
            "Connecting to github.com (github.com)|140.82.113.3|:443... connected.\n",
            "HTTP request sent, awaiting response... 302 Found\n",
            "Location: https://raw.githubusercontent.com/jhu-intro-hlt/jhu-intro-hlt.github.io/master/assignments/hw2-files/student/required_files.zip [following]\n",
            "--2022-10-25 22:26:12--  https://raw.githubusercontent.com/jhu-intro-hlt/jhu-intro-hlt.github.io/master/assignments/hw2-files/student/required_files.zip\n",
            "Resolving raw.githubusercontent.com (raw.githubusercontent.com)... 185.199.108.133, 185.199.109.133, 185.199.110.133, ...\n",
            "Connecting to raw.githubusercontent.com (raw.githubusercontent.com)|185.199.108.133|:443... connected.\n",
            "HTTP request sent, awaiting response... 200 OK\n",
            "Length: 6863 (6.7K) [application/zip]\n",
            "Saving to: ‘required_files.zip’\n",
            "\n",
            "required_files.zip  100%[===================>]   6.70K  --.-KB/s    in 0s      \n",
            "\n",
            "2022-10-25 22:26:13 (45.4 MB/s) - ‘required_files.zip’ saved [6863/6863]\n",
            "\n",
            "Archive:  required_files.zip\n",
            "  inflating: .DS_Store               \n",
            "  inflating: requirements.txt        \n",
            "   creating: tests/\n",
            "  inflating: tests/rnnnlm-lyric-gen-greedy-decoding.py  \n",
            "  inflating: tests/rnnnlm-lyric-gen-improved-model.py  \n",
            "  inflating: tests/rnnnlm-lyric-gen-vanilla-rnn-impl.py  \n",
            "  inflating: tests/rnnnlm-lyric-gen-sampling-decoding.py  \n",
            "  inflating: tests/rnnnlm-lyric-gen-dataset-impl.py  \n",
            "  inflating: tests/word2vec-analogy-impl.py  \n",
            "Looking in indexes: https://pypi.org/simple, https://us-python.pkg.dev/colab-wheels/public/simple/\n",
            "Requirement already satisfied: datascience in /usr/local/lib/python3.7/dist-packages (from -r requirements.txt (line 1)) (0.17.5)\n",
            "Requirement already satisfied: jupyter_client in /usr/local/lib/python3.7/dist-packages (from -r requirements.txt (line 2)) (6.1.12)\n",
            "Requirement already satisfied: ipykernel in /usr/local/lib/python3.7/dist-packages (from -r requirements.txt (line 3)) (5.3.4)\n",
            "Requirement already satisfied: matplotlib in /usr/local/lib/python3.7/dist-packages (from -r requirements.txt (line 4)) (3.2.2)\n",
            "Requirement already satisfied: pandas in /usr/local/lib/python3.7/dist-packages (from -r requirements.txt (line 5)) (1.3.5)\n",
            "Requirement already satisfied: ipywidgets in /usr/local/lib/python3.7/dist-packages (from -r requirements.txt (line 6)) (7.7.1)\n",
            "Requirement already satisfied: scipy in /usr/local/lib/python3.7/dist-packages (from -r requirements.txt (line 7)) (1.7.3)\n",
            "Requirement already satisfied: seaborn in /usr/local/lib/python3.7/dist-packages (from -r requirements.txt (line 8)) (0.11.2)\n",
            "Collecting sklearn\n",
            "  Downloading sklearn-0.0.tar.gz (1.1 kB)\n",
            "Requirement already satisfied: jinja2 in /usr/local/lib/python3.7/dist-packages (from -r requirements.txt (line 10)) (2.11.3)\n",
            "Requirement already satisfied: nbconvert in /usr/local/lib/python3.7/dist-packages (from -r requirements.txt (line 11)) (5.6.1)\n",
            "Requirement already satisfied: nbformat in /usr/local/lib/python3.7/dist-packages (from -r requirements.txt (line 12)) (5.7.0)\n",
            "Requirement already satisfied: dill in /usr/local/lib/python3.7/dist-packages (from -r requirements.txt (line 13)) (0.3.5.1)\n",
            "Requirement already satisfied: numpy in /usr/local/lib/python3.7/dist-packages (from -r requirements.txt (line 14)) (1.21.6)\n",
            "Collecting otter-grader==4.0.1\n",
            "  Downloading otter_grader-4.0.1-py3-none-any.whl (166 kB)\n",
            "\u001b[K     |████████████████████████████████| 166 kB 5.2 MB/s \n",
            "\u001b[?25hCollecting pdfkit\n",
            "  Downloading pdfkit-1.0.0-py3-none-any.whl (12 kB)\n",
            "Collecting PyPDF2\n",
            "  Downloading PyPDF2-2.11.1-py3-none-any.whl (220 kB)\n",
            "\u001b[K     |████████████████████████████████| 220 kB 50.2 MB/s \n",
            "\u001b[?25hCollecting wkhtmltopdf\n",
            "  Downloading wkhtmltopdf-0.2.tar.gz (9.7 kB)\n",
            "Collecting overrides===6.2.0\n",
            "  Downloading overrides-6.2.0-py3-none-any.whl (17 kB)\n",
            "Requirement already satisfied: torch~=1.12.1 in /usr/local/lib/python3.7/dist-packages (from -r requirements.txt (line 23)) (1.12.1+cu113)\n",
            "Requirement already satisfied: torchvision in /usr/local/lib/python3.7/dist-packages (from -r requirements.txt (line 24)) (0.13.1+cu113)\n",
            "Requirement already satisfied: torchaudio in /usr/local/lib/python3.7/dist-packages (from -r requirements.txt (line 25)) (0.12.1+cu113)\n",
            "Collecting pytorch-lightning~=1.7.7\n",
            "  Downloading pytorch_lightning-1.7.7-py3-none-any.whl (708 kB)\n",
            "\u001b[K     |████████████████████████████████| 708 kB 35.2 MB/s \n",
            "\u001b[?25hCollecting gensim~=4.2.0\n",
            "  Downloading gensim-4.2.0-cp37-cp37m-manylinux_2_12_x86_64.manylinux2010_x86_64.whl (24.1 MB)\n",
            "\u001b[K     |████████████████████████████████| 24.1 MB 1.5 MB/s \n",
            "\u001b[?25hRequirement already satisfied: scikit-learn in /usr/local/lib/python3.7/dist-packages (from -r requirements.txt (line 30)) (1.0.2)\n",
            "Requirement already satisfied: PyYAML in /usr/local/lib/python3.7/dist-packages (from otter-grader==4.0.1->-r requirements.txt (line 15)) (6.0)\n",
            "Requirement already satisfied: google-api-python-client in /usr/local/lib/python3.7/dist-packages (from otter-grader==4.0.1->-r requirements.txt (line 15)) (1.12.11)\n",
            "Collecting python-on-whales\n",
            "  Downloading python_on_whales-0.53.0-py3-none-any.whl (98 kB)\n",
            "\u001b[K     |████████████████████████████████| 98 kB 6.3 MB/s \n",
            "\u001b[?25hRequirement already satisfied: google-auth-oauthlib in /usr/local/lib/python3.7/dist-packages (from otter-grader==4.0.1->-r requirements.txt (line 15)) (0.4.6)\n",
            "Requirement already satisfied: click in /usr/local/lib/python3.7/dist-packages (from otter-grader==4.0.1->-r requirements.txt (line 15)) (7.1.2)\n",
            "Requirement already satisfied: gspread in /usr/local/lib/python3.7/dist-packages (from otter-grader==4.0.1->-r requirements.txt (line 15)) (3.4.2)\n",
            "Requirement already satisfied: wrapt in /usr/local/lib/python3.7/dist-packages (from otter-grader==4.0.1->-r requirements.txt (line 15)) (1.14.1)\n",
            "Collecting fica>=0.2.0\n",
            "  Downloading fica-0.2.0-py3-none-any.whl (11 kB)\n",
            "Requirement already satisfied: requests in /usr/local/lib/python3.7/dist-packages (from otter-grader==4.0.1->-r requirements.txt (line 15)) (2.23.0)\n",
            "Collecting jupytext\n",
            "  Downloading jupytext-1.14.1-py3-none-any.whl (297 kB)\n",
            "\u001b[K     |████████████████████████████████| 297 kB 61.4 MB/s \n",
            "\u001b[?25hRequirement already satisfied: six in /usr/local/lib/python3.7/dist-packages (from otter-grader==4.0.1->-r requirements.txt (line 15)) (1.15.0)\n",
            "Requirement already satisfied: typing-extensions in /usr/local/lib/python3.7/dist-packages (from torch~=1.12.1->-r requirements.txt (line 23)) (4.1.1)\n",
            "Requirement already satisfied: fsspec[http]!=2021.06.0,>=2021.05.0 in /usr/local/lib/python3.7/dist-packages (from pytorch-lightning~=1.7.7->-r requirements.txt (line 26)) (2022.10.0)\n",
            "Requirement already satisfied: tensorboard>=2.9.1 in /usr/local/lib/python3.7/dist-packages (from pytorch-lightning~=1.7.7->-r requirements.txt (line 26)) (2.9.1)\n",
            "Requirement already satisfied: tqdm>=4.57.0 in /usr/local/lib/python3.7/dist-packages (from pytorch-lightning~=1.7.7->-r requirements.txt (line 26)) (4.64.1)\n",
            "Collecting pyDeprecate>=0.3.1\n",
            "  Downloading pyDeprecate-0.3.2-py3-none-any.whl (10 kB)\n",
            "Collecting torchmetrics>=0.7.0\n",
            "  Downloading torchmetrics-0.10.0-py3-none-any.whl (529 kB)\n",
            "\u001b[K     |████████████████████████████████| 529 kB 47.1 MB/s \n",
            "\u001b[?25hRequirement already satisfied: packaging>=17.0 in /usr/local/lib/python3.7/dist-packages (from pytorch-lightning~=1.7.7->-r requirements.txt (line 26)) (21.3)\n",
            "Requirement already satisfied: smart-open>=1.8.1 in /usr/local/lib/python3.7/dist-packages (from gensim~=4.2.0->-r requirements.txt (line 29)) (5.2.1)\n",
            "Requirement already satisfied: docutils in /usr/local/lib/python3.7/dist-packages (from fica>=0.2.0->otter-grader==4.0.1->-r requirements.txt (line 15)) (0.17.1)\n",
            "Requirement already satisfied: sphinx in /usr/local/lib/python3.7/dist-packages (from fica>=0.2.0->otter-grader==4.0.1->-r requirements.txt (line 15)) (1.8.6)\n",
            "Requirement already satisfied: aiohttp!=4.0.0a0,!=4.0.0a1 in /usr/local/lib/python3.7/dist-packages (from fsspec[http]!=2021.06.0,>=2021.05.0->pytorch-lightning~=1.7.7->-r requirements.txt (line 26)) (3.8.3)\n",
            "Requirement already satisfied: aiosignal>=1.1.2 in /usr/local/lib/python3.7/dist-packages (from aiohttp!=4.0.0a0,!=4.0.0a1->fsspec[http]!=2021.06.0,>=2021.05.0->pytorch-lightning~=1.7.7->-r requirements.txt (line 26)) (1.2.0)\n",
            "Requirement already satisfied: charset-normalizer<3.0,>=2.0 in /usr/local/lib/python3.7/dist-packages (from aiohttp!=4.0.0a0,!=4.0.0a1->fsspec[http]!=2021.06.0,>=2021.05.0->pytorch-lightning~=1.7.7->-r requirements.txt (line 26)) (2.1.1)\n",
            "Requirement already satisfied: multidict<7.0,>=4.5 in /usr/local/lib/python3.7/dist-packages (from aiohttp!=4.0.0a0,!=4.0.0a1->fsspec[http]!=2021.06.0,>=2021.05.0->pytorch-lightning~=1.7.7->-r requirements.txt (line 26)) (6.0.2)\n",
            "Requirement already satisfied: frozenlist>=1.1.1 in /usr/local/lib/python3.7/dist-packages (from aiohttp!=4.0.0a0,!=4.0.0a1->fsspec[http]!=2021.06.0,>=2021.05.0->pytorch-lightning~=1.7.7->-r requirements.txt (line 26)) (1.3.1)\n",
            "Requirement already satisfied: asynctest==0.13.0 in /usr/local/lib/python3.7/dist-packages (from aiohttp!=4.0.0a0,!=4.0.0a1->fsspec[http]!=2021.06.0,>=2021.05.0->pytorch-lightning~=1.7.7->-r requirements.txt (line 26)) (0.13.0)\n",
            "Requirement already satisfied: async-timeout<5.0,>=4.0.0a3 in /usr/local/lib/python3.7/dist-packages (from aiohttp!=4.0.0a0,!=4.0.0a1->fsspec[http]!=2021.06.0,>=2021.05.0->pytorch-lightning~=1.7.7->-r requirements.txt (line 26)) (4.0.2)\n",
            "Requirement already satisfied: attrs>=17.3.0 in /usr/local/lib/python3.7/dist-packages (from aiohttp!=4.0.0a0,!=4.0.0a1->fsspec[http]!=2021.06.0,>=2021.05.0->pytorch-lightning~=1.7.7->-r requirements.txt (line 26)) (22.1.0)\n",
            "Requirement already satisfied: yarl<2.0,>=1.0 in /usr/local/lib/python3.7/dist-packages (from aiohttp!=4.0.0a0,!=4.0.0a1->fsspec[http]!=2021.06.0,>=2021.05.0->pytorch-lightning~=1.7.7->-r requirements.txt (line 26)) (1.8.1)\n",
            "Requirement already satisfied: pyparsing!=3.0.5,>=2.0.2 in /usr/local/lib/python3.7/dist-packages (from packaging>=17.0->pytorch-lightning~=1.7.7->-r requirements.txt (line 26)) (3.0.9)\n",
            "Requirement already satisfied: grpcio>=1.24.3 in /usr/local/lib/python3.7/dist-packages (from tensorboard>=2.9.1->pytorch-lightning~=1.7.7->-r requirements.txt (line 26)) (1.50.0)\n",
            "Requirement already satisfied: wheel>=0.26 in /usr/local/lib/python3.7/dist-packages (from tensorboard>=2.9.1->pytorch-lightning~=1.7.7->-r requirements.txt (line 26)) (0.37.1)\n",
            "Requirement already satisfied: markdown>=2.6.8 in /usr/local/lib/python3.7/dist-packages (from tensorboard>=2.9.1->pytorch-lightning~=1.7.7->-r requirements.txt (line 26)) (3.4.1)\n",
            "Requirement already satisfied: setuptools>=41.0.0 in /usr/local/lib/python3.7/dist-packages (from tensorboard>=2.9.1->pytorch-lightning~=1.7.7->-r requirements.txt (line 26)) (57.4.0)\n",
            "Requirement already satisfied: tensorboard-data-server<0.7.0,>=0.6.0 in /usr/local/lib/python3.7/dist-packages (from tensorboard>=2.9.1->pytorch-lightning~=1.7.7->-r requirements.txt (line 26)) (0.6.1)\n",
            "Requirement already satisfied: werkzeug>=1.0.1 in /usr/local/lib/python3.7/dist-packages (from tensorboard>=2.9.1->pytorch-lightning~=1.7.7->-r requirements.txt (line 26)) (1.0.1)\n",
            "Requirement already satisfied: absl-py>=0.4 in /usr/local/lib/python3.7/dist-packages (from tensorboard>=2.9.1->pytorch-lightning~=1.7.7->-r requirements.txt (line 26)) (1.3.0)\n",
            "Requirement already satisfied: protobuf<3.20,>=3.9.2 in /usr/local/lib/python3.7/dist-packages (from tensorboard>=2.9.1->pytorch-lightning~=1.7.7->-r requirements.txt (line 26)) (3.17.3)\n",
            "Requirement already satisfied: google-auth<3,>=1.6.3 in /usr/local/lib/python3.7/dist-packages (from tensorboard>=2.9.1->pytorch-lightning~=1.7.7->-r requirements.txt (line 26)) (1.35.0)\n",
            "Requirement already satisfied: tensorboard-plugin-wit>=1.6.0 in /usr/local/lib/python3.7/dist-packages (from tensorboard>=2.9.1->pytorch-lightning~=1.7.7->-r requirements.txt (line 26)) (1.8.1)\n",
            "Requirement already satisfied: rsa<5,>=3.1.4 in /usr/local/lib/python3.7/dist-packages (from google-auth<3,>=1.6.3->tensorboard>=2.9.1->pytorch-lightning~=1.7.7->-r requirements.txt (line 26)) (4.9)\n",
            "Requirement already satisfied: pyasn1-modules>=0.2.1 in /usr/local/lib/python3.7/dist-packages (from google-auth<3,>=1.6.3->tensorboard>=2.9.1->pytorch-lightning~=1.7.7->-r requirements.txt (line 26)) (0.2.8)\n",
            "Requirement already satisfied: cachetools<5.0,>=2.0.0 in /usr/local/lib/python3.7/dist-packages (from google-auth<3,>=1.6.3->tensorboard>=2.9.1->pytorch-lightning~=1.7.7->-r requirements.txt (line 26)) (4.2.4)\n",
            "Requirement already satisfied: requests-oauthlib>=0.7.0 in /usr/local/lib/python3.7/dist-packages (from google-auth-oauthlib->otter-grader==4.0.1->-r requirements.txt (line 15)) (1.3.1)\n",
            "Requirement already satisfied: importlib-metadata>=4.4 in /usr/local/lib/python3.7/dist-packages (from markdown>=2.6.8->tensorboard>=2.9.1->pytorch-lightning~=1.7.7->-r requirements.txt (line 26)) (4.13.0)\n",
            "Requirement already satisfied: zipp>=0.5 in /usr/local/lib/python3.7/dist-packages (from importlib-metadata>=4.4->markdown>=2.6.8->tensorboard>=2.9.1->pytorch-lightning~=1.7.7->-r requirements.txt (line 26)) (3.9.0)\n",
            "Requirement already satisfied: pyasn1<0.5.0,>=0.4.6 in /usr/local/lib/python3.7/dist-packages (from pyasn1-modules>=0.2.1->google-auth<3,>=1.6.3->tensorboard>=2.9.1->pytorch-lightning~=1.7.7->-r requirements.txt (line 26)) (0.4.8)\n",
            "Requirement already satisfied: certifi>=2017.4.17 in /usr/local/lib/python3.7/dist-packages (from requests->otter-grader==4.0.1->-r requirements.txt (line 15)) (2022.9.24)\n",
            "Requirement already satisfied: urllib3!=1.25.0,!=1.25.1,<1.26,>=1.21.1 in /usr/local/lib/python3.7/dist-packages (from requests->otter-grader==4.0.1->-r requirements.txt (line 15)) (1.24.3)\n",
            "Requirement already satisfied: idna<3,>=2.5 in /usr/local/lib/python3.7/dist-packages (from requests->otter-grader==4.0.1->-r requirements.txt (line 15)) (2.10)\n",
            "Requirement already satisfied: chardet<4,>=3.0.2 in /usr/local/lib/python3.7/dist-packages (from requests->otter-grader==4.0.1->-r requirements.txt (line 15)) (3.0.4)\n",
            "Requirement already satisfied: oauthlib>=3.0.0 in /usr/local/lib/python3.7/dist-packages (from requests-oauthlib>=0.7.0->google-auth-oauthlib->otter-grader==4.0.1->-r requirements.txt (line 15)) (3.2.2)\n",
            "Requirement already satisfied: ipython in /usr/local/lib/python3.7/dist-packages (from datascience->-r requirements.txt (line 1)) (7.9.0)\n",
            "Requirement already satisfied: plotly in /usr/local/lib/python3.7/dist-packages (from datascience->-r requirements.txt (line 1)) (5.5.0)\n",
            "Requirement already satisfied: branca in /usr/local/lib/python3.7/dist-packages (from datascience->-r requirements.txt (line 1)) (0.5.0)\n",
            "Requirement already satisfied: folium>=0.9.1 in /usr/local/lib/python3.7/dist-packages (from datascience->-r requirements.txt (line 1)) (0.12.1.post1)\n",
            "Requirement already satisfied: kiwisolver>=1.0.1 in /usr/local/lib/python3.7/dist-packages (from matplotlib->-r requirements.txt (line 4)) (1.4.4)\n",
            "Requirement already satisfied: python-dateutil>=2.1 in /usr/local/lib/python3.7/dist-packages (from matplotlib->-r requirements.txt (line 4)) (2.8.2)\n",
            "Requirement already satisfied: cycler>=0.10 in /usr/local/lib/python3.7/dist-packages (from matplotlib->-r requirements.txt (line 4)) (0.11.0)\n",
            "Requirement already satisfied: MarkupSafe>=0.23 in /usr/local/lib/python3.7/dist-packages (from jinja2->-r requirements.txt (line 10)) (2.0.1)\n",
            "Requirement already satisfied: pyzmq>=13 in /usr/local/lib/python3.7/dist-packages (from jupyter_client->-r requirements.txt (line 2)) (23.2.1)\n",
            "Requirement already satisfied: tornado>=4.1 in /usr/local/lib/python3.7/dist-packages (from jupyter_client->-r requirements.txt (line 2)) (5.1.1)\n",
            "Requirement already satisfied: jupyter-core>=4.6.0 in /usr/local/lib/python3.7/dist-packages (from jupyter_client->-r requirements.txt (line 2)) (4.11.2)\n",
            "Requirement already satisfied: traitlets in /usr/local/lib/python3.7/dist-packages (from jupyter_client->-r requirements.txt (line 2)) (5.1.1)\n",
            "Requirement already satisfied: pickleshare in /usr/local/lib/python3.7/dist-packages (from ipython->datascience->-r requirements.txt (line 1)) (0.7.5)\n",
            "Requirement already satisfied: prompt-toolkit<2.1.0,>=2.0.0 in /usr/local/lib/python3.7/dist-packages (from ipython->datascience->-r requirements.txt (line 1)) (2.0.10)\n",
            "Requirement already satisfied: decorator in /usr/local/lib/python3.7/dist-packages (from ipython->datascience->-r requirements.txt (line 1)) (4.4.2)\n",
            "Requirement already satisfied: backcall in /usr/local/lib/python3.7/dist-packages (from ipython->datascience->-r requirements.txt (line 1)) (0.2.0)\n",
            "Collecting jedi>=0.10\n",
            "  Downloading jedi-0.18.1-py2.py3-none-any.whl (1.6 MB)\n",
            "\u001b[K     |████████████████████████████████| 1.6 MB 55.0 MB/s \n",
            "\u001b[?25hRequirement already satisfied: pexpect in /usr/local/lib/python3.7/dist-packages (from ipython->datascience->-r requirements.txt (line 1)) (4.8.0)\n",
            "Requirement already satisfied: pygments in /usr/local/lib/python3.7/dist-packages (from ipython->datascience->-r requirements.txt (line 1)) (2.6.1)\n",
            "Requirement already satisfied: parso<0.9.0,>=0.8.0 in /usr/local/lib/python3.7/dist-packages (from jedi>=0.10->ipython->datascience->-r requirements.txt (line 1)) (0.8.3)\n",
            "Requirement already satisfied: wcwidth in /usr/local/lib/python3.7/dist-packages (from prompt-toolkit<2.1.0,>=2.0.0->ipython->datascience->-r requirements.txt (line 1)) (0.2.5)\n",
            "Requirement already satisfied: pytz>=2017.3 in /usr/local/lib/python3.7/dist-packages (from pandas->-r requirements.txt (line 5)) (2022.5)\n",
            "Requirement already satisfied: ipython-genutils~=0.2.0 in /usr/local/lib/python3.7/dist-packages (from ipywidgets->-r requirements.txt (line 6)) (0.2.0)\n",
            "Requirement already satisfied: jupyterlab-widgets>=1.0.0 in /usr/local/lib/python3.7/dist-packages (from ipywidgets->-r requirements.txt (line 6)) (3.0.3)\n",
            "Requirement already satisfied: widgetsnbextension~=3.6.0 in /usr/local/lib/python3.7/dist-packages (from ipywidgets->-r requirements.txt (line 6)) (3.6.1)\n",
            "Requirement already satisfied: notebook>=4.4.1 in /usr/local/lib/python3.7/dist-packages (from widgetsnbextension~=3.6.0->ipywidgets->-r requirements.txt (line 6)) (5.5.0)\n",
            "Requirement already satisfied: terminado>=0.8.1 in /usr/local/lib/python3.7/dist-packages (from notebook>=4.4.1->widgetsnbextension~=3.6.0->ipywidgets->-r requirements.txt (line 6)) (0.13.3)\n",
            "Requirement already satisfied: Send2Trash in /usr/local/lib/python3.7/dist-packages (from notebook>=4.4.1->widgetsnbextension~=3.6.0->ipywidgets->-r requirements.txt (line 6)) (1.8.0)\n",
            "Requirement already satisfied: ptyprocess in /usr/local/lib/python3.7/dist-packages (from terminado>=0.8.1->notebook>=4.4.1->widgetsnbextension~=3.6.0->ipywidgets->-r requirements.txt (line 6)) (0.7.0)\n",
            "Requirement already satisfied: mistune<2,>=0.8.1 in /usr/local/lib/python3.7/dist-packages (from nbconvert->-r requirements.txt (line 11)) (0.8.4)\n",
            "Requirement already satisfied: bleach in /usr/local/lib/python3.7/dist-packages (from nbconvert->-r requirements.txt (line 11)) (5.0.1)\n",
            "Requirement already satisfied: testpath in /usr/local/lib/python3.7/dist-packages (from nbconvert->-r requirements.txt (line 11)) (0.6.0)\n",
            "Requirement already satisfied: defusedxml in /usr/local/lib/python3.7/dist-packages (from nbconvert->-r requirements.txt (line 11)) (0.7.1)\n",
            "Requirement already satisfied: pandocfilters>=1.4.1 in /usr/local/lib/python3.7/dist-packages (from nbconvert->-r requirements.txt (line 11)) (1.5.0)\n",
            "Requirement already satisfied: entrypoints>=0.2.2 in /usr/local/lib/python3.7/dist-packages (from nbconvert->-r requirements.txt (line 11)) (0.4)\n",
            "Requirement already satisfied: fastjsonschema in /usr/local/lib/python3.7/dist-packages (from nbformat->-r requirements.txt (line 12)) (2.16.2)\n",
            "Requirement already satisfied: jsonschema>=2.6 in /usr/local/lib/python3.7/dist-packages (from nbformat->-r requirements.txt (line 12)) (4.3.3)\n",
            "Requirement already satisfied: importlib-resources>=1.4.0 in /usr/local/lib/python3.7/dist-packages (from jsonschema>=2.6->nbformat->-r requirements.txt (line 12)) (5.10.0)\n",
            "Requirement already satisfied: pyrsistent!=0.17.0,!=0.17.1,!=0.17.2,>=0.14.0 in /usr/local/lib/python3.7/dist-packages (from jsonschema>=2.6->nbformat->-r requirements.txt (line 12)) (0.18.1)\n",
            "Requirement already satisfied: pillow!=8.3.*,>=5.3.0 in /usr/local/lib/python3.7/dist-packages (from torchvision->-r requirements.txt (line 24)) (7.1.2)\n",
            "Requirement already satisfied: threadpoolctl>=2.0.0 in /usr/local/lib/python3.7/dist-packages (from scikit-learn->-r requirements.txt (line 30)) (3.1.0)\n",
            "Requirement already satisfied: joblib>=0.11 in /usr/local/lib/python3.7/dist-packages (from scikit-learn->-r requirements.txt (line 30)) (1.2.0)\n",
            "Requirement already satisfied: webencodings in /usr/local/lib/python3.7/dist-packages (from bleach->nbconvert->-r requirements.txt (line 11)) (0.5.1)\n",
            "Requirement already satisfied: google-api-core<3dev,>=1.21.0 in /usr/local/lib/python3.7/dist-packages (from google-api-python-client->otter-grader==4.0.1->-r requirements.txt (line 15)) (1.31.6)\n",
            "Requirement already satisfied: uritemplate<4dev,>=3.0.0 in /usr/local/lib/python3.7/dist-packages (from google-api-python-client->otter-grader==4.0.1->-r requirements.txt (line 15)) (3.0.1)\n",
            "Requirement already satisfied: google-auth-httplib2>=0.0.3 in /usr/local/lib/python3.7/dist-packages (from google-api-python-client->otter-grader==4.0.1->-r requirements.txt (line 15)) (0.0.4)\n",
            "Requirement already satisfied: httplib2<1dev,>=0.15.0 in /usr/local/lib/python3.7/dist-packages (from google-api-python-client->otter-grader==4.0.1->-r requirements.txt (line 15)) (0.17.4)\n",
            "Requirement already satisfied: googleapis-common-protos<2.0dev,>=1.6.0 in /usr/local/lib/python3.7/dist-packages (from google-api-core<3dev,>=1.21.0->google-api-python-client->otter-grader==4.0.1->-r requirements.txt (line 15)) (1.56.4)\n",
            "Collecting markdown-it-py<3.0.0,>=1.0.0\n",
            "  Downloading markdown_it_py-2.1.0-py3-none-any.whl (84 kB)\n",
            "\u001b[K     |████████████████████████████████| 84 kB 2.4 MB/s \n",
            "\u001b[?25hRequirement already satisfied: toml in /usr/local/lib/python3.7/dist-packages (from jupytext->otter-grader==4.0.1->-r requirements.txt (line 15)) (0.10.2)\n",
            "Collecting mdit-py-plugins\n",
            "  Downloading mdit_py_plugins-0.3.1-py3-none-any.whl (46 kB)\n",
            "\u001b[K     |████████████████████████████████| 46 kB 3.2 MB/s \n",
            "\u001b[?25hCollecting mdurl~=0.1\n",
            "  Downloading mdurl-0.1.2-py3-none-any.whl (10.0 kB)\n",
            "Requirement already satisfied: tenacity>=6.2.0 in /usr/local/lib/python3.7/dist-packages (from plotly->datascience->-r requirements.txt (line 1)) (8.1.0)\n",
            "Requirement already satisfied: typer>=0.4.1 in /usr/local/lib/python3.7/dist-packages (from python-on-whales->otter-grader==4.0.1->-r requirements.txt (line 15)) (0.4.2)\n",
            "Requirement already satisfied: pydantic in /usr/local/lib/python3.7/dist-packages (from python-on-whales->otter-grader==4.0.1->-r requirements.txt (line 15)) (1.10.2)\n",
            "Requirement already satisfied: alabaster<0.8,>=0.7 in /usr/local/lib/python3.7/dist-packages (from sphinx->fica>=0.2.0->otter-grader==4.0.1->-r requirements.txt (line 15)) (0.7.12)\n",
            "Requirement already satisfied: snowballstemmer>=1.1 in /usr/local/lib/python3.7/dist-packages (from sphinx->fica>=0.2.0->otter-grader==4.0.1->-r requirements.txt (line 15)) (2.2.0)\n",
            "Requirement already satisfied: sphinxcontrib-websupport in /usr/local/lib/python3.7/dist-packages (from sphinx->fica>=0.2.0->otter-grader==4.0.1->-r requirements.txt (line 15)) (1.2.4)\n",
            "Requirement already satisfied: imagesize in /usr/local/lib/python3.7/dist-packages (from sphinx->fica>=0.2.0->otter-grader==4.0.1->-r requirements.txt (line 15)) (1.4.1)\n",
            "Requirement already satisfied: babel!=2.0,>=1.3 in /usr/local/lib/python3.7/dist-packages (from sphinx->fica>=0.2.0->otter-grader==4.0.1->-r requirements.txt (line 15)) (2.10.3)\n",
            "Requirement already satisfied: sphinxcontrib-serializinghtml in /usr/local/lib/python3.7/dist-packages (from sphinxcontrib-websupport->sphinx->fica>=0.2.0->otter-grader==4.0.1->-r requirements.txt (line 15)) (1.1.5)\n",
            "Building wheels for collected packages: sklearn, wkhtmltopdf\n",
            "  Building wheel for sklearn (setup.py) ... \u001b[?25l\u001b[?25hdone\n",
            "  Created wheel for sklearn: filename=sklearn-0.0-py2.py3-none-any.whl size=1310 sha256=17c24d8b20957bf858c365958598bdac5349f0d39708c2afe83e528d4bf04229\n",
            "  Stored in directory: /root/.cache/pip/wheels/46/ef/c3/157e41f5ee1372d1be90b09f74f82b10e391eaacca8f22d33e\n",
            "  Building wheel for wkhtmltopdf (setup.py) ... \u001b[?25l\u001b[?25hdone\n",
            "  Created wheel for wkhtmltopdf: filename=wkhtmltopdf-0.2-py3-none-any.whl size=11149 sha256=78b0e050e8d0e04a00b87599a3c82840bcc43a81e42b9f971bb2082fc9ca93f3\n",
            "  Stored in directory: /root/.cache/pip/wheels/8b/15/f3/c2f2199ba236c73e7e14888e5e5e5ff6da2fb13d1f26072a9e\n",
            "Successfully built sklearn wkhtmltopdf\n",
            "Installing collected packages: jedi, mdurl, markdown-it-py, mdit-py-plugins, torchmetrics, python-on-whales, pyDeprecate, jupytext, fica, wkhtmltopdf, sklearn, pytorch-lightning, PyPDF2, pdfkit, overrides, otter-grader, gensim\n",
            "  Attempting uninstall: gensim\n",
            "    Found existing installation: gensim 3.6.0\n",
            "    Uninstalling gensim-3.6.0:\n",
            "      Successfully uninstalled gensim-3.6.0\n",
            "Successfully installed PyPDF2-2.11.1 fica-0.2.0 gensim-4.2.0 jedi-0.18.1 jupytext-1.14.1 markdown-it-py-2.1.0 mdit-py-plugins-0.3.1 mdurl-0.1.2 otter-grader-4.0.1 overrides-6.2.0 pdfkit-1.0.0 pyDeprecate-0.3.2 python-on-whales-0.53.0 pytorch-lightning-1.7.7 sklearn-0.0 torchmetrics-0.10.0 wkhtmltopdf-0.2\n"
          ]
        }
      ],
      "source": [
        "# Downloads required packages and files\n",
        "required_files = \"https://github.com/jhu-intro-hlt/jhu-intro-hlt.github.io/raw/master/assignments/hw2-files/student/required_files.zip\"\n",
        "! wget $required_files && unzip -o required_files.zip\n",
        "! pip install -r requirements.txt"
      ]
    },
    {
      "cell_type": "code",
      "execution_count": 3,
      "metadata": {
        "id": "5PyZIC41Hf3Z"
      },
      "outputs": [],
      "source": [
        "# Initialize Otter\n",
        "import otter\n",
        "\n",
        "grader = otter.Notebook(colab=True)"
      ]
    },
    {
      "cell_type": "markdown",
      "metadata": {
        "id": "eLm_JxCxrkIE"
      },
      "source": [
        "# Assignment 2\n",
        "\n",
        "In the last few lectures, you have looked at two work-horses of natural language processing: recurrent neural networks, and word embeddings (distributional semantics). In this assignment, you will put the learning into practice by implementing some of these yourself, and doing some exploratory analysis.\n",
        "\n",
        "# Setup\n",
        "\n",
        "For this assignment, as in the previous one, we will be using Google Colab, for both code as well as descriptive questions. Your task is to finish all the questions in the Colab notebook and then upload a PDF version of the notebook, and a viewable link on Gradescope. \n",
        "\n",
        "### Google colaboratory\n",
        "\n",
        "Before getting started, get familiar with google colaboratory:\n",
        "https://colab.research.google.com/notebooks/welcome.ipynb\n",
        "\n",
        "This is a neat python environment that works in the cloud and does not require you to\n",
        "set up anything on your personal machine\n",
        "(it also has some built-in IDE features that make writing code easier).\n",
        "Moreover, it allows you to copy any existing collaboratory file, alter it and share\n",
        "with other people.\n",
        "\n",
        "__Note:__\n",
        "1. You may need to change your Runtime setting to GPU in order to run the following code blocks.\n",
        "2. On changing the Runtime setting, you would be required to run the previous code-blocks again.\n",
        "\n",
        "### Submission\n",
        "\n",
        "Before you start working on this homework do the following steps:\n",
        "\n",
        "1. Press __File > Save a copy in Drive...__ tab. This will allow you to have your own copy and change it.\n",
        "2. Follow all the steps in this collaboratory file and write / change / uncomment code as necessary.\n",
        "3. Do not forget to occasionally press __File > Save__ tab to save your progress.\n",
        "4. After all the changes are done and progress is saved press __Share__ button (top right corner of the page), press __get shareable link__ and make sure you have the option __Anyone with the link can view__ selected. Copy the link and paste it in the box below.\n",
        "5. After completing the notebook, press __File > Download .ipynb__ to download a local copy on your computer, and then upload the file to Gradescope.\n",
        "\n",
        "__Special handling for model checkpoints.__\n",
        "6. As the homework requires training neural models, such trained model checkpoints should also be submitted together with the notebook, hence avoiding re-training during the grading phase. For such model checkpoints, they would be stored at `./lightning_logs` directory. You have to first locate the directory from the left side panel (`Files`) on Colab.\n",
        "7. Enter `./lightning_logs` and find the training label that you would like to submit. The versions are labelled with respect to the training calls.\n",
        "8. Download the `.ckpt` file from `./lightning_logs/<your_version>/checkpoints/<name>.ckpt`.\n",
        "9. Rename the downloaded checkpoint and re-name it as the corresponding name shown in the question, say `vanilla_rnn_model.ckpt`.\n",
        "10. Submit checkpoint file(s) together with your notebook to the autograder. Please make sure that checkpoint files should be put at the same directory level as the notebook (content root).\n",
        "\n",
        "\n",
        "\n",
        "__Paste your notebook link in the box below.__ _(0 points)_"
      ]
    },
    {
      "cell_type": "markdown",
      "metadata": {
        "id": "Y2kR0zyxKUh2"
      },
      "source": [
        "\n",
        "```\n",
        "# Paste your Colab notebook link here\n",
        "```\n",
        "https://colab.research.google.com/drive/1_3hLKHjPVRsUXKwRTK-4rMc0b0Xv55dw?authuser=1#scrollTo=Y2kR0zyxKUh2"
      ]
    },
    {
      "cell_type": "code",
      "execution_count": 4,
      "metadata": {
        "id": "_zHfzMzMHf3c"
      },
      "outputs": [],
      "source": [
        "import os\n",
        "import urllib\n",
        "from dataclasses import dataclass\n",
        "from typing import Optional, List, Dict, Tuple, Any\n",
        "\n",
        "import torch\n",
        "import string\n",
        "import gensim\n",
        "import numpy as np\n",
        "import pandas as pd\n",
        "import pytorch_lightning as pl\n",
        "import torch.nn as nn\n",
        "import gensim.downloader as gensim_api\n",
        "from torch.nn.utils.rnn import PackedSequence\n",
        "from torch.utils.data import DataLoader, Dataset"
      ]
    },
    {
      "cell_type": "code",
      "execution_count": 5,
      "metadata": {
        "id": "bBvH5tz5Hf3c",
        "colab": {
          "base_uri": "https://localhost:8080/"
        },
        "outputId": "ac0034e2-ffe1-425b-cb8d-14d8ea267e6e"
      },
      "outputs": [
        {
          "output_type": "stream",
          "name": "stdout",
          "text": [
            "The notebook is running for \"student\".\n",
            "Students should make sure you are running under the \"student\" mode.\n",
            "You are using \"cpu\".\n"
          ]
        }
      ],
      "source": [
        "# Checks whether it is in the autograder grading mode\n",
        "# Checks whether GPU accelerators are available\n",
        "is_autograder = os.path.exists('is_autograder.py')\n",
        "if torch.cuda.is_available() and not is_autograder:\n",
        "    accelerator = 'gpu'\n",
        "else:\n",
        "    accelerator = 'cpu'\n",
        "print(f'The notebook is running for \"{\"autograder\" if is_autograder else \"student\"}\".')\n",
        "print('Students should make sure you are running under the \"student\" mode.')\n",
        "print(f'You are using \"{accelerator}\".')"
      ]
    },
    {
      "cell_type": "code",
      "execution_count": 6,
      "metadata": {
        "id": "j1lkJaVNHf3c",
        "colab": {
          "base_uri": "https://localhost:8080/"
        },
        "outputId": "05cd21e8-6b5f-44d9-f7da-322261e5f76b"
      },
      "outputs": [
        {
          "output_type": "stream",
          "name": "stderr",
          "text": [
            "INFO:pytorch_lightning.utilities.seed:Global seed set to 777\n"
          ]
        },
        {
          "output_type": "execute_result",
          "data": {
            "text/plain": [
              "777"
            ]
          },
          "metadata": {},
          "execution_count": 6
        }
      ],
      "source": [
        "# Seed everything to make sure all experiments are reproducible\n",
        "pl.seed_everything(seed=777)"
      ]
    },
    {
      "cell_type": "code",
      "execution_count": 7,
      "metadata": {
        "id": "DfWhg6LRHf3d"
      },
      "outputs": [],
      "source": [
        "HOMEWORK_DATA_URL = \"https://github.com/jhu-intro-hlt/jhu-intro-hlt.github.io/raw/master/assignments/hw2-files/student/\"\n",
        "\n",
        "SONGDATA_TRAIN_PATH = 'songdata_train.csv'\n",
        "SONGDATA_VAL_PATH = 'songdata_val.csv'\n",
        "\n",
        "VANILLA_RNN_MODEL_CKPT_PATH = 'vanilla_rnn_model.ckpt'\n",
        "IMPROVED_MODEL_CKPT_PATH = 'improved_model.ckpt'\n",
        "\n",
        "# We are using the same label for both padding and OOV\n",
        "# This leads to the same behavior for loss computation\n",
        "PADDING_LABEL = 100\n",
        "OOV_LABEL = 100"
      ]
    },
    {
      "cell_type": "code",
      "execution_count": 8,
      "metadata": {
        "id": "gAinSAw6Hf3d"
      },
      "outputs": [],
      "source": [
        "def download_data():\n",
        "    def _download(url: str, filename: str) -> str:\n",
        "        txt = urllib.request.urlopen(url)\n",
        "        with open(filename, 'w') as f:\n",
        "            f.write(txt.read().decode('utf-8'))\n",
        "\n",
        "    _download(f'{HOMEWORK_DATA_URL}/{SONGDATA_TRAIN_PATH}', SONGDATA_TRAIN_PATH)\n",
        "    _download(f'{HOMEWORK_DATA_URL}/{SONGDATA_VAL_PATH}', SONGDATA_VAL_PATH)\n",
        "\n",
        "\n",
        "download_data()"
      ]
    },
    {
      "cell_type": "markdown",
      "metadata": {
        "id": "hj0UWhFRmNcm"
      },
      "source": [
        "### Part 1: Language modeling with RNNs\n",
        "\n",
        "For the first part of this assignment, you will train a character-level language model on a lyrics dataset.\n",
        "\n",
        "More specifically, you will:\n",
        "1. Implement a character-level language model based on recurrent neural networks.\n",
        "2. Train it on a lyrics dataset.\n",
        "3. Sample previously unseen lyrics from our model.\n",
        "4. Augment your model with an artist information, so that you can generate songs conditioned on some artist.\n",
        "\n",
        "Let's get started!\n",
        "\n",
        "#### Character-Level language model\n",
        "\n",
        "![alt text](http://warmspringwinds.github.io/assets/img/character_level_model.jpg \"Logo Title Text 1\")\n",
        "\n",
        "Before choosing a model, let’s have a closer look at our task. Given current letter and all previous letters, we will try to predict the next character. During training we will just take a sequence, and use all its characters except the last one as an input and the same sequence starting from the second character as groundtruth (see the picture above).\n",
        "\n",
        "Our language model is defined on a character level. We will create a dictionary which will contain all English characters plus some special symbols, such as period, comma, and end-of-line symbol. Each charecter will be represented as one-hot-encoded tensor. For more information about character-level models and examples, refer to the [the following resource](https://github.com/spro/practical-pytorch).\n",
        "\n",
        "\n",
        "Our objective is to model is _p_(current letter | all previous letters). At first, the task seems intractable as the number of previous letters is variable and it might become really large in case of long sequences."
      ]
    },
    {
      "cell_type": "markdown",
      "metadata": {
        "id": "lb9fEwMBHf3e"
      },
      "source": [
        "<!-- BEGIN QUESTION -->\n",
        "\n",
        "__Question:__ Based on what you learned in Assignment 1, describe how you would deal with this problem? _(3 points)_"
      ]
    },
    {
      "cell_type": "markdown",
      "metadata": {
        "id": "3IDdwQ-aubA2"
      },
      "source": [
        "__Answer:__ "
      ]
    },
    {
      "cell_type": "markdown",
      "metadata": {
        "id": "OtlXvJGxHf3f"
      },
      "source": [
        "In previous assignment, we handled this problem via setting a threshold that determines the length of the sequence generated from the model. That is, our program will stop once the length of the sequence reaches certain value. "
      ]
    },
    {
      "cell_type": "markdown",
      "metadata": {
        "id": "J7b0RJuauGLd"
      },
      "source": [
        "<!-- END QUESTION -->\n",
        "\n",
        "#### Recurrent Neural Networks (RNNs)\n",
        "\n",
        "![alt text](http://warmspringwinds.github.io/assets/img/rnn_unfold.jpg \"Logo Title Text 1\")\n",
        "\n",
        "RNNs are a family of neural networks for processing sequential data. Unlike feedforward neural networks, RNNs can use their internal memory to process arbitrary sequences of inputs. Because of arbitrary size input sequences, they are concisely depicted as a graph with a cycle (see the picture). But they can be “unfolded” if the size of input sequence is known. They define a non-linear mapping from a current input $x_t$ and previous hidden state $s_{t−1}$ to the output $o_t$ and current hidden state $s_t$. Hidden state size has a predefined size and stores features which are updated on each step and affect the result of mapping.\n",
        "\n",
        "Now align the previous picture of the character-level language model and the unfolded RNN picture to see how we are using the RNN model to learn a character level language model.\n",
        "\n",
        "While the picture depicts the Vanilla RNN, LSTMs or GRUs are more commonly used in practice.\n",
        "\n",
        "For a more elaborate introduction to RNNs, we refer reader to [the following resource](http://www.wildml.com/2015/09/recurrent-neural-networks-tutorial-part-1-introduction-to-rnns/).\n"
      ]
    },
    {
      "cell_type": "markdown",
      "metadata": {
        "id": "8neiuy1SHf3f"
      },
      "source": [
        "<!-- BEGIN QUESTION -->\n",
        "\n",
        "__Question:__ Why are LSTMs/GRUs preferred over RNNs? _(3 points)_"
      ]
    },
    {
      "cell_type": "markdown",
      "metadata": {
        "id": "pvoUw3D7yG0r"
      },
      "source": [
        "__Answer:__ "
      ]
    },
    {
      "cell_type": "markdown",
      "metadata": {
        "id": "eobcANyqHf3g"
      },
      "source": [
        "The vanilla RNN has difficulties learning long time dependency due to the vanishing/exploding gradient problem.  LSTM and GRUs are designed to take care this gradient problem.  "
      ]
    },
    {
      "cell_type": "markdown",
      "metadata": {
        "id": "cxyGXlYGnkuK"
      },
      "source": [
        "<!-- END QUESTION -->\n",
        "\n",
        "#### Downloading the data\n",
        "\n",
        "For your experiments, you will use a subset of [Song Lyrics Kaggle dataset](https://www.kaggle.com/datasets/deepshah16/song-lyrics-dataset) which contains a good variety of recent artists and more older ones. It is stored as a Pandas file originally, but we will provide you with a Python wrapper to use the data for training your models easily.\n",
        "\n",
        "The dataset is originally split to different csv files. In the homework, we provided a concatenated version for easy processing."
      ]
    },
    {
      "cell_type": "markdown",
      "metadata": {
        "id": "6q4EfBmmox5J"
      },
      "source": [
        "#### Exploring the downloaded data\n",
        "\n",
        "First, let us create a dictionary, we will use 100 characters and some special symbols including $\\n$, which will allow our generator to decide when to move to a new line."
      ]
    },
    {
      "cell_type": "code",
      "execution_count": 9,
      "metadata": {
        "id": "yp6UPpBRpCt1",
        "colab": {
          "base_uri": "https://localhost:8080/"
        },
        "outputId": "0f591b5a-0290-4b58-a113-36b930627ca9"
      },
      "outputs": [
        {
          "output_type": "stream",
          "name": "stdout",
          "text": [
            "0123456789abcdefghijklmnopqrstuvwxyzABCDEFGHIJKLMNOPQRSTUVWXYZ!\"#$%&'()*+,-./:;<=>?@[\\]^_`{|}~ \t\n",
            "\r\u000b\f\n"
          ]
        }
      ],
      "source": [
        "all_characters = string.printable\n",
        "number_of_characters = len(all_characters)\n",
        "\n",
        "print(all_characters)"
      ]
    },
    {
      "cell_type": "markdown",
      "metadata": {
        "id": "g8mlo_01pHs8"
      },
      "source": [
        "Below we will define some helper functions that will help us to convert a character to corresponding\n",
        "labels that we will use for actual training. Read the implementations and figure out what each function does. "
      ]
    },
    {
      "cell_type": "markdown",
      "metadata": {
        "id": "z9Nx7sSyHf3h"
      },
      "source": [
        "<!-- BEGIN QUESTION -->\n",
        "\n",
        "__Question:__ Why would a `pad_sequence` function be required? _(2 points)_"
      ]
    },
    {
      "cell_type": "markdown",
      "metadata": {
        "id": "v8T5nCQ1Hf3h"
      },
      "source": [
        "__Answer:__ "
      ]
    },
    {
      "cell_type": "markdown",
      "metadata": {
        "id": "2aIz5fLKHf3h"
      },
      "source": [
        "If we have a collection of vectors with the same length, then we can stack them and make a matrix (tensor), which will facilitate the training."
      ]
    },
    {
      "cell_type": "code",
      "execution_count": 10,
      "metadata": {
        "id": "JFnPzBRtpMYM"
      },
      "outputs": [],
      "source": [
        "def character_to_label(character: str, oov_label: int = OOV_LABEL) -> int:\n",
        "    \"\"\"Maps a character to an int from the vocabulary.\"\"\"\n",
        "    character_label = all_characters.find(character)\n",
        "    if character_label == -1:  # Not found in the vocab\n",
        "        return oov_label\n",
        "    return character_label\n",
        "\n",
        "\n",
        "def string_to_labels(character_string: str, oov_label: int = OOV_LABEL) -> List[int]:\n",
        "    \"\"\"Maps a string to a list of int as a label sequence.\"\"\"\n",
        "    return list(map(lambda character: character_to_label(character, oov_label=oov_label), character_string))\n",
        "\n",
        "\n",
        "def token_ids_to_str(token_ids: List[int]) -> str:\n",
        "    return ''.join([all_characters[x] for x in token_ids])\n",
        "\n",
        "\n",
        "def pad_sequence(seq: torch.Tensor, max_length: int, pad_label: int = PADDING_LABEL) -> torch.Tensor:\n",
        "    \"\"\"Pads a sequence to the maximum length with a padding label.\n",
        "\n",
        "    Parameters\n",
        "    ----------\n",
        "    seq : torch.Tensor\n",
        "        A tensor represents a sequence in the shape of (seq_len)\n",
        "    max_length : int\n",
        "        If the sequence is shorter than this, pad it to this length.\n",
        "    pad_label : int\n",
        "        The label used to pad.\n",
        "\n",
        "    Returns\n",
        "    -------\n",
        "    padded_seq : torch.Tensor\n",
        "        The padded sequence in the shape of (max_length)\n",
        "    \"\"\"\n",
        "    current_len = seq.shape[-1]\n",
        "    assert current_len <= max_length, f'The current length {current_len} is already larger than the max_length={max_length}.'\n",
        "    if current_len == max_length:\n",
        "        return seq\n",
        "    padded_seq = torch.cat(\n",
        "        [\n",
        "            seq,\n",
        "            torch.tensor([pad_label], dtype=seq.dtype, device=seq.device).expand(*seq.shape[:-1],\n",
        "                                                                                 max_length - current_len)\n",
        "        ], dim=-1)\n",
        "    return padded_seq"
      ]
    },
    {
      "cell_type": "markdown",
      "metadata": {
        "id": "kSVcI3QSHf3i"
      },
      "source": [
        "Now we will define a dataset class that will take care of loading data from the dataset. Complete the `__getitem__` function below. Specifically, your job is to obtain input-output pairs of sequences from the data.\n",
        "\n",
        "Then, you will have to implement a `collate_fn()` in the `LyricsGenerationDataModule` class, which wraps PyTorch datasets to be a PyTorch Lightning DataModule that describes how data is loaded for different splits. _(6 points)_\n",
        "\n",
        "__Note:__\n",
        "Why padding? PyTorch is the framework that does tensor computation with automatic differentiation support. When dealing with sequences in different lengths, we have to pad them to the same length, namely the maximum length, to construct a tensor. Imaging that you have a list of vectors with different lengths, you cannot directly put them together to get a matrix; instead, you have to first pad them with some value (padding value) to make them in the same length, and then concate them to get a matrix."
      ]
    },
    {
      "cell_type": "code",
      "execution_count": 11,
      "metadata": {
        "id": "gNGk1TS_Hf3i"
      },
      "outputs": [],
      "source": [
        "# Here are the artists\n",
        "ARTISTS = [\n",
        "    'Dua Lipa',\n",
        "    'Ariana Grande',\n",
        "    'Charlie Puth',\n",
        "    'Drake',\n",
        "    'BTS (방탄소년단)',\n",
        "    'Billie Eilish',\n",
        "    'Cardi B',\n",
        "    'Eminem',\n",
        "    'Lady Gaga',\n",
        "    'Nicki Minaj',\n",
        "    'Beyoncé',\n",
        "    'Maroon 5',\n",
        "    'Ed Sheeran',\n",
        "    'Justin Bieber',\n",
        "    'Taylor Swift',\n",
        "    'Selena Gomez',\n",
        "    'Coldplay',\n",
        "    'Rihanna',\n",
        "    'Katy Perry',\n",
        "    'Post Malone',\n",
        "    'Khalid'\n",
        "]\n",
        "\n",
        "\n",
        "@dataclass\n",
        "class LyricsGenerationTensor:\n",
        "    \"\"\"Describes input instance/batch to the model.\"\"\"\n",
        "    input_sequence: torch.Tensor\n",
        "    output_sequence: torch.Tensor\n",
        "    sequence_length: torch.Tensor"
      ]
    },
    {
      "cell_type": "code",
      "execution_count": 12,
      "metadata": {
        "id": "jxryOy3AqPDL",
        "tags": []
      },
      "outputs": [],
      "source": [
        "class LyricsGenerationDataset(Dataset):\n",
        "    \"\"\"A dataset class that reads the song dataset.\n",
        "    \"\"\"\n",
        "\n",
        "    def __init__(self,\n",
        "                 csv_file_path: str,\n",
        "                 minimum_song_count: Optional[int] = None,\n",
        "                 artists: Optional[List[str]] = None,\n",
        "                 oov_label: int = OOV_LABEL):\n",
        "        \"\"\"\n",
        "        Parameters\n",
        "        ----------\n",
        "        csv_file_path : str\n",
        "            The path to the dataset CSV file.\n",
        "        minimum_song_count : int, optional\n",
        "            The default is None, which means not filtering.\n",
        "            Filter artists that do not have at least the minimum number of songs.\n",
        "        artists : List[str], optional\n",
        "            The default is None, which means not filtering.\n",
        "            Filter artists by their names.\n",
        "        oov_label : int, optional\n",
        "            The default is OOV_LABEL. The label for out of the vocabulary label.\n",
        "        \"\"\"\n",
        "        raw_dataframe = pd.read_csv(csv_file_path)\n",
        "        # Filters out NaN\n",
        "        raw_dataframe = raw_dataframe[~ raw_dataframe.Lyric.isnull()]\n",
        "        # Filters out length=1 as they would result in length=0 in the training\n",
        "        self.lyrics_dataframe = raw_dataframe[raw_dataframe.Lyric.str.len() > 1]\n",
        "\n",
        "        if artists:\n",
        "            self.lyrics_dataframe = self.lyrics_dataframe[self.lyrics_dataframe.Artist.isin(artists)]\n",
        "            self.lyrics_dataframe = self.lyrics_dataframe.reset_index()\n",
        "\n",
        "        if minimum_song_count:\n",
        "            self.lyrics_dataframe = self.lyrics_dataframe.groupby('Artist').filter(\n",
        "                lambda x: len(x) > minimum_song_count)\n",
        "            self.lyrics_dataframe = self.lyrics_dataframe.reset_index()\n",
        "\n",
        "        self.artists_list = list(self.lyrics_dataframe.Artist.unique())\n",
        "        self.number_of_artists = len(self.artists_list)\n",
        "        self.oov_label = oov_label\n",
        "\n",
        "    def __len__(self) -> int:\n",
        "        \"\"\"Returns the number of instances read in the dataset.\"\"\"\n",
        "        return len(self.lyrics_dataframe)\n",
        "\n",
        "    def __getitem__(self, index: int) -> LyricsGenerationTensor:\n",
        "        assert index < len(self), f'{index} exceeds the dataset length.'\n",
        "\n",
        "        sequence_raw_string: str = self.lyrics_dataframe.loc[index].Lyric\n",
        "        sequence_string_labels: List[int] = string_to_labels(sequence_raw_string, oov_label=self.oov_label)\n",
        "        sequence_length: int = len(sequence_string_labels) - 1\n",
        "\n",
        "        # Generate input and output sequence (shifted by 1 character)\n",
        "        # from the sequence_string_labels\n",
        "        # TODO: Your code here\n",
        "        input_sequence=torch.tensor(sequence_string_labels[0:-1])\n",
        "        output_sequence=torch.tensor(sequence_string_labels[1:])\n",
        "\n",
        "        # Returns a `LyricsGenerationInstance`\n",
        "        # TODO: Your code here\n",
        "        out=LyricsGenerationTensor(input_sequence,output_sequence,torch.tensor([sequence_length])) \n",
        "\n",
        "        return out"
      ]
    },
    {
      "cell_type": "code",
      "execution_count": 13,
      "metadata": {
        "tags": [],
        "id": "JiKvpedMHf3j"
      },
      "outputs": [],
      "source": [
        "class LyricsGenerationDataModule(pl.LightningDataModule):\n",
        "    \"\"\"Wraps PyTorch dataset as a lightning data module.\"\"\"\n",
        "\n",
        "    def __init__(self,\n",
        "                 dataset_paths: Dict[str, str],\n",
        "                 artists: List[str],\n",
        "                 batch_size: int = 32,\n",
        "                 shuffle: bool = True,\n",
        "                 padding_label: int = PADDING_LABEL,\n",
        "                 oov_label: int = OOV_LABEL):\n",
        "        super(LyricsGenerationDataModule, self).__init__()\n",
        "        self.datasets: Dict[str, Dataset] = {\n",
        "            k: LyricsGenerationDataset(csv_file_path=v, artists=artists, oov_label=oov_label)\n",
        "            for k, v in dataset_paths.items()\n",
        "            if k in ('train', 'val', 'test')\n",
        "        }\n",
        "        self.batch_size = batch_size\n",
        "        self.shuffle = shuffle\n",
        "        self.padding_label = padding_label\n",
        "        self.oov_label = oov_label\n",
        "\n",
        "    @staticmethod\n",
        "    def collate_fn(padding_label: int, instances: List[LyricsGenerationTensor]) -> LyricsGenerationTensor:\n",
        "        \"\"\"Collates a list of instances and composes a batch.\n",
        "\n",
        "        The function does the following things:\n",
        "        1. Get a sequence field from `LyricsGenerationTensor`, e.g., `input_sequence`.\n",
        "        2. Figure out the maximum length for this field within a batch.\n",
        "        3. Pad sequences within the batch to the maximum length. Padding means making all sequences\n",
        "        the same length by filling the blanks with irrelevant tokens (pad_label).\n",
        "        4. Stack padded sequences together to form a new tensor. This can be done via `torch.stack)\n",
        "        Shape before padding - (seq_len) -> (max_seq_len)\n",
        "        After batching - (batch_size, max_seq_len)\n",
        "        5. Repeat 1 - 4 and create a new `LyricsGenerationTensor`.\n",
        "\n",
        "        Parameters\n",
        "        ----------\n",
        "        padding_label : int\n",
        "            The label is to be used to pad sequences.\n",
        "        instances : List[LyricsGenerationTensor]\n",
        "            A list of `LyricsGenerationTensor` to comprise.\n",
        "\n",
        "        Returns\n",
        "        -------\n",
        "        batch : LyricsGenerationTensor\n",
        "            A single `LyricsGenerationTensor` where tensors are batched instances\n",
        "        \"\"\"\n",
        "        # Pad sequences so that all of them have the same length. For\n",
        "        # the output sequence, use pad_label=self.padding_label so that it is omitted\n",
        "        # in cross-entropy loss --- and can be accessed later when creating the loss func.\n",
        "        # TODO: Your code here\n",
        "        \n",
        "        # first we need to determine the length of the longest sequence\n",
        "        max_length=0\n",
        "        for i in range(len(instances)):\n",
        "          instance_length=instances[i].sequence_length\n",
        "          if instance_length>max_length:\n",
        "            max_length=instance_length\n",
        "\n",
        "        input_batch=[]\n",
        "        output_batch=[]\n",
        "        sequence_batch=[]\n",
        "        for i in range(len(instances)):\n",
        "          input_batch.append(pad_sequence(instances[i].input_sequence,max_length=max_length,pad_label=padding_label))\n",
        "          output_batch.append(pad_sequence(instances[i].output_sequence,max_length=max_length,pad_label=padding_label))\n",
        "          sequence_batch.append(instances[i].sequence_length)\n",
        "\n",
        "        a=torch.stack(input_batch,dim=0)\n",
        "        b=torch.stack(output_batch,dim=0)\n",
        "\n",
        "        c=torch.tensor(sequence_batch)\n",
        "\n",
        "        return LyricsGenerationTensor(a,b,c)\n",
        "\n",
        "    def train_dataloader(self):\n",
        "        return DataLoader(self.datasets['train'],\n",
        "                          batch_size=self.batch_size,\n",
        "                          shuffle=self.shuffle,\n",
        "                          collate_fn=lambda x: self.collate_fn(self.padding_label, x))\n",
        "\n",
        "    def val_dataloader(self):\n",
        "        return DataLoader(self.datasets['val'],\n",
        "                          batch_size=self.batch_size,\n",
        "                          shuffle=False,\n",
        "                          collate_fn=lambda x: self.collate_fn(self.padding_label, x))\n",
        "\n",
        "    def test_dataloader(self):\n",
        "        return DataLoader(self.datasets['test'],\n",
        "                          batch_size=self.batch_size,\n",
        "                          shuffle=False,\n",
        "                          collate_fn=lambda x: self.collate_fn(self.padding_label, x))"
      ]
    },
    {
      "cell_type": "code",
      "execution_count": 14,
      "metadata": {
        "tags": [],
        "id": "KHonZx8IHf3k"
      },
      "outputs": [],
      "source": [
        "lyrics_gen_data_module = LyricsGenerationDataModule(\n",
        "    dataset_paths={'train': SONGDATA_TRAIN_PATH, 'val': SONGDATA_VAL_PATH},\n",
        "    artists=ARTISTS,\n",
        "    batch_size=32,\n",
        "    shuffle=True\n",
        ")"
      ]
    },
    {
      "cell_type": "code",
      "execution_count": 15,
      "metadata": {
        "tags": [],
        "id": "YHfdTBlCHf3k",
        "colab": {
          "base_uri": "https://localhost:8080/",
          "height": 424
        },
        "outputId": "d69f7bb6-0dee-4047-cd76-0bd1977fc076"
      },
      "outputs": [
        {
          "output_type": "execute_result",
          "data": {
            "text/plain": [
              "      index  Unnamed: 0    Artist                                   Title  \\\n",
              "0         0           0  Dua Lipa                               New Rules   \n",
              "1         1           2  Dua Lipa                                   IDGAF   \n",
              "2         2           3  Dua Lipa                   Blow Your Mind (Mwah)   \n",
              "3         3           4  Dua Lipa                              Be the One   \n",
              "4         4           5  Dua Lipa                          Break My Heart   \n",
              "...     ...         ...       ...                                     ...   \n",
              "4221   4252        6021    Khalid                              Young dumb   \n",
              "4222   4253        6022    Khalid  Khalid - Vertigo  (Tradução Português)   \n",
              "4223   4254        6023    Khalid               Better (Miles Away Remix)   \n",
              "4224   4255        6024    Khalid  Khalid - Better (Official Music Video)   \n",
              "4225   4256        6025    Khalid                           Perfect Lover   \n",
              "\n",
              "                 Album  Year        Date  \\\n",
              "0             Dua Lipa  2017  2017-06-02   \n",
              "1             Dua Lipa  2017  2017-06-02   \n",
              "2             Dua Lipa  2016  2016-08-26   \n",
              "3             Dua Lipa  2015  2015-10-30   \n",
              "4     Future Nostalgia  2020  2020-03-25   \n",
              "...                ...   ...         ...   \n",
              "4221               NaN  2017  2017-02-02   \n",
              "4222               NaN  2018  2018-10-28   \n",
              "4223               NaN  2018  2018-12-12   \n",
              "4224               NaN  2018  2018-05-07   \n",
              "4225               NaN   NaN         NaN   \n",
              "\n",
              "                                                  Lyric  \n",
              "0     one one one one one   talkin' in my sleep at n...  \n",
              "1     you call me all friendly tellin' me how much y...  \n",
              "2     i know it's hot i know we've got something tha...  \n",
              "3     i see the moon i see the moon i see the moon o...  \n",
              "4     i've always been the one to say the first good...  \n",
              "...                                                 ...  \n",
              "4221  so you're still thinking of me just like i kno...  \n",
              "4222  será que é melhor apenas acreditar nas teorias...  \n",
              "4223  i'm not really drunk i never get that fucked u...  \n",
              "4224  users considering it's a virus or malware must...  \n",
              "4225  lyrics for this song have yet to be released p...  \n",
              "\n",
              "[4226 rows x 8 columns]"
            ],
            "text/html": [
              "\n",
              "  <div id=\"df-1dc1b8b1-fdd8-48b1-a486-6d42582911a2\">\n",
              "    <div class=\"colab-df-container\">\n",
              "      <div>\n",
              "<style scoped>\n",
              "    .dataframe tbody tr th:only-of-type {\n",
              "        vertical-align: middle;\n",
              "    }\n",
              "\n",
              "    .dataframe tbody tr th {\n",
              "        vertical-align: top;\n",
              "    }\n",
              "\n",
              "    .dataframe thead th {\n",
              "        text-align: right;\n",
              "    }\n",
              "</style>\n",
              "<table border=\"1\" class=\"dataframe\">\n",
              "  <thead>\n",
              "    <tr style=\"text-align: right;\">\n",
              "      <th></th>\n",
              "      <th>index</th>\n",
              "      <th>Unnamed: 0</th>\n",
              "      <th>Artist</th>\n",
              "      <th>Title</th>\n",
              "      <th>Album</th>\n",
              "      <th>Year</th>\n",
              "      <th>Date</th>\n",
              "      <th>Lyric</th>\n",
              "    </tr>\n",
              "  </thead>\n",
              "  <tbody>\n",
              "    <tr>\n",
              "      <th>0</th>\n",
              "      <td>0</td>\n",
              "      <td>0</td>\n",
              "      <td>Dua Lipa</td>\n",
              "      <td>New Rules</td>\n",
              "      <td>Dua Lipa</td>\n",
              "      <td>2017</td>\n",
              "      <td>2017-06-02</td>\n",
              "      <td>one one one one one   talkin' in my sleep at n...</td>\n",
              "    </tr>\n",
              "    <tr>\n",
              "      <th>1</th>\n",
              "      <td>1</td>\n",
              "      <td>2</td>\n",
              "      <td>Dua Lipa</td>\n",
              "      <td>IDGAF</td>\n",
              "      <td>Dua Lipa</td>\n",
              "      <td>2017</td>\n",
              "      <td>2017-06-02</td>\n",
              "      <td>you call me all friendly tellin' me how much y...</td>\n",
              "    </tr>\n",
              "    <tr>\n",
              "      <th>2</th>\n",
              "      <td>2</td>\n",
              "      <td>3</td>\n",
              "      <td>Dua Lipa</td>\n",
              "      <td>Blow Your Mind (Mwah)</td>\n",
              "      <td>Dua Lipa</td>\n",
              "      <td>2016</td>\n",
              "      <td>2016-08-26</td>\n",
              "      <td>i know it's hot i know we've got something tha...</td>\n",
              "    </tr>\n",
              "    <tr>\n",
              "      <th>3</th>\n",
              "      <td>3</td>\n",
              "      <td>4</td>\n",
              "      <td>Dua Lipa</td>\n",
              "      <td>Be the One</td>\n",
              "      <td>Dua Lipa</td>\n",
              "      <td>2015</td>\n",
              "      <td>2015-10-30</td>\n",
              "      <td>i see the moon i see the moon i see the moon o...</td>\n",
              "    </tr>\n",
              "    <tr>\n",
              "      <th>4</th>\n",
              "      <td>4</td>\n",
              "      <td>5</td>\n",
              "      <td>Dua Lipa</td>\n",
              "      <td>Break My Heart</td>\n",
              "      <td>Future Nostalgia</td>\n",
              "      <td>2020</td>\n",
              "      <td>2020-03-25</td>\n",
              "      <td>i've always been the one to say the first good...</td>\n",
              "    </tr>\n",
              "    <tr>\n",
              "      <th>...</th>\n",
              "      <td>...</td>\n",
              "      <td>...</td>\n",
              "      <td>...</td>\n",
              "      <td>...</td>\n",
              "      <td>...</td>\n",
              "      <td>...</td>\n",
              "      <td>...</td>\n",
              "      <td>...</td>\n",
              "    </tr>\n",
              "    <tr>\n",
              "      <th>4221</th>\n",
              "      <td>4252</td>\n",
              "      <td>6021</td>\n",
              "      <td>Khalid</td>\n",
              "      <td>Young dumb</td>\n",
              "      <td>NaN</td>\n",
              "      <td>2017</td>\n",
              "      <td>2017-02-02</td>\n",
              "      <td>so you're still thinking of me just like i kno...</td>\n",
              "    </tr>\n",
              "    <tr>\n",
              "      <th>4222</th>\n",
              "      <td>4253</td>\n",
              "      <td>6022</td>\n",
              "      <td>Khalid</td>\n",
              "      <td>Khalid - Vertigo  (Tradução Português)</td>\n",
              "      <td>NaN</td>\n",
              "      <td>2018</td>\n",
              "      <td>2018-10-28</td>\n",
              "      <td>será que é melhor apenas acreditar nas teorias...</td>\n",
              "    </tr>\n",
              "    <tr>\n",
              "      <th>4223</th>\n",
              "      <td>4254</td>\n",
              "      <td>6023</td>\n",
              "      <td>Khalid</td>\n",
              "      <td>Better (Miles Away Remix)</td>\n",
              "      <td>NaN</td>\n",
              "      <td>2018</td>\n",
              "      <td>2018-12-12</td>\n",
              "      <td>i'm not really drunk i never get that fucked u...</td>\n",
              "    </tr>\n",
              "    <tr>\n",
              "      <th>4224</th>\n",
              "      <td>4255</td>\n",
              "      <td>6024</td>\n",
              "      <td>Khalid</td>\n",
              "      <td>Khalid - Better (Official Music Video)</td>\n",
              "      <td>NaN</td>\n",
              "      <td>2018</td>\n",
              "      <td>2018-05-07</td>\n",
              "      <td>users considering it's a virus or malware must...</td>\n",
              "    </tr>\n",
              "    <tr>\n",
              "      <th>4225</th>\n",
              "      <td>4256</td>\n",
              "      <td>6025</td>\n",
              "      <td>Khalid</td>\n",
              "      <td>Perfect Lover</td>\n",
              "      <td>NaN</td>\n",
              "      <td>NaN</td>\n",
              "      <td>NaN</td>\n",
              "      <td>lyrics for this song have yet to be released p...</td>\n",
              "    </tr>\n",
              "  </tbody>\n",
              "</table>\n",
              "<p>4226 rows × 8 columns</p>\n",
              "</div>\n",
              "      <button class=\"colab-df-convert\" onclick=\"convertToInteractive('df-1dc1b8b1-fdd8-48b1-a486-6d42582911a2')\"\n",
              "              title=\"Convert this dataframe to an interactive table.\"\n",
              "              style=\"display:none;\">\n",
              "        \n",
              "  <svg xmlns=\"http://www.w3.org/2000/svg\" height=\"24px\"viewBox=\"0 0 24 24\"\n",
              "       width=\"24px\">\n",
              "    <path d=\"M0 0h24v24H0V0z\" fill=\"none\"/>\n",
              "    <path d=\"M18.56 5.44l.94 2.06.94-2.06 2.06-.94-2.06-.94-.94-2.06-.94 2.06-2.06.94zm-11 1L8.5 8.5l.94-2.06 2.06-.94-2.06-.94L8.5 2.5l-.94 2.06-2.06.94zm10 10l.94 2.06.94-2.06 2.06-.94-2.06-.94-.94-2.06-.94 2.06-2.06.94z\"/><path d=\"M17.41 7.96l-1.37-1.37c-.4-.4-.92-.59-1.43-.59-.52 0-1.04.2-1.43.59L10.3 9.45l-7.72 7.72c-.78.78-.78 2.05 0 2.83L4 21.41c.39.39.9.59 1.41.59.51 0 1.02-.2 1.41-.59l7.78-7.78 2.81-2.81c.8-.78.8-2.07 0-2.86zM5.41 20L4 18.59l7.72-7.72 1.47 1.35L5.41 20z\"/>\n",
              "  </svg>\n",
              "      </button>\n",
              "      \n",
              "  <style>\n",
              "    .colab-df-container {\n",
              "      display:flex;\n",
              "      flex-wrap:wrap;\n",
              "      gap: 12px;\n",
              "    }\n",
              "\n",
              "    .colab-df-convert {\n",
              "      background-color: #E8F0FE;\n",
              "      border: none;\n",
              "      border-radius: 50%;\n",
              "      cursor: pointer;\n",
              "      display: none;\n",
              "      fill: #1967D2;\n",
              "      height: 32px;\n",
              "      padding: 0 0 0 0;\n",
              "      width: 32px;\n",
              "    }\n",
              "\n",
              "    .colab-df-convert:hover {\n",
              "      background-color: #E2EBFA;\n",
              "      box-shadow: 0px 1px 2px rgba(60, 64, 67, 0.3), 0px 1px 3px 1px rgba(60, 64, 67, 0.15);\n",
              "      fill: #174EA6;\n",
              "    }\n",
              "\n",
              "    [theme=dark] .colab-df-convert {\n",
              "      background-color: #3B4455;\n",
              "      fill: #D2E3FC;\n",
              "    }\n",
              "\n",
              "    [theme=dark] .colab-df-convert:hover {\n",
              "      background-color: #434B5C;\n",
              "      box-shadow: 0px 1px 3px 1px rgba(0, 0, 0, 0.15);\n",
              "      filter: drop-shadow(0px 1px 2px rgba(0, 0, 0, 0.3));\n",
              "      fill: #FFFFFF;\n",
              "    }\n",
              "  </style>\n",
              "\n",
              "      <script>\n",
              "        const buttonEl =\n",
              "          document.querySelector('#df-1dc1b8b1-fdd8-48b1-a486-6d42582911a2 button.colab-df-convert');\n",
              "        buttonEl.style.display =\n",
              "          google.colab.kernel.accessAllowed ? 'block' : 'none';\n",
              "\n",
              "        async function convertToInteractive(key) {\n",
              "          const element = document.querySelector('#df-1dc1b8b1-fdd8-48b1-a486-6d42582911a2');\n",
              "          const dataTable =\n",
              "            await google.colab.kernel.invokeFunction('convertToInteractive',\n",
              "                                                     [key], {});\n",
              "          if (!dataTable) return;\n",
              "\n",
              "          const docLinkHtml = 'Like what you see? Visit the ' +\n",
              "            '<a target=\"_blank\" href=https://colab.research.google.com/notebooks/data_table.ipynb>data table notebook</a>'\n",
              "            + ' to learn more about interactive tables.';\n",
              "          element.innerHTML = '';\n",
              "          dataTable['output_type'] = 'display_data';\n",
              "          await google.colab.output.renderOutput(dataTable, element);\n",
              "          const docLink = document.createElement('div');\n",
              "          docLink.innerHTML = docLinkHtml;\n",
              "          element.appendChild(docLink);\n",
              "        }\n",
              "      </script>\n",
              "    </div>\n",
              "  </div>\n",
              "  "
            ]
          },
          "metadata": {},
          "execution_count": 15
        }
      ],
      "source": [
        "# Let us inspect the dataset quickly\n",
        "lyrics_gen_data_module.datasets['train'].lyrics_dataframe"
      ]
    },
    {
      "cell_type": "code",
      "execution_count": 16,
      "metadata": {
        "tags": [],
        "id": "4RkXOD08Hf3l",
        "colab": {
          "base_uri": "https://localhost:8080/"
        },
        "outputId": "c2ac3b83-9b0a-4db7-e5b9-f6a16a8716b7"
      },
      "outputs": [
        {
          "output_type": "stream",
          "name": "stdout",
          "text": [
            "4226\n",
            "887\n"
          ]
        }
      ],
      "source": [
        "print(len(lyrics_gen_data_module.datasets['train']))\n",
        "print(len(lyrics_gen_data_module.datasets['val']))"
      ]
    },
    {
      "cell_type": "code",
      "execution_count": 17,
      "metadata": {
        "deletable": false,
        "editable": false,
        "id": "pSUHjJ09Hf3l",
        "colab": {
          "base_uri": "https://localhost:8080/",
          "height": 46
        },
        "outputId": "60978b02-5afd-49a6-84ab-8478f0062d3b"
      },
      "outputs": [
        {
          "output_type": "execute_result",
          "data": {
            "text/plain": [
              "rnnnlm-lyric-gen-dataset-impl results: All test cases passed!"
            ],
            "text/html": [
              "<p><strong><pre style='display: inline;'>rnnnlm-lyric-gen-dataset-impl</pre></strong> passed!</p>"
            ]
          },
          "metadata": {},
          "execution_count": 17
        }
      ],
      "source": [
        "grader.check(\"rnnnlm-lyric-gen-dataset-impl\")"
      ]
    },
    {
      "cell_type": "markdown",
      "metadata": {
        "id": "4krJ8S-jsub7"
      },
      "source": [
        "#### Implementing an RNN class\n",
        "\n",
        "First, we will implement a __vanilla RNN__ using PyTorch. Fill in the code block below to complete the implementation. _(8 points)_"
      ]
    },
    {
      "cell_type": "code",
      "execution_count": 18,
      "metadata": {
        "id": "f3oH_06ms5sF",
        "tags": []
      },
      "outputs": [],
      "source": [
        "class VanillaRNN(nn.Module):\n",
        "    def __init__(self,\n",
        "                 input_size: int = 101,\n",
        "                 hidden_size: int = 512,\n",
        "                 num_classes: int = 100,\n",
        "                 n_layers: int = 2,\n",
        "                 padding_label: int = PADDING_LABEL):\n",
        "        # input_size = 101 -- 100 characters + background character\n",
        "        # num_classes = 100 -- we predict what character goes next\n",
        "        super(VanillaRNN, self).__init__()\n",
        "\n",
        "        self.input_size = input_size\n",
        "        self.hidden_size = hidden_size\n",
        "        self.num_classes = num_classes\n",
        "        self.n_layers = n_layers\n",
        "        self.padding_label = padding_label\n",
        "\n",
        "        # input_size -- size of the dictionary + 1 (accounts for padding constant)\n",
        "        # Below use nn.Embedding to map from input_size to hidden_size\n",
        "        # nn.Embedding converts labels into one-hot encoding and runs a linear\n",
        "        # layer on each of the converted one-hot encoded elements\n",
        "        # TODO: Your code here\n",
        "        self.embeddings = nn.Embedding(self.input_size,self.hidden_size,self.padding_label)\n",
        "        \n",
        "\n",
        "        # Below use nn.RNN that accepts hidden_size as input size,\n",
        "        # and has hidden size equal to hidden_size argument and n_layers\n",
        "        # You have to set `batch_first=True` to make it compatible with\n",
        "        # the `forward()` method.\n",
        "        # TODO: Your code here\n",
        "        self.rnn = nn.RNN(self.hidden_size,self.hidden_size,self.n_layers,batch_first=True)\n",
        "        \n",
        "\n",
        "        # Below use nn.Linear to make representation of hidden_size\n",
        "        # to the number of classes that will be fed to softmax\n",
        "        # to decide which character goes next\n",
        "        # TODO: Your code here\n",
        "        self.ffnn = nn.Linear(self.hidden_size, self.num_classes)\n",
        "\n",
        "    def forward(self,\n",
        "                input_sequences: torch.Tensor,\n",
        "                input_sequences_lengths: torch.Tensor,\n",
        "                hidden: Optional[torch.Tensor] = None) -> Tuple[torch.Tensor, torch.Tensor]:\n",
        "        \"\"\"Runs the forward pass for the model.\n",
        "\n",
        "        Parameters\n",
        "        ----------\n",
        "        input_sequences : torch.Tensor\n",
        "            A batch of padded input sequences in the shape of\n",
        "            (batch_size, sequence_length)\n",
        "        input_sequences_lengths : torch.Tensor\n",
        "            A batch of sequence lengths in the shape of (batch_size)\n",
        "        hidden : torch.Tensor, optional\n",
        "            A batch of hidden states in the shape of\n",
        "            (num_layers, batch_size, hidden_size)\n",
        "\n",
        "        Returns\n",
        "        -------\n",
        "        logits_flatten : torch.Tensor\n",
        "            A batch of logits in the shape of\n",
        "            (batch_size, sequence_length, num_classes)\n",
        "        updated_hidden : torch.Tensor\n",
        "            A batch of updated hidden states in the shape of\n",
        "            (num_layers, batch_size, hidden_size)\n",
        "\n",
        "        \"\"\"\n",
        "        # Shape: (batch_size, sequence_length, hidden_size)\n",
        "        embedded = self.embeddings(input_sequences)\n",
        "\n",
        "        # This is needed for efficient processing of sequences of\n",
        "        # variable lengths. Feel free to skip\n",
        "        # Here we run rnns only on non-padded regions of the batch\n",
        "        # Shape: (batch_size, sequence_length, hidden_size)\n",
        "        packed: PackedSequence = torch.nn.utils.rnn.pack_padded_sequence(embedded,\n",
        "                                                                         input_sequences_lengths.cpu(),\n",
        "                                                                         batch_first=True,\n",
        "                                                                         enforce_sorted=False)\n",
        "\n",
        "        # `outputs` shape: (batch_size, sequence_length, hidden_size)\n",
        "        # `updated_hidden` shape: (num_layers, batch_size, hidden_size)\n",
        "        outputs, updated_hidden = self.rnn(packed, hidden)\n",
        "        # `unpacked_outputs` shape: (batch_size, sequence_length, hidden_size)\n",
        "        # `output_lengths` shape: (batch_size)\n",
        "        # Unpacks (back to padded)\n",
        "        unpacked_outputs, output_lengths = torch.nn.utils.rnn.pad_packed_sequence(outputs,\n",
        "                                                                                  batch_first=True)\n",
        "\n",
        "        # Shape: (batch_size, sequence_length, num_classes)\n",
        "        logits = self.ffnn(unpacked_outputs)\n",
        "\n",
        "        return logits, updated_hidden"
      ]
    },
    {
      "cell_type": "code",
      "execution_count": 19,
      "metadata": {
        "deletable": false,
        "editable": false,
        "id": "r83Y5yDYHf3n",
        "colab": {
          "base_uri": "https://localhost:8080/",
          "height": 46
        },
        "outputId": "01685e24-9f46-46a0-b316-e61971a98375"
      },
      "outputs": [
        {
          "output_type": "execute_result",
          "data": {
            "text/plain": [
              "rnnnlm-lyric-gen-vanilla-rnn-impl results: All test cases passed!"
            ],
            "text/html": [
              "<p><strong><pre style='display: inline;'>rnnnlm-lyric-gen-vanilla-rnn-impl</pre></strong> passed!</p>"
            ]
          },
          "metadata": {},
          "execution_count": 19
        }
      ],
      "source": [
        "grader.check(\"rnnnlm-lyric-gen-vanilla-rnn-impl\")"
      ]
    },
    {
      "cell_type": "markdown",
      "metadata": {
        "id": "k2Fkm2DCHf3n"
      },
      "source": [
        "# Training a Vanilla RNN\n",
        "\n",
        "In this part, you would train a Vanilla RNN model that you just implemented above. In order to leverage PyTorch Lightning training loop, we have to first wrap the implemented model with a `LightningModule`. We designate one lightning module as a task that defines different aspects of training, e.g. training steps, validation steps, and loss computation, etc.,. With this design, as long as we are doing the same task, we can flexibly plug-in different model architectures to have them trained under the same formulation. Here, we start with training the lyrics generation task using the `VanillaRNN` implemented above.\n",
        "\n",
        "For the detailed information about Lightning, please refer to its [official documentations](https://pytorch-lightning.readthedocs.io/en/stable/model/train_model_basic.html).\n",
        "\n"
      ]
    },
    {
      "cell_type": "code",
      "execution_count": 20,
      "metadata": {
        "id": "czB7Y9FwHf3n"
      },
      "outputs": [],
      "source": [
        "class LyricsGenerationTask(pl.LightningModule):\n",
        "    \"\"\"Wraps a PyTorch module as a Lightning Module for the lyrics generation task.\"\"\"\n",
        "\n",
        "    def __init__(self, model: nn.Module, learning_rate: float = 0.001, padding_label: int = PADDING_LABEL):\n",
        "        super(LyricsGenerationTask, self).__init__()\n",
        "        self.model = model\n",
        "        self.learning_rate = learning_rate\n",
        "        # Please make sure `ignore_index` is consistent with your `padding_label`.\n",
        "        self.criterion = nn.CrossEntropyLoss(ignore_index=padding_label)\n",
        "\n",
        "    def training_step(self, batch: LyricsGenerationTensor) -> torch.Tensor:\n",
        "        \"\"\"Defines the training step.\n",
        "\n",
        "        Parameters\n",
        "        ----------\n",
        "        batch : LyricsGenerationTensor\n",
        "            The batched training instances.\n",
        "\n",
        "        Returns\n",
        "        -------\n",
        "        loss : torch.Tensor\n",
        "            The loss computed using CrossEntropyLoss.\n",
        "        \"\"\"\n",
        "        logits, _ = self.model(batch.input_sequence, batch.sequence_length)\n",
        "        flattened_output_sequence = batch.output_sequence.view(-1)\n",
        "        # This is needed for cross entropy loss\n",
        "        # Shape: (batch_size * sequence_length, num_classes)\n",
        "        logits_flatten = logits.view(flattened_output_sequence.shape[0], -1)\n",
        "        loss = self.criterion(logits_flatten, flattened_output_sequence)\n",
        "        return loss\n",
        "\n",
        "    def validation_step(self, batch: LyricsGenerationTensor, batch_idx: int) -> torch.Tensor:\n",
        "        \"\"\"Defines the validation step - for this module, we have the same\n",
        "        training and validation behaviors. Usually, we would compute a metric that is\n",
        "        used to select the best performing model checkpoint.\n",
        "\n",
        "        Parameters\n",
        "        ----------\n",
        "        batch : LyricsGenerationTensor\n",
        "            The batched training instances.\n",
        "        batch_idx: int\n",
        "            The index of the batch.\n",
        "\n",
        "        Returns\n",
        "        -------\n",
        "        loss : torch.Tensor\n",
        "            The loss computed using CrossEntropyLoss.\n",
        "        \"\"\"\n",
        "        logits, _ = self.model(batch.input_sequence, batch.sequence_length)\n",
        "        flattened_output_sequence = batch.output_sequence.view(-1)\n",
        "        # This is needed for cross entropy loss\n",
        "        # Shape: (batch_size * sequence_length, num_classes)\n",
        "        logits_flatten = logits.view(flattened_output_sequence.shape[0], -1)\n",
        "        loss = self.criterion(logits_flatten, flattened_output_sequence)\n",
        "        return loss\n",
        "\n",
        "    def configure_optimizers(self):\n",
        "        \"\"\"Configures optimizers for the training.\"\"\"\n",
        "        optimizer = torch.optim.Adam(self.parameters(), lr=self.learning_rate)\n",
        "        return optimizer"
      ]
    },
    {
      "cell_type": "markdown",
      "metadata": {
        "collapsed": false,
        "id": "xtahsTPDHf3o"
      },
      "source": [
        "The model checkpoint for this question should be named as `vanilla_rnn_model.ckpt`. Please follow the instructions to submit checkpoints."
      ]
    },
    {
      "cell_type": "code",
      "execution_count": 27,
      "metadata": {
        "id": "XQZAIBOSHf3o",
        "colab": {
          "base_uri": "https://localhost:8080/",
          "height": 344,
          "referenced_widgets": [
            "13e6abca271c4d77bb9e7d5f9050de3f",
            "abf06928b7fc491e990ca8c4a0bdbc89",
            "885f7771ae694ab99e04383219ac4fe8",
            "390812d88fb24824b2a7d5bc33401544",
            "1cda8defd90b4aa8a0d35d1d54ba8b80",
            "2f6b514bc196497688de546317e5a8dc",
            "d0ed12c282c0479988538513de4f5f51",
            "2b09e77656824f01af089c729c06f581",
            "ada53bfb6007442c98f328eb3b843214",
            "9ba0c266f3854de38729d632a103019a",
            "f65232f9740a4a76aa90d8810dcb4708"
          ]
        },
        "outputId": "dbcddd99-e4e7-47a9-e4a4-8e9dea38588f"
      },
      "outputs": [
        {
          "output_type": "stream",
          "name": "stderr",
          "text": [
            "INFO:pytorch_lightning.utilities.rank_zero:GPU available: False, used: False\n",
            "INFO:pytorch_lightning.utilities.rank_zero:TPU available: False, using: 0 TPU cores\n",
            "INFO:pytorch_lightning.utilities.rank_zero:IPU available: False, using: 0 IPUs\n",
            "INFO:pytorch_lightning.utilities.rank_zero:HPU available: False, using: 0 HPUs\n",
            "WARNING:pytorch_lightning.loggers.tensorboard:Missing logger folder: /content/lightning_logs\n",
            "INFO:pytorch_lightning.callbacks.model_summary:\n",
            "  | Name      | Type             | Params\n",
            "-----------------------------------------------\n",
            "0 | model     | VanillaRNN       | 1.2 M \n",
            "1 | criterion | CrossEntropyLoss | 0     \n",
            "-----------------------------------------------\n",
            "1.2 M     Trainable params\n",
            "0         Non-trainable params\n",
            "1.2 M     Total params\n",
            "4.615     Total estimated model params size (MB)\n"
          ]
        },
        {
          "output_type": "display_data",
          "data": {
            "text/plain": [
              "Sanity Checking: 0it [00:00, ?it/s]"
            ],
            "application/vnd.jupyter.widget-view+json": {
              "version_major": 2,
              "version_minor": 0,
              "model_id": "13e6abca271c4d77bb9e7d5f9050de3f"
            }
          },
          "metadata": {}
        },
        {
          "output_type": "stream",
          "name": "stderr",
          "text": [
            "/usr/local/lib/python3.7/dist-packages/pytorch_lightning/trainer/trainer.py:653: UserWarning: Detected KeyboardInterrupt, attempting graceful shutdown...\n",
            "  rank_zero_warn(\"Detected KeyboardInterrupt, attempting graceful shutdown...\")\n"
          ]
        }
      ],
      "source": [
        "# Training the model for 8 epochs might take about 10 mins\n",
        "vanilla_rnn = VanillaRNN()\n",
        "if is_autograder:  # The autograder would only load your trained checkpoint instead of training a new one\n",
        "    vanilla_rnn_model = LyricsGenerationTask.load_from_checkpoint(checkpoint_path=VANILLA_RNN_MODEL_CKPT_PATH,\n",
        "                                                                  model=vanilla_rnn)\n",
        "else:  # In the student mode, a new model would be trained\n",
        "    vanilla_rnn_model = LyricsGenerationTask(model=vanilla_rnn, learning_rate=0.001)\n",
        "    vanilla_rnn_trainer = pl.Trainer(accelerator=accelerator, max_epochs=8)\n",
        "    vanilla_rnn_trainer.fit(model=vanilla_rnn_model, datamodule=lyrics_gen_data_module)"
      ]
    },
    {
      "cell_type": "code",
      "source": [
        "vanilla_rnn = VanillaRNN()\n",
        "vanilla_rnn_model = LyricsGenerationTask.load_from_checkpoint(checkpoint_path=VANILLA_RNN_MODEL_CKPT_PATH,\n",
        "                                                                  model=vanilla_rnn)"
      ],
      "metadata": {
        "id": "2FVcHy1JBZmK"
      },
      "execution_count": 23,
      "outputs": []
    },
    {
      "cell_type": "markdown",
      "metadata": {
        "collapsed": false,
        "id": "XItaTvesHf3o"
      },
      "source": [
        "#### Text Generation\n",
        "\n",
        "During the text generation process we can define a starting prefix of characters that our model will condition on and generate the rest of the sequence. The process of generating sequence is called decoding. There are multiple ways to decode from encoded hidden representations: **Greedy Decoding** chooses the most probable next word for the current step, **Sampling Decoding** chooses a sample from the probability distribution defined by the logits output by the neural model, **Beam Decoding** keeps a beam of fixed number of possible candidates, etc.,. To get some basic sense of these decoding methods, we would suggest you to read the [blog post](https://towardsdatascience.com/the-three-decoding-methods-for-nlp-23ca59cb1e9d)."
      ]
    },
    {
      "cell_type": "markdown",
      "metadata": {
        "collapsed": false,
        "id": "N66QFbbsHf3p"
      },
      "source": [
        "In this section, we would like to start with a `DecodingStrategy` class and implement **Greedy Decoding**, and then extend it to **Sampling Decoding**. _(15 pts)_"
      ]
    },
    {
      "cell_type": "code",
      "execution_count": 24,
      "metadata": {
        "tags": [],
        "id": "zCqlearnHf3p"
      },
      "outputs": [],
      "source": [
        "@dataclass\n",
        "class Hypothesis:\n",
        "    \"\"\"Stores a hypothesis for the generation.\"\"\"\n",
        "    token_ids: torch.Tensor  # Shape: (batch_size, seq_len)\n",
        "    logits: torch.Tensor  # Shape: (batch_size, seq_len)\n",
        "    lengths: torch.Tensor  # Shape: (batch_size)\n",
        "\n",
        "\n",
        "class DecodingStrategy(object):\n",
        "    def __init__(self, model: nn.Module):\n",
        "        # We have to plug-in the model here\n",
        "        # This is the `torch.nn.Module` instead of the `pl.LightningModule`\n",
        "        self.model = model\n",
        "\n",
        "    @torch.no_grad()\n",
        "    def decode(self, **kwargs) -> List[Hypothesis]:\n",
        "        raise NotImplementedError"
      ]
    },
    {
      "cell_type": "code",
      "execution_count": 25,
      "metadata": {
        "tags": [],
        "id": "o3AFfwZ2Hf3q"
      },
      "outputs": [],
      "source": [
        "class GreedyDecodingStrategy(DecodingStrategy):\n",
        "    @torch.no_grad()\n",
        "    def decode(self,\n",
        "               starting_hyp: Hypothesis,\n",
        "               max_length: int = 300) -> List[Hypothesis]:\n",
        "        \"\"\"Decodes using greedy decoding.\n",
        "\n",
        "        Note:\n",
        "        Please make sure all tensors in the hypothesis are on the\n",
        "        same device as the model.\n",
        "\n",
        "        Parameters\n",
        "        ----------\n",
        "        starting_hyp : Hypothesis\n",
        "            A hypothesis contains one or more generated tokens\n",
        "            for the model to start with.\n",
        "        max_length : int, optional\n",
        "            The default is 300. Set the limit number of tokens\n",
        "            to be in the hypothesis.\n",
        "\n",
        "        Returns\n",
        "        -------\n",
        "        hypotheses : List[Hypothesis]\n",
        "            A list of hypotheses generated by the model.\n",
        "            For GreedyDecoding, it would only generate one, but\n",
        "            keep the list type for compatibility.\n",
        "        \"\"\"\n",
        "        hypotheses: List[Hypothesis] = []\n",
        "        # Shape: (batch_size, seq_len)\n",
        "        input_sequence = starting_hyp.token_ids\n",
        "        # Shape: (batch_size)\n",
        "        sequence_lengths = torch.clone(starting_hyp.lengths)  # Makes sure not modifying the original tensor.\n",
        "        # Shape: (batch_size, seq_len)\n",
        "        logits = starting_hyp.logits\n",
        "\n",
        "        steps_generated = input_sequence.shape[-1]\n",
        "        assert steps_generated < max_length, f'steps_generated={steps_generated} >= max_length={max_length}'\n",
        "        steps_to_go: int = max_length - steps_generated + 1\n",
        "        hidden: Optional[torch.Tensor] = None\n",
        "\n",
        "        # TODO: Your code here\n",
        "        for i in range(steps_to_go):\n",
        "          # compute the logits based on the input batch \n",
        "          logits, hidden_state = self.model(input_sequence, sequence_lengths,hidden)\n",
        "          # sample based on the logits of the latest output\n",
        "          new_logits=logits[:,-1,:]\n",
        "          results= torch.argmax(new_logits,dim=1).reshape(-1,1)\n",
        "          # After getting the sampled output, we can stack them back to the sequence\n",
        "          # we also need to update the hidden states \n",
        "          # update the sequence_lenth\n",
        "          input_sequence=torch.hstack((input_sequence,results))\n",
        "          hidden=hidden_state\n",
        "          sequence_lengths+=1\n",
        "\n",
        "\n",
        "\n",
        "        # produce the output \n",
        "        hypotheses.append(Hypothesis(input_sequence,logits,sequence_lengths))\n",
        "\n",
        "\n",
        "\n",
        "        return hypotheses"
      ]
    },
    {
      "cell_type": "code",
      "execution_count": 27,
      "metadata": {
        "tags": [],
        "id": "gnpTJvbuHf3q",
        "colab": {
          "base_uri": "https://localhost:8080/"
        },
        "outputId": "d56a4ff2-234e-456c-c66d-6bb55af423e9"
      },
      "outputs": [
        {
          "output_type": "stream",
          "name": "stdout",
          "text": [
            "Iache i don't wanna be a start and i want your heart in the start and i want your heart in the start and i want your heart in the start and i want your heart in the start and i want your heart in the start and i want your heart in the start and i want your heart in the start and i want your heart in \n"
          ]
        }
      ],
      "source": [
        "greedy_decoding = GreedyDecodingStrategy(model=vanilla_rnn_model.model)\n",
        "decoded_hypos = greedy_decoding.decode(\n",
        "    starting_hyp=Hypothesis(\n",
        "        token_ids=torch.tensor(string_to_labels('I', oov_label=OOV_LABEL), dtype=torch.long,\n",
        "                               device=vanilla_rnn_model.device).unsqueeze(0),\n",
        "        logits=torch.ones([1, 1], dtype=torch.float, device=vanilla_rnn_model.device),\n",
        "        lengths=torch.ones([1], dtype=torch.long, device=vanilla_rnn_model.device)\n",
        "    ),\n",
        ")\n",
        "print(''.join([all_characters[x] for x in decoded_hypos[0].token_ids.tolist()[0]]))"
      ]
    },
    {
      "cell_type": "code",
      "execution_count": 28,
      "metadata": {
        "deletable": false,
        "editable": false,
        "id": "I2n0fWetHf3q",
        "colab": {
          "base_uri": "https://localhost:8080/",
          "height": 46
        },
        "outputId": "a4dd035a-6912-47f9-e990-6c83e6949212"
      },
      "outputs": [
        {
          "output_type": "execute_result",
          "data": {
            "text/plain": [
              "rnnnlm-lyric-gen-greedy-decoding results: All test cases passed!"
            ],
            "text/html": [
              "<p><strong><pre style='display: inline;'>rnnnlm-lyric-gen-greedy-decoding</pre></strong> passed!</p>"
            ]
          },
          "metadata": {},
          "execution_count": 28
        }
      ],
      "source": [
        "grader.check(\"rnnnlm-lyric-gen-greedy-decoding\")"
      ]
    },
    {
      "cell_type": "markdown",
      "metadata": {
        "collapsed": false,
        "id": "cqDvlB3lHf3q"
      },
      "source": [
        "The model generates each new token (characters in our case) by sampling from the output probability distribution. When sampling, we can set a `temperature` parameter that controls the randomness of the sampling process.\n",
        "\n",
        "Complete the following `sample_from_rnn` function, using the hints provided in the comments. _(10 points)_"
      ]
    },
    {
      "cell_type": "code",
      "execution_count": 29,
      "metadata": {
        "tags": [],
        "id": "RACe9kQnHf3q"
      },
      "outputs": [],
      "source": [
        "class SamplingDecodingStrategy(DecodingStrategy):\n",
        "    @torch.no_grad()\n",
        "    def decode(self,\n",
        "               starting_hyp: Hypothesis,\n",
        "               max_length: int = 300,\n",
        "               temperature: float = 0.5) -> List[Hypothesis]:\n",
        "        \"\"\"Decodes using greedy decoding.\n",
        "\n",
        "        Note:\n",
        "        Please make sure all tensors in the hypothesis are on the\n",
        "        same device as the model.\n",
        "\n",
        "        Parameters\n",
        "        ----------\n",
        "        starting_hyp : Hypothesis\n",
        "            A hypothesis contains one or more generated tokens\n",
        "            for the model to start with.\n",
        "        max_length : int, optional\n",
        "            The default is 300. Set the limit number of tokens\n",
        "            to be in the hypothesis.\n",
        "        temperature : float, optional\n",
        "            The default is 0.5. Set the temperature for constructing\n",
        "            the categorical distribution.\n",
        "\n",
        "        Returns\n",
        "        -------\n",
        "        hypotheses : List[Hypothesis]\n",
        "            A list of hypotheses generated by the model.\n",
        "            For SamplingDecoding, it would only generate one, but\n",
        "            keep the list type for compatibility.\n",
        "        \"\"\"\n",
        "        epsilon: float = 1e-5  # Used to avoid zero division\n",
        "        hypotheses: List[Hypothesis] = []\n",
        "        # Shape: (batch_size, seq_len)\n",
        "        input_sequence = starting_hyp.token_ids\n",
        "        # Shape: (batch_size)\n",
        "        sequence_lengths = torch.clone(starting_hyp.lengths)  # Makes sure not modifying the original tensor.\n",
        "        # Shape: (batch_size, seq_len)\n",
        "        logits = starting_hyp.logits\n",
        "\n",
        "        steps_generated = input_sequence.shape[-1]\n",
        "        assert steps_generated < max_length, f'steps_generated={steps_generated} >= max_length={max_length}'\n",
        "        steps_to_go: int = max_length - steps_generated + 1\n",
        "        hidden: Optional[torch.Tensor] = None\n",
        "\n",
        "        # TODO: Your code here\n",
        "        for i in range(steps_to_go):\n",
        "          # compute the logits based on the input batch \n",
        "          logits, hidden_state = self.model(input_sequence, sequence_lengths,hidden)\n",
        "          # sample based on the logits of the latest output\n",
        "          logits=logits/temperature\n",
        "          new_logits=logits[:,-1,:]\n",
        "          probs=new_logits.softmax(dim=-1)\n",
        "          results=torch.distributions.categorical.Categorical(probs)\n",
        "          results=results.sample().reshape(-1,1)\n",
        "\n",
        "          \n",
        "          # After getting the sampled output, we can stack them back to the sequence\n",
        "          # we also need to update the hidden states \n",
        "          # update the sequence_lenth\n",
        "          input_sequence=torch.hstack((input_sequence,results))\n",
        "          hidden=hidden_state\n",
        "          sequence_lengths+=1\n",
        "\n",
        "\n",
        "\n",
        "        # produce the output \n",
        "        hypotheses.append(Hypothesis(input_sequence,logits,sequence_lengths))\n",
        "\n",
        "\n",
        "\n",
        "        return hypotheses"
      ]
    },
    {
      "cell_type": "code",
      "execution_count": 35,
      "metadata": {
        "tags": [],
        "id": "YBvbIAggHf3r",
        "colab": {
          "base_uri": "https://localhost:8080/"
        },
        "outputId": "ddf7e799-9f13-449d-805d-a7ffae9716a0"
      },
      "outputs": [
        {
          "output_type": "stream",
          "name": "stdout",
          "text": [
            "Iour dreams were your heart in my heart like a real better say i got it too far and i got a bottle of my heart so hard i'm so so here in the beach and i got a housed up and set the same thing in the bars and show on the light in the morning on in the blowing on my heart in the last took here now that\n"
          ]
        }
      ],
      "source": [
        "sampling_decoding = SamplingDecodingStrategy(model=vanilla_rnn_model.model)\n",
        "sampling_decoded_hypos = sampling_decoding.decode(\n",
        "    starting_hyp=Hypothesis(\n",
        "        token_ids=torch.tensor(string_to_labels('I', oov_label=OOV_LABEL), dtype=torch.long,\n",
        "                               device=vanilla_rnn_model.device).unsqueeze(0),\n",
        "        logits=torch.zeros([1, 1], dtype=torch.float, device=vanilla_rnn_model.device),  # Log-prob\n",
        "        lengths=torch.ones([1], dtype=torch.long, device=vanilla_rnn_model.device)\n",
        "    ),\n",
        "    temperature=0.5\n",
        ")\n",
        "print(''.join([all_characters[x] for x in sampling_decoded_hypos[0].token_ids.tolist()[0]]))"
      ]
    },
    {
      "cell_type": "code",
      "execution_count": 28,
      "metadata": {
        "deletable": false,
        "editable": false,
        "id": "94SichXtHf3r",
        "colab": {
          "base_uri": "https://localhost:8080/",
          "height": 46
        },
        "outputId": "fdb2cd47-b8a4-46b5-9dc0-5bb497335a2d"
      },
      "outputs": [
        {
          "output_type": "execute_result",
          "data": {
            "text/plain": [
              "rnnnlm-lyric-gen-sampling-decoding results: All test cases passed!"
            ],
            "text/html": [
              "<p><strong><pre style='display: inline;'>rnnnlm-lyric-gen-sampling-decoding</pre></strong> passed!</p>"
            ]
          },
          "metadata": {},
          "execution_count": 28
        }
      ],
      "source": [
        "grader.check(\"rnnnlm-lyric-gen-sampling-decoding\")"
      ]
    },
    {
      "cell_type": "markdown",
      "metadata": {
        "collapsed": false,
        "id": "OuZiVtRjHf3r"
      },
      "source": [
        "<!-- BEGIN QUESTION -->\n",
        "\n",
        "__Question:__ How do you obtain probability distribution over the possible characters? _(2 points)_\n",
        "\n",
        "__Answer:__"
      ]
    },
    {
      "cell_type": "markdown",
      "metadata": {
        "id": "MbipY7z3Hf3r"
      },
      "source": [
        "We can just apply the softmax function to the logits to get the probability distrition from which we can sample to generate output."
      ]
    },
    {
      "cell_type": "markdown",
      "metadata": {
        "collapsed": false,
        "id": "paS2ytsCHf3r"
      },
      "source": [
        "<!-- END QUESTION -->\n",
        "\n",
        "<!-- BEGIN QUESTION -->\n",
        "\n",
        "__Question:__ How does the `temperature` affect the generated text? Describe using some values of temperature. _(3 points)_\n",
        "\n",
        "__Answer:__"
      ]
    },
    {
      "cell_type": "markdown",
      "metadata": {
        "id": "7V2NbliVHf3r"
      },
      "source": [
        "The lower the temperature is, the more similar our result will be to the greedy one. If we want to increase the randomness, we can just increase the temperature. For example, if I do 2, I found that the generated text is essentially garbage; It is not coherent (not even understandable). If I do 0.01, the result will be quite similar to that generated by greedy decoder since one can esaily found the repetitive words across the string. "
      ]
    },
    {
      "cell_type": "markdown",
      "metadata": {
        "collapsed": false,
        "id": "XHdCW5bGHf3r"
      },
      "source": [
        "<!-- END QUESTION -->\n",
        "\n",
        "<!-- BEGIN QUESTION -->\n",
        "\n",
        "__Question:__ Explain why the sequential nature of recurrent neural networks makes them less efficient compared to methods based on convolutions, for example. _(2 points)_\n",
        "\n",
        "__Answer:__:"
      ]
    },
    {
      "cell_type": "markdown",
      "metadata": {
        "id": "pmf0FrI_Hf3r"
      },
      "source": [
        "The reason is that when RNN is used, the model has to consider all of the previous data. However, in convolutional neural network, the model only need to consider the data nearby. Therefore, RNN is not efficient computational-wise compared to its counterparts.  "
      ]
    },
    {
      "cell_type": "markdown",
      "metadata": {
        "collapsed": false,
        "id": "BDiAHfqFHf3s"
      },
      "source": [
        "<!-- END QUESTION -->\n",
        "\n",
        "<!-- BEGIN QUESTION -->\n",
        "\n",
        "__Question:__ In the homework exercise we have loaded whole text sequences into the GPU memory. Imagine that we will work with sequences of much greater length, how that will this affect GPU memory consumption? How can you solve this problem? _(3 points)_\n",
        "\n",
        "__Answer:__"
      ]
    },
    {
      "cell_type": "markdown",
      "metadata": {
        "id": "IawT72WEHf3s"
      },
      "source": [
        "Increasing the text length will definitely increase the GPU memory consumption. In worst case senario, we cann't even train the model if the memory used is too large to handle for our GPU. Therefore, we can reduce the batch size to effectively counter this problem. "
      ]
    },
    {
      "cell_type": "markdown",
      "metadata": {
        "id": "oTQ8E4Nk0NIs"
      },
      "source": [
        "<!-- END QUESTION -->\n",
        "\n",
        "In the above class, we used a vanilla RNN. Replace the RNN layers with LSTM or GRU and perform training on the same data. Does it converge faster/slower than the RNN? Try sampling from this model with the same starting string and temperature. Do you observe any difference? _(10 points)_\n",
        "\n"
      ]
    },
    {
      "cell_type": "markdown",
      "metadata": {
        "id": "oY6yLWqOHf3s"
      },
      "source": [
        "I trained the improved model using the GRU architecture. It has more trainable parameters than its RNN counterpart (3X more). Therefore, one should expect to see much longer training time. \n",
        "\n",
        "For the performance-wise difference, I do observe that the GRU model is more capable of capturing the long-term dependency than the vanilla RNN model is as the generated sentence since these newly generated sentences are more coherent and lyric-like. \n",
        "\n",
        "I tried to sample with different temperatures, and the result is quite consistant with what we had from vanilla RNN. The smaller temperature tends to generate repretitive sequence whereas larger temperature tends to lead to chaotic sequence. I found that, for this particular set of hyperparameters that I train my network with, the model is less tolerable to the extreme temeperature: model does a very bad job generating the sequence when the temperature is slightly off the middle (0.5). \n",
        "\n",
        "This result is more or less expected, since this HW does not mandate us to tune the hyperparameters to maximize the performance. Should we do that fine-tuning, the GRU model we have will be perceivably better than Vanilla RNN model. "
      ]
    },
    {
      "cell_type": "code",
      "execution_count": 29,
      "metadata": {
        "id": "hZ7QWmW20WOC",
        "tags": []
      },
      "outputs": [],
      "source": [
        "class ImprovedSeqModel(nn.Module):\n",
        "    def __init__(self,\n",
        "                 input_size: int = 101,\n",
        "                 hidden_size: int = 512,\n",
        "                 num_classes: int = 100,\n",
        "                 n_layers: int = 2,\n",
        "                 padding_label: int = PADDING_LABEL):\n",
        "        # input_size = 101 -- 100 characters + background character\n",
        "        # num_classes = 100 -- we predict what character goes next\n",
        "        super(ImprovedSeqModel, self).__init__()\n",
        "\n",
        "        self.input_size = input_size\n",
        "        self.hidden_size = hidden_size\n",
        "        self.num_classes = num_classes\n",
        "        self.padding_label = padding_label\n",
        "        self.n_layers = n_layers\n",
        "\n",
        "        self.embeddings = nn.Embedding(self.input_size,self.hidden_size,self.padding_label)\n",
        "        \n",
        "\n",
        "        # Below use nn.RNN that accepts hidden_size as input size,\n",
        "        # and has hidden size equal to hidden_size argument and n_layers\n",
        "        # You have to set `batch_first=True` to make it compatible with\n",
        "        # the `forward()` method.\n",
        "        # TODO: Your code here\n",
        "        self.gru = nn.GRU(self.hidden_size,self.hidden_size,self.n_layers,batch_first=True)\n",
        "        \n",
        "\n",
        "        # Below use nn.Linear to make representation of hidden_size\n",
        "        # to the number of classes that will be fed to softmax\n",
        "        # to decide which character goes next\n",
        "        # TODO: Your code here\n",
        "        self.ffnn = nn.Linear(self.hidden_size, self.num_classes)\n",
        "\n",
        "    def forward(self,\n",
        "                input_sequences: torch.Tensor,\n",
        "                input_sequences_lengths: torch.Tensor,\n",
        "                hidden: Optional[torch.Tensor] = None) -> Tuple[torch.Tensor, torch.Tensor]:\n",
        "        \"\"\"Runs the forward pass for the model.\n",
        "\n",
        "        Parameters\n",
        "        ----------\n",
        "        input_sequences : torch.Tensor\n",
        "            A batch of padded input sequences in the shape of\n",
        "            (batch_size, sequence_length)\n",
        "        input_sequences_lengths : torch.Tensor\n",
        "            A batch of sequence lengths in the shape of (batch_size)\n",
        "        hidden : torch.Tensor, optional\n",
        "            A batch of hidden states in the shape of\n",
        "            (num_layers, batch_size, hidden_size)\n",
        "\n",
        "        Returns\n",
        "        -------\n",
        "        logits_flatten : torch.Tensor\n",
        "            A batch of logits in the shape of\n",
        "            (batch_size, sequence_length, num_classes)\n",
        "        updated_hidden : torch.Tensor\n",
        "            A batch of updated hidden states in the shape of\n",
        "            (num_layers, batch_size, hidden_size)\n",
        "\n",
        "        \"\"\"\n",
        "        # Please make sure your code follow the above interface\n",
        "        # We would use your implemented decoding strategy to decode\n",
        "        # Your code here\n",
        "        # Shape: (batch_size, sequence_length, hidden_size)\n",
        "        embedded = self.embeddings(input_sequences)\n",
        "\n",
        "        # This is needed for efficient processing of sequences of\n",
        "        # variable lengths. Feel free to skip\n",
        "        # Here we run rnns only on non-padded regions of the batch\n",
        "        # Shape: (batch_size, sequence_length, hidden_size)\n",
        "        packed: PackedSequence = torch.nn.utils.rnn.pack_padded_sequence(embedded,\n",
        "                                                                         input_sequences_lengths.cpu(),\n",
        "                                                                         batch_first=True,\n",
        "                                                                         enforce_sorted=False)\n",
        "\n",
        "        # `outputs` shape: (batch_size, sequence_length, hidden_size)\n",
        "        # `updated_hidden` shape: (num_layers, batch_size, hidden_size)\n",
        "        outputs, updated_hidden = self.gru(packed, hidden)\n",
        "        # `unpacked_outputs` shape: (batch_size, sequence_length, hidden_size)\n",
        "        # `output_lengths` shape: (batch_size)\n",
        "        # Unpacks (back to padded)\n",
        "        unpacked_outputs, output_lengths = torch.nn.utils.rnn.pad_packed_sequence(outputs,\n",
        "                                                                                  batch_first=True)\n",
        "\n",
        "        # Shape: (batch_size, sequence_length, num_classes)\n",
        "        logits = self.ffnn(unpacked_outputs)\n",
        "\n",
        "        return logits, updated_hidden"
      ]
    },
    {
      "cell_type": "code",
      "execution_count": 30,
      "metadata": {
        "tags": [],
        "id": "NpiDIuwaHf3s",
        "colab": {
          "base_uri": "https://localhost:8080/",
          "height": 434,
          "referenced_widgets": [
            "7a45629e99324df9aaaab1813f468e49",
            "17e01d5da7124289bff55cf7c126b3d7",
            "203fba1791304812a9c7274f6c26c895",
            "701835e3b5e84b8390a82c1bc1e3b815",
            "cc00907d770447c49c4ec29e308d6337",
            "2a2fd57ac7c0497fb0c36f75dc943533",
            "9daf262b3bcf401abf7555e5ca25669e",
            "d7eb21f9bad143a5b606d1820f195b95",
            "d0e9961f709b4d1ea06a0f3e57125e8c",
            "b7a864b9d00547cdbe6e501b76eb6c8c",
            "7661ef917cc14456a1f82e590bba3eab",
            "985e9a4b44224b679cc1eff112ebba75",
            "d2d34f5f053d4136a3696b200fcb5c69",
            "b83e0bb254db419bb02f3941627092d0",
            "c0b80209f79248a8b909c57e3733f7dd",
            "3a8b76b801bc4db4a05222cc95bf229f",
            "ef8a91ea760e4e3094c9297094ad9f23",
            "1e5927a975ac42698f98552f69fbb800",
            "b9a259a37fe145329a87fae4e022c72f",
            "aef4733632ed436191b37ad9734376bd",
            "5abeb934cd7b44f38fc0be2ee8c0ca46",
            "d9da576fddd8421ab20d3a6795f2f26d",
            "4250d6fbd43c4f4c8f6b9f0b325544fc",
            "2e11eb8091d0499fbdb4d238b3748111",
            "648f9f7dd5df491799038f48d202eafb",
            "e01105cc2c354e239ecba6c6a1882051",
            "e79474b663344c229e356f401ed59d7c",
            "7aaaaab693f3404b905f82392b320d48",
            "091f8d7431244941a89777401900fad2",
            "b47adec3309140fe89f6ea89313b86a8",
            "f25d7c62b6ca47baacf42c5d8ec87173",
            "4e615e455a8845e5982afc1d2ee92eb9",
            "b4c5c73cbe6b4c9f855c654ba15c2b5d",
            "3244d3712c144714be9692065333a82c",
            "e2373163886446ab8cb7d7827f05cee1",
            "e1600f9c41dc47deb5b5b527deb6b62c",
            "369268eeed7f4851b263d508a4a576f3",
            "f72061bb81f9404a96e17d7a10375a1a",
            "c5d005be2321420b80904bc6f37ed9ee",
            "5c47d9418b754cefb060e8bff13ae1b8",
            "ca4166e05a7545b5a9ff9395a24e9bdd",
            "6ebd7c7837334bbe96164e00e04478b1",
            "dcc45a943e254aeb8889b0b138d4a6b5",
            "6c639b8f23594d9bb290501610b1255b",
            "6aa67da5e9e544bc857ef12a5183de44",
            "a50876f4dcaf4f25b8f3cdd38072c0ba",
            "22046c56ed9a44889c7289ea233e4d4b",
            "746939a26e184a309d3661ef986770b8",
            "f05416c4050b4f0c885210c762bd05af",
            "73a03d3756b24612a9f2979e1df413a3",
            "dd32b0322e664fcf88f99bf58bb75a69",
            "48ce7680ce764fe7a2c85f4e0e8ef407",
            "088b1c90918f44fbbd9073a73c40fc09",
            "15883b95163b4f97bb501c7628e39fff",
            "0ebda066206c449598a9ed4aad996c4a",
            "08dd73618d77429d975a9de9d1d2b216",
            "c3a2b89408974c9a9953ea6323c80093",
            "8a1a75d14e4b44d2a16adb0dc94643d2",
            "79ef9387c07e461a8f566f81574211ed",
            "b387c4b0452243dca8e87a0c1260260a",
            "3d6fec03de76423bb9e958d5fa3b0a7f",
            "e4f9e7c6397f477cbe57a2f1ba6d0af0",
            "db7442d78eb54d6d9bd2d9e27b543c4b",
            "3dcd703455584a3d992756a62375e28f",
            "12b1aec1135d4c5bb4696b113446c66f",
            "22033f126df74e4c8a968a8d0b38fc67",
            "9073197f637a4c85a6e42d081dfb2a7d",
            "9808af4d6119450b80193b5a10625dbe",
            "9a3a195ff1ca44eb893944838e93b55c",
            "87ddfdc3a33646608b9dbbddc510ed7b",
            "da6420e1850b4a41bfab3709f81e57d0",
            "7bc0908df5e846a38553f120b7cfee46",
            "9da5f1c8c1e344d88000c4492c5a975e",
            "16696a5580354413b01e0e91d52b34b3",
            "5490ae1da94e4f939ab92a7a730d250a",
            "a6d7f98f356f4b309f3078979fce1640",
            "e6b57bb6246448f8b0f31b6865ef50be",
            "922bc5e72605484a921977f5673d6f04",
            "881fcbe167cd41159abe3361035f94c2",
            "3ee86014ed6144ff9b8e9e96d99527d3",
            "a8e32ad0f99b4b57bab082aea6629882",
            "b7f0458af7164445bd2d885ff9ab6a9a",
            "e1eca45bc8ee438484d072969fd7d197",
            "09950491edcc4de98a8a8d5219b7f008",
            "fde3bc834dcd446a94c9d1f6b156a86f",
            "72de2d1caaf040308193fd62738f2f9d",
            "7a2a5f973b5d474bb2a79ca80f7e4321",
            "a70c31c1d7274152b0227188a1fb998c",
            "5cc2490652e842d9a1f7fb40d32df152",
            "8d33b7c446f54e739e92ecd89b513d91",
            "5e4b506dbae341198658e507a2ace4fc",
            "d2940e69f1af49d8a488683a4111facd",
            "83b6f9bbdfa44b53b0fcb52152d120ab",
            "4d223b0d3c6b40d087d4f052b6b8c323",
            "a897dbff865248c2869c74b266797170",
            "43a6e0273e5c4b0f89e0cb1db630d118",
            "e40242d5769249f4941be931767da2e8",
            "a6a6158bee8944f0b64284ba42e3ff94",
            "d867020309f944d694c19e5f888ee2f6",
            "9db239c581894ae4a2ac55bfcda74a0f",
            "b5867c658ae1445ca2f709dd61f8cd23",
            "de37b726ecae4e998a3dda67f3cd40ed",
            "eeef8334196f4c4bb8b8cfb266811ae2",
            "687e537f620f411085865c625be3967c",
            "b7872aa49d5b48d8bc1e4f61642fafcb",
            "7cd203e6678c471e88bb8db5e8ca7372",
            "eedfa81b603a47da8b243b637bb97f64",
            "ad7fa744dedf449f929debae17c969f7",
            "cf09be3958a5438580697ec97a81885b",
            "a4505c42bc2340f3873768f711d74077"
          ]
        },
        "outputId": "e8a4229e-6947-4d2e-b134-15f287c1f34f"
      },
      "outputs": [
        {
          "output_type": "stream",
          "name": "stderr",
          "text": [
            "INFO:pytorch_lightning.utilities.rank_zero:GPU available: True (cuda), used: True\n",
            "INFO:pytorch_lightning.utilities.rank_zero:TPU available: False, using: 0 TPU cores\n",
            "INFO:pytorch_lightning.utilities.rank_zero:IPU available: False, using: 0 IPUs\n",
            "INFO:pytorch_lightning.utilities.rank_zero:HPU available: False, using: 0 HPUs\n",
            "WARNING:pytorch_lightning.loggers.tensorboard:Missing logger folder: /content/lightning_logs\n",
            "INFO:pytorch_lightning.accelerators.cuda:LOCAL_RANK: 0 - CUDA_VISIBLE_DEVICES: [0]\n",
            "INFO:pytorch_lightning.callbacks.model_summary:\n",
            "  | Name      | Type             | Params\n",
            "-----------------------------------------------\n",
            "0 | model     | ImprovedSeqModel | 3.3 M \n",
            "1 | criterion | CrossEntropyLoss | 0     \n",
            "-----------------------------------------------\n",
            "3.3 M     Trainable params\n",
            "0         Non-trainable params\n",
            "3.3 M     Total params\n",
            "13.020    Total estimated model params size (MB)\n"
          ]
        },
        {
          "output_type": "display_data",
          "data": {
            "text/plain": [
              "Sanity Checking: 0it [00:00, ?it/s]"
            ],
            "application/vnd.jupyter.widget-view+json": {
              "version_major": 2,
              "version_minor": 0,
              "model_id": "7a45629e99324df9aaaab1813f468e49"
            }
          },
          "metadata": {}
        },
        {
          "output_type": "stream",
          "name": "stderr",
          "text": [
            "/usr/local/lib/python3.7/dist-packages/pytorch_lightning/trainer/connectors/data_connector.py:241: PossibleUserWarning: The dataloader, val_dataloader 0, does not have many workers which may be a bottleneck. Consider increasing the value of the `num_workers` argument` (try 12 which is the number of cpus on this machine) in the `DataLoader` init to improve performance.\n",
            "  category=PossibleUserWarning,\n",
            "/usr/local/lib/python3.7/dist-packages/pytorch_lightning/trainer/connectors/data_connector.py:241: PossibleUserWarning: The dataloader, train_dataloader, does not have many workers which may be a bottleneck. Consider increasing the value of the `num_workers` argument` (try 12 which is the number of cpus on this machine) in the `DataLoader` init to improve performance.\n",
            "  category=PossibleUserWarning,\n"
          ]
        },
        {
          "output_type": "display_data",
          "data": {
            "text/plain": [
              "Training: 0it [00:00, ?it/s]"
            ],
            "application/vnd.jupyter.widget-view+json": {
              "version_major": 2,
              "version_minor": 0,
              "model_id": "985e9a4b44224b679cc1eff112ebba75"
            }
          },
          "metadata": {}
        },
        {
          "output_type": "display_data",
          "data": {
            "text/plain": [
              "Validation: 0it [00:00, ?it/s]"
            ],
            "application/vnd.jupyter.widget-view+json": {
              "version_major": 2,
              "version_minor": 0,
              "model_id": "4250d6fbd43c4f4c8f6b9f0b325544fc"
            }
          },
          "metadata": {}
        },
        {
          "output_type": "display_data",
          "data": {
            "text/plain": [
              "Validation: 0it [00:00, ?it/s]"
            ],
            "application/vnd.jupyter.widget-view+json": {
              "version_major": 2,
              "version_minor": 0,
              "model_id": "3244d3712c144714be9692065333a82c"
            }
          },
          "metadata": {}
        },
        {
          "output_type": "display_data",
          "data": {
            "text/plain": [
              "Validation: 0it [00:00, ?it/s]"
            ],
            "application/vnd.jupyter.widget-view+json": {
              "version_major": 2,
              "version_minor": 0,
              "model_id": "6aa67da5e9e544bc857ef12a5183de44"
            }
          },
          "metadata": {}
        },
        {
          "output_type": "display_data",
          "data": {
            "text/plain": [
              "Validation: 0it [00:00, ?it/s]"
            ],
            "application/vnd.jupyter.widget-view+json": {
              "version_major": 2,
              "version_minor": 0,
              "model_id": "08dd73618d77429d975a9de9d1d2b216"
            }
          },
          "metadata": {}
        },
        {
          "output_type": "display_data",
          "data": {
            "text/plain": [
              "Validation: 0it [00:00, ?it/s]"
            ],
            "application/vnd.jupyter.widget-view+json": {
              "version_major": 2,
              "version_minor": 0,
              "model_id": "9073197f637a4c85a6e42d081dfb2a7d"
            }
          },
          "metadata": {}
        },
        {
          "output_type": "display_data",
          "data": {
            "text/plain": [
              "Validation: 0it [00:00, ?it/s]"
            ],
            "application/vnd.jupyter.widget-view+json": {
              "version_major": 2,
              "version_minor": 0,
              "model_id": "922bc5e72605484a921977f5673d6f04"
            }
          },
          "metadata": {}
        },
        {
          "output_type": "display_data",
          "data": {
            "text/plain": [
              "Validation: 0it [00:00, ?it/s]"
            ],
            "application/vnd.jupyter.widget-view+json": {
              "version_major": 2,
              "version_minor": 0,
              "model_id": "5cc2490652e842d9a1f7fb40d32df152"
            }
          },
          "metadata": {}
        },
        {
          "output_type": "display_data",
          "data": {
            "text/plain": [
              "Validation: 0it [00:00, ?it/s]"
            ],
            "application/vnd.jupyter.widget-view+json": {
              "version_major": 2,
              "version_minor": 0,
              "model_id": "9db239c581894ae4a2ac55bfcda74a0f"
            }
          },
          "metadata": {}
        },
        {
          "output_type": "stream",
          "name": "stderr",
          "text": [
            "INFO:pytorch_lightning.utilities.rank_zero:`Trainer.fit` stopped: `max_epochs=8` reached.\n"
          ]
        }
      ],
      "source": [
        "# Training the model for 8 epochs might take about 10 mins\n",
        "improved_model = ImprovedSeqModel()  # You can modify this to accommodate your model hyperparameters\n",
        "if is_autograder:  # The autograder would only load your trained checkpoint instead of training a new one\n",
        "    improved_model_pl_module = LyricsGenerationTask.load_from_checkpoint(checkpoint_path=IMPROVED_MODEL_CKPT_PATH,\n",
        "                                                                         model=improved_model)\n",
        "else:  # In the student mode, a new model would be trained\n",
        "    # You are allowed to change training hyperparameters\n",
        "    # But you are not allowed to create a new task\n",
        "    improved_model_pl_module = LyricsGenerationTask(model=improved_model, learning_rate=0.001)\n",
        "    improved_model_trainer = pl.Trainer(accelerator=accelerator, max_epochs=8)\n",
        "    improved_model_trainer.fit(model=improved_model_pl_module, datamodule=lyrics_gen_data_module)"
      ]
    },
    {
      "cell_type": "code",
      "execution_count": 31,
      "metadata": {
        "deletable": false,
        "editable": false,
        "id": "oh11isV7Hf3s",
        "colab": {
          "base_uri": "https://localhost:8080/",
          "height": 46
        },
        "outputId": "0d9644c2-5f6c-4046-a562-d8876d351242"
      },
      "outputs": [
        {
          "output_type": "execute_result",
          "data": {
            "text/plain": [
              "rnnnlm-lyric-gen-improved-model results: All test cases passed!"
            ],
            "text/html": [
              "<p><strong><pre style='display: inline;'>rnnnlm-lyric-gen-improved-model</pre></strong> passed!</p>"
            ]
          },
          "metadata": {},
          "execution_count": 31
        }
      ],
      "source": [
        "grader.check(\"rnnnlm-lyric-gen-improved-model\")"
      ]
    },
    {
      "cell_type": "code",
      "source": [
        "sampling_decoding = SamplingDecodingStrategy(model=improved_model_pl_module.model)\n",
        "sampling_decoded_hypos = sampling_decoding.decode(\n",
        "    starting_hyp=Hypothesis(\n",
        "        token_ids=torch.tensor(string_to_labels('I', oov_label=OOV_LABEL), dtype=torch.long,\n",
        "                               device=vanilla_rnn_model.device).unsqueeze(0),\n",
        "        logits=torch.zeros([1, 1], dtype=torch.float, device=vanilla_rnn_model.device),  # Log-prob\n",
        "        lengths=torch.ones([1], dtype=torch.long, device=vanilla_rnn_model.device)\n",
        "    ),\n",
        "    temperature=0.4\n",
        ")\n",
        "print(''.join([all_characters[x] for x in sampling_decoded_hypos[0].token_ids.tolist()[0]]))"
      ],
      "metadata": {
        "colab": {
          "base_uri": "https://localhost:8080/"
        },
        "id": "jjb02N3ore4i",
        "outputId": "283254c8-b988-45dc-9e16-d489305e165c"
      },
      "execution_count": 42,
      "outputs": [
        {
          "output_type": "stream",
          "name": "stdout",
          "text": [
            "Ily and i ain't try one call away you ain't got nothin' and i know i don't want to bad but don't stop the shot should be the one what you do what you want some more what you want what you're worth the way you do what you want with my baby where you want to love you and i want you to call me baby i wa\n"
          ]
        }
      ]
    },
    {
      "cell_type": "markdown",
      "metadata": {
        "id": "GZw9_-l8jLCU"
      },
      "source": [
        "### Part 2: Distributional Semantics: The Word2Vec model\n",
        "\n",
        "In Part 2 of this assignment, you will use Word2Vec to analyze some of interesting phenomena that arises from distributional semantics. For this, we will use a pretrained model from the [Gensim](https://radimrehurek.com/gensim/) package.\n",
        "\n",
        "\n",
        "Before we dive into this analysis, first read a little bit of theory about the Word2Vec model and answer a few questions below."
      ]
    },
    {
      "cell_type": "markdown",
      "metadata": {
        "id": "bDaseIPkANWm"
      },
      "source": [
        "#### Understanding word2vec\n",
        "\n",
        "The basic architecture of the skip-gram model is shown below (taken from [this post](https://israelg99.github.io/2017-03-23-Word2Vec-Explained/)):\n",
        "\n",
        "![](https://israelg99.github.io/images/2017-03-23-Word2Vec-Explained/skip_gram_net_arch.png)\n",
        "\n",
        "In this model, word embeddings are trained using a classification task, where the task is that given a word, you have to predict its context words (i.e. words which occur before and after it in a context of size, say, 2). The objective is to learn the probability of any word $O$ given a center word $C$, i.e. $P(O=o \\mid C=c)$.\n",
        "\n",
        "In this model, this probability is computed by taking the vector dot product of the embeddings for $o$ and $c$, and then applying a softmax (to convert it into a probability distribution):\n",
        "\n",
        "$$\n",
        "P(O=o \\mid C=c)=\\frac{\\exp \\left(\\boldsymbol{v}_{o}^{\\top} \\boldsymbol{v}_{c}\\right)}{\\sum_{w \\in \\operatorname{Vocab}} \\exp \\left(\\boldsymbol{v}_{w}^{\\top} \\boldsymbol{v}_{c}\\right)}\n",
        "$$\n",
        "\n",
        "The vectors $\\boldsymbol{v}_{w}$ are initialized randomly for all the words in the vocabulary and then updated during training. The objective, in fact, tries to maximize the above probability of words in context occuring together. Stating it different, it miniimized the negative log-probability, i.e.,\n",
        "\n",
        "$$ J = -\\log P(O=o \\mid C=c). $$\n",
        "\n",
        "Here is another interpretation of this objective function. Suppose ${y}$ and $\\hat{y}$ are vectors of length $|V|$ (size of vocabulary), and the index $k$ in each of these denotes the conditional probability of word $k$ being in the context of given word $c$. $y$ is the empirical distribution (ground truth), i.e., it is a one-hot vector, whereas $\\hat{y}$ is the predicted distribution. In our case, we would have $P(O=o \\mid C=c) = \\hat{y}_o$. Then the loss function $J$ above is equivalent to the binary cross-entropy loss between $y$ and $\\hat{y}$."
      ]
    },
    {
      "cell_type": "markdown",
      "metadata": {
        "collapsed": false,
        "id": "krmPnh86Hf3t"
      },
      "source": [
        "<!-- BEGIN QUESTION -->\n",
        "\n",
        "__Question:__ The cross-entropy loss between 2 distributions is given as $-\\sum_i p_i \\log q_i$. With this information, show that the cross-entropy between $y$ and $\\hat{y}$ is equal to $-\\log \\hat{y}_o$. _(5 points)_"
      ]
    },
    {
      "cell_type": "markdown",
      "metadata": {
        "collapsed": false,
        "id": "CLQcywe4Hf3t"
      },
      "source": [
        "__Answer:__"
      ]
    },
    {
      "cell_type": "markdown",
      "metadata": {
        "id": "550UwNKWHf3t"
      },
      "source": [
        "We know that y is the one hot vector and the y^hat is the predicted distribution where its entries are P(O=o|C=c). When you perform -sigma_i(y_i*logy^hat_i), you will find that all other summed terms are zeroed out except one for index k. In that term, y_k=1 so the final equation can be reduced to -log y^hat_k, which is equivalent to to -log y^hat_o"
      ]
    },
    {
      "cell_type": "markdown",
      "metadata": {
        "id": "Vh6D5LUmJnyk"
      },
      "source": [
        "<!-- END QUESTION -->\n",
        "\n",
        "Note that in the softmax computation, the denominator computes a sum over the entire vocabulary. This is very computationally expensive. In the actual word2vec implementation, we use something called Negative Sampling instead of computing the softmax this way:\n",
        "\n",
        "$$J^{\\prime} = -\\log \\sigma(v_o v_c) - \\sum_{k=1}^K \\log \\sigma(-v_k v_c)$$\n",
        "\n",
        "Here, $v_k$ is the embedding for a word which is not present in the context. Intuitively, this loss function pushes $v_c$ closer to its context word $v_o$ while pulling it away from randomly sampled $K$ non-context (or negative) words, hence the name negative sampling.\n",
        "\n",
        "An important component of the above objective is the sigmoid function $\\sigma(x) = \\frac{e^x}{e^x + 1}$.\n"
      ]
    },
    {
      "cell_type": "markdown",
      "metadata": {
        "collapsed": false,
        "id": "-wrnE70yHf3t"
      },
      "source": [
        "<!-- BEGIN QUESTION -->\n",
        "\n",
        "__Question:__ Compute the derivative of $\\sigma(x)$ w.r.t $x$. Write the derivative in terms of $\\sigma(x)$. (Show the derivation steps.) _(5 points)_"
      ]
    },
    {
      "cell_type": "markdown",
      "metadata": {
        "collapsed": false,
        "id": "XWseEFYGHf3t"
      },
      "source": [
        "__Answer:__"
      ]
    },
    {
      "cell_type": "markdown",
      "metadata": {
        "id": "S-FQxEtfHf3t"
      },
      "source": [
        "![0092df84834dc447535d4c7b10941c5.png](data:image/png;base64,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)"
      ]
    },
    {
      "cell_type": "markdown",
      "metadata": {
        "id": "MXAvtTl5COQC"
      },
      "source": [
        "<!-- END QUESTION -->\n",
        "\n",
        "$\\sigma(x)$ has the nice property that its derivative can be represented using it directly. This makes it useful for gradient-based optimization. In the following, we will use the `gensim` implementation of Word2Vec, which means you don't need to implement any of the training yourself, but it is important to understand what goes on under the hood."
      ]
    },
    {
      "cell_type": "markdown",
      "metadata": {
        "id": "8GRWFeCRkcFP"
      },
      "source": [
        "#### Using word2vec\n",
        "\n",
        "In this section, we will use the GenSim implementation of Word2Vec for some exploration. First, let us train a Word2Vec model on our corpus.\n"
      ]
    },
    {
      "cell_type": "code",
      "execution_count": 30,
      "metadata": {
        "id": "xsEmWXPAhBDL"
      },
      "outputs": [],
      "source": [
        "def load_embedding_model():\n",
        "    \"\"\" Load GloVe Vectors\n",
        "    Return:\n",
        "        wv_from_bin: All 400000 embeddings, each lengh 200\n",
        "    \"\"\"\n",
        "    wv_from_bin = gensim_api.load(\"glove-wiki-gigaword-200\")\n",
        "    print(\"Loaded vocab size %i\" % len(wv_from_bin.index_to_key))\n",
        "    return wv_from_bin"
      ]
    },
    {
      "cell_type": "code",
      "execution_count": 31,
      "metadata": {
        "id": "eInUSXOOhIcP",
        "colab": {
          "base_uri": "https://localhost:8080/"
        },
        "outputId": "8b361997-8395-48d8-8adb-c4e9bff142b9"
      },
      "outputs": [
        {
          "output_type": "stream",
          "name": "stdout",
          "text": [
            "[==================================================] 100.0% 252.1/252.1MB downloaded\n",
            "Loaded vocab size 400000\n",
            "KeyedVectors<vector_size=200, 400000 keys>\n"
          ]
        }
      ],
      "source": [
        "# -----------------------------------\n",
        "# Run Cell to Load Word Vectors\n",
        "# Note: This will take several minutes\n",
        "# -----------------------------------\n",
        "wv_from_bin = load_embedding_model()\n",
        "print(wv_from_bin)"
      ]
    },
    {
      "cell_type": "code",
      "execution_count": 32,
      "metadata": {
        "id": "VVFXG06UbN5P",
        "colab": {
          "base_uri": "https://localhost:8080/"
        },
        "outputId": "c7ba66aa-c19e-46d3-a5b6-d522032b5fa4"
      },
      "outputs": [
        {
          "output_type": "stream",
          "name": "stdout",
          "text": [
            "[ 1.0627e-01 -5.8248e-01 -2.7217e-01 -2.6772e-01 -1.1844e-01 -1.3373e-03\n",
            " -1.8707e-01  1.5110e-01  2.0336e-01 -5.0561e-01 -5.6029e-02 -1.4278e-01\n",
            "  2.7876e-01  5.6570e-01  1.0539e-01  2.0012e-01 -1.0245e-01  3.8694e-01\n",
            "  4.9881e-03 -2.0792e-01  4.3314e-01  2.7799e+00 -3.7724e-03 -1.5376e-01\n",
            "  3.5440e-03 -3.2788e-01 -2.2937e-01 -3.2938e-01  1.0435e-01  1.8370e-01\n",
            " -2.0869e-01 -1.2898e-01  1.9762e-01  5.7719e-01  4.8807e-01 -2.2012e-01\n",
            " -7.8150e-01 -2.6464e-01 -4.6928e-01  4.8230e-01 -7.2708e-01  1.7301e-02\n",
            " -3.5347e-01  1.6986e-01 -4.0509e-01  3.1622e-02 -8.5332e-02  1.1077e-01\n",
            "  2.3554e-01 -1.8391e-01  2.3047e-01  5.0146e-01  1.8733e-01  3.3038e-01\n",
            "  3.8698e-01 -1.6126e-01 -1.2255e-01 -6.4396e-02  5.2114e-01 -1.9056e-01\n",
            " -2.9464e-01 -2.8260e-01 -8.4987e-01  2.0800e-01 -4.2650e-02 -3.0999e-01\n",
            "  4.5363e-01  3.4151e-01 -6.6935e-03  6.2788e-02  4.3688e-02 -3.1161e-01\n",
            " -1.7607e-01  6.5094e-01 -5.8473e-01 -3.6569e-01 -3.4423e-01 -4.3389e-01\n",
            "  6.5343e-02 -1.2442e-01  1.7572e-01 -2.8400e-01  1.9135e-02 -5.3385e-01\n",
            " -4.0021e-01  2.1464e-01  1.4933e-02  1.6345e-02 -3.1991e-01 -6.8469e-01\n",
            " -5.7154e-02  3.1403e-01 -2.8191e-01  6.2003e-01 -5.9969e-01  7.5217e-02\n",
            " -1.7093e-01 -2.1516e-01  3.1219e-01  6.4726e-01  5.7606e-02 -2.3318e-01\n",
            "  1.7409e-01  1.8636e-01  1.2784e-01 -8.5055e-01 -1.2307e-01  1.1455e+00\n",
            " -3.7782e-02  3.2608e-01  3.2714e-01 -4.1493e-01 -3.3780e-02 -2.0761e-02\n",
            " -7.4910e-01  2.6303e-01 -3.4439e-01  3.2692e-01 -7.0086e-01 -4.6634e-02\n",
            " -5.0236e-02  2.5610e-01  4.6046e-02  2.1670e-01  2.7547e-02 -1.9104e-01\n",
            "  2.9514e-01 -2.6253e-01  5.1427e-01 -4.7265e-01 -3.9650e-01 -1.4644e-02\n",
            "  1.1092e-01 -4.2111e-01 -1.7097e-01 -2.7003e-01  2.3945e-01  2.7820e-01\n",
            " -7.5243e-01 -1.2806e-01  4.9752e-01  2.5289e-01  7.3583e-01 -2.5678e-01\n",
            "  1.8087e+00  2.6838e-01  5.8882e-01  4.4866e-02  4.3145e-01  2.7810e-01\n",
            "  3.4408e-01  1.7439e-01 -1.2762e-01  1.1552e-01 -3.9833e-01  1.2771e-01\n",
            " -2.2887e-01 -1.4351e-01 -5.2339e-01 -2.9325e-01  8.8909e-02  8.4056e-01\n",
            "  1.8710e-01 -1.3646e-01  1.9423e-01 -6.6192e-01  8.5687e-05  2.4278e-01\n",
            " -6.8090e-01 -6.2710e-02  2.5439e-01 -3.0117e-01  3.8821e-01  1.3239e-01\n",
            " -3.1887e-01 -2.7511e-01 -4.7149e-01 -3.0114e-01  3.2686e-01 -3.8738e-03\n",
            "  1.0342e+00  1.7300e-01 -7.7236e-01  5.9479e-02 -3.8417e-01 -2.6487e-01\n",
            "  8.1626e-02  1.1445e-01  1.5213e-01  1.2093e-01 -3.4896e-01 -1.3335e-01\n",
            "  2.3203e-01 -2.1832e-02  6.5154e-01  1.1376e-01  1.3703e-01  4.5007e-01\n",
            "  5.1510e-02  7.0033e-01]\n"
          ]
        }
      ],
      "source": [
        "# access vector for one word\n",
        "print(wv_from_bin['man'])"
      ]
    },
    {
      "cell_type": "markdown",
      "metadata": {
        "id": "XxBXR4oOcKDk"
      },
      "source": [
        "<!-- BEGIN QUESTION -->\n",
        "\n",
        "__Embedding analysis:__ Choose 20 words at random from the lexicon and obtain their corresponding embeddings. Reduce the embedding dimensionality to 2 (using PCA or T-SNE from scikit-learn) and plot them. Do you observe any clusters forming? _(10 points)_\n",
        "\n",
        "Note: for scikit-learn, please refer to [its documentation](https://scikit-learn.org/stable/user_guide.html)."
      ]
    },
    {
      "cell_type": "markdown",
      "metadata": {
        "id": "f383hVjoc_aw"
      },
      "source": [
        "__Answer:__"
      ]
    },
    {
      "cell_type": "markdown",
      "metadata": {
        "id": "5cseuUOIHf3u"
      },
      "source": [
        "As you can observe the chart below, there are several clusters formed. They are formed based on the words' meaning: For example, words which are the names of countries are close together, and words that are related to sports are closed together. "
      ]
    },
    {
      "cell_type": "code",
      "source": [
        "import random\n",
        "from sklearn.decomposition import PCA\n",
        "from matplotlib import pyplot as plt"
      ],
      "metadata": {
        "id": "aqJeEhmjYJR4"
      },
      "execution_count": 45,
      "outputs": []
    },
    {
      "cell_type": "code",
      "execution_count": 57,
      "metadata": {
        "tags": [],
        "id": "720NHAADHf3u"
      },
      "outputs": [],
      "source": [
        "random_words =[\"china\",\"usa\",\"russia\",\"japan\",\"canada\",\"man\",\"woman\",\"kid\",\"basketball\",\"baseball\",\"school\",\"university\",\"king\",\"queen\",\"burger\",\"noodle\",\"rice\",\"bread\",\"blind\",\"tea\"]\n",
        "data_matrix=wv_from_bin[random_words]\n",
        "pca = PCA(n_components=2)\n",
        "pca.fit(data_matrix)\n",
        "out=pca.transform(data_matrix)"
      ]
    },
    {
      "cell_type": "code",
      "source": [
        "out"
      ],
      "metadata": {
        "colab": {
          "base_uri": "https://localhost:8080/"
        },
        "id": "8k_l7u-AZZcg",
        "outputId": "eebf50b6-4097-45f2-9c47-56675e53710d"
      },
      "execution_count": 52,
      "outputs": [
        {
          "output_type": "execute_result",
          "data": {
            "text/plain": [
              "array([[-0.28087437,  0.06675696],\n",
              "       [-1.2489136 , -0.35729113],\n",
              "       [-0.5321642 , -0.0988756 ],\n",
              "       [-0.65558153, -2.545556  ],\n",
              "       [-1.60024   , -0.39738345],\n",
              "       [-0.3656127 ,  2.256732  ],\n",
              "       [ 2.4638996 , -1.9608184 ],\n",
              "       [-3.1799536 , -2.9582574 ],\n",
              "       [-0.2806458 ,  0.6559311 ],\n",
              "       [-0.5791357 ,  0.4935279 ],\n",
              "       [-0.29931724, -0.92090005],\n",
              "       [ 4.519695  ,  0.71744287],\n",
              "       [ 3.0567288 ,  1.1393679 ],\n",
              "       [-1.0854083 ,  0.7007793 ],\n",
              "       [-1.0204564 , -0.7307953 ],\n",
              "       [ 0.507314  ,  0.0816769 ],\n",
              "       [-0.61298335,  0.07266576],\n",
              "       [-1.4313874 , -0.6701006 ],\n",
              "       [ 3.8424613 , -1.6965033 ],\n",
              "       [-1.2174248 ,  6.1515985 ]], dtype=float32)"
            ]
          },
          "metadata": {},
          "execution_count": 52
        }
      ]
    },
    {
      "cell_type": "code",
      "source": [
        "fig, ax = plt.subplots()\n",
        "ax.scatter(out[:,0], out[:,1])\n",
        "\n",
        "for i, txt in enumerate(random_words):\n",
        "  ax.annotate(txt, (out[:,0][i], out[:,1][i]))"
      ],
      "metadata": {
        "colab": {
          "base_uri": "https://localhost:8080/",
          "height": 265
        },
        "id": "7YyPLTGyYTYS",
        "outputId": "04ed3626-d627-451a-bfce-166710f657d2"
      },
      "execution_count": 64,
      "outputs": [
        {
          "output_type": "display_data",
          "data": {
            "text/plain": [
              "<Figure size 432x288 with 1 Axes>"
            ],
            "image/png": "[encoded data removed]"
          },
          "metadata": {
            "needs_background": "light"
          }
        }
      ]
    },
    {
      "cell_type": "markdown",
      "metadata": {
        "id": "I1mn9cK7ef3H"
      },
      "source": [
        "<!-- END QUESTION -->\n",
        "\n",
        "<!-- BEGIN QUESTION -->\n",
        "\n",
        "__Synonyms and antonyms:__ Find three words (w1,w2,w3) where w1 and w2 are synonyms and w1 and w3 are antonyms, but Cosine Distance(w1,w3) < Cosine Distance(w1,w2). For example, w1=\"happy\" is closer to w3=\"sad\" than to w2=\"cheerful\".\n",
        "\n",
        "Once you have found your example, please give a possible explanation for why this counter-intuitive result may have happened.\n",
        "\n",
        "You should use the the `wv_from_bin.distance(w1, w2)` function here in order to compute the cosine distance between two words. _(5 points)_"
      ]
    },
    {
      "cell_type": "code",
      "execution_count": 83,
      "metadata": {
        "tags": [],
        "id": "_ozeiFzRHf3u",
        "colab": {
          "base_uri": "https://localhost:8080/"
        },
        "outputId": "1a38b815-3125-4d57-f910-3dfd0ccc8417"
      },
      "outputs": [
        {
          "output_type": "execute_result",
          "data": {
            "text/plain": [
              "0.6008553206920624"
            ]
          },
          "metadata": {},
          "execution_count": 83
        }
      ],
      "source": [
        "# Your code here\n",
        "wv_from_bin.distance(\"delight\",\"happy\")"
      ]
    },
    {
      "cell_type": "code",
      "source": [
        "wv_from_bin.distance(\"delight\",\"sad\")"
      ],
      "metadata": {
        "colab": {
          "base_uri": "https://localhost:8080/"
        },
        "id": "nrA7AS3AePq9",
        "outputId": "42c68d9c-829c-4435-f887-c3314c4ea3d5"
      },
      "execution_count": 84,
      "outputs": [
        {
          "output_type": "execute_result",
          "data": {
            "text/plain": [
              "0.7215937674045563"
            ]
          },
          "metadata": {},
          "execution_count": 84
        }
      ]
    },
    {
      "cell_type": "markdown",
      "source": [
        "One can see that delight and happy are antonyms whereas delight and sad are synonyms. But the cosine similarity are quite counterintuitive: antonyms have higher consine similarity. \n",
        "\n",
        "One possible explannation is that the word embedding vector encodes not just the word's meaning, but it also encodes a variety of information that depend on the word's context(and hence the data from which we train our model, and the way in which we train our model). For example, delight can be either verb or adj depending on its surrounding context. Our word embedding encodes such information resulting a larger cosine similarity with its antonyms. "
      ],
      "metadata": {
        "id": "UQ2snM_KfyXQ"
      }
    },
    {
      "cell_type": "markdown",
      "metadata": {
        "id": "O8MVeoWJdlfi"
      },
      "source": [
        "<!-- END QUESTION -->\n",
        "\n",
        "__Finding analogies:__ Implement a function `analogy()` which solves the analogy problem, e.g., `man:king::woman:x`. Use the `most_similar()` function provided in Gensim for your implementation. _(3 points)_"
      ]
    },
    {
      "cell_type": "code",
      "execution_count": 106,
      "metadata": {
        "id": "YkUrl7oFx5Fr",
        "tags": []
      },
      "outputs": [],
      "source": [
        "def analogy(x1: str, x2: str, y1: str, top_k: int = 1) -> List[Tuple[str, float]]:\n",
        "    \"\"\"Solves for x1:x2::y1:?\n",
        "    Returns the top-k similar ones.\n",
        "    \"\"\"\n",
        "    return wv_from_bin.most_similar(positive=[x2,y1],negative=[x1],topn=top_k)"
      ]
    },
    {
      "cell_type": "code",
      "execution_count": 107,
      "metadata": {
        "deletable": false,
        "editable": false,
        "id": "u1Slo9xBHf3v",
        "colab": {
          "base_uri": "https://localhost:8080/",
          "height": 46
        },
        "outputId": "3554c6aa-53ae-43e5-c106-34ffa8c30987"
      },
      "outputs": [
        {
          "output_type": "execute_result",
          "data": {
            "text/plain": [
              "word2vec-analogy-impl results: All test cases passed!"
            ],
            "text/html": [
              "<p><strong><pre style='display: inline;'>word2vec-analogy-impl</pre></strong> passed!</p>"
            ]
          },
          "metadata": {},
          "execution_count": 107
        }
      ],
      "source": [
        "grader.check(\"word2vec-analogy-impl\")"
      ]
    },
    {
      "cell_type": "markdown",
      "metadata": {
        "collapsed": false,
        "id": "CWmmYZheHf3v"
      },
      "source": [
        "<!-- BEGIN QUESTION -->\n",
        "\n",
        "__Analyzing bias:__ Complete the following analogies: `man:worker::woman:x` and `woman:worker::man:x` and list the most likely outputs in both cases. Point out the difference between the list of female-associated words and the list of male-associated words, and explain how it is reflecting gender bias. _(5 points)_"
      ]
    },
    {
      "cell_type": "markdown",
      "metadata": {
        "collapsed": false,
        "id": "6LW8imhAHf3v"
      },
      "source": [
        "__Answer:__"
      ]
    },
    {
      "cell_type": "markdown",
      "metadata": {
        "id": "tdfcIFVFHf3v"
      },
      "source": [
        "_Type your answer here, replacing this text._"
      ]
    },
    {
      "cell_type": "code",
      "execution_count": 109,
      "metadata": {
        "tags": [],
        "id": "PZlVAbS7Hf3v",
        "colab": {
          "base_uri": "https://localhost:8080/"
        },
        "outputId": "79c13ec8-9e8a-45ca-c3e5-4c2fed3d08b2"
      },
      "outputs": [
        {
          "output_type": "execute_result",
          "data": {
            "text/plain": [
              "[('employee', 0.6375863552093506),\n",
              " ('workers', 0.6068920493125916),\n",
              " ('nurse', 0.5837947130203247),\n",
              " ('pregnant', 0.5363885164260864),\n",
              " ('mother', 0.5321308970451355),\n",
              " ('employer', 0.5127025842666626),\n",
              " ('teacher', 0.5099576711654663),\n",
              " ('child', 0.5096741318702698),\n",
              " ('homemaker', 0.5019454956054688),\n",
              " ('nurses', 0.4970572590827942)]"
            ]
          },
          "metadata": {},
          "execution_count": 109
        }
      ],
      "source": [
        "# Your code here\n",
        "analogy(\"man\",\"worker\",\"woman\",10)"
      ]
    },
    {
      "cell_type": "code",
      "source": [
        "analogy(\"woman\",\"worker\",\"man\",10)"
      ],
      "metadata": {
        "colab": {
          "base_uri": "https://localhost:8080/"
        },
        "id": "DHcSRS12nZs9",
        "outputId": "a57ac98f-50d5-4d95-dd05-318960c90d9e"
      },
      "execution_count": 110,
      "outputs": [
        {
          "output_type": "execute_result",
          "data": {
            "text/plain": [
              "[('workers', 0.611325740814209),\n",
              " ('employee', 0.5983108878135681),\n",
              " ('working', 0.5615329742431641),\n",
              " ('laborer', 0.5442320108413696),\n",
              " ('unemployed', 0.536851704120636),\n",
              " ('job', 0.5278826355934143),\n",
              " ('work', 0.5223963856697083),\n",
              " ('mechanic', 0.5088937282562256),\n",
              " ('worked', 0.5054520964622498),\n",
              " ('factory', 0.4940454363822937)]"
            ]
          },
          "metadata": {},
          "execution_count": 110
        }
      ]
    },
    {
      "cell_type": "markdown",
      "source": [
        "As one can observe from above, job associated with woman are usually nurse,teacher and homemaker whereas the job assocaited with man are laborer,mechanics. These are the sterotype that came from the training corpus. "
      ],
      "metadata": {
        "id": "CE0u8psonnDJ"
      }
    },
    {
      "cell_type": "markdown",
      "metadata": {
        "collapsed": false,
        "id": "qCIepIbDHf3v"
      },
      "source": [
        "<!-- END QUESTION -->\n",
        "\n",
        "<!-- BEGIN QUESTION -->\n",
        "\n",
        "__Question:__ Suggest some ways to deal with the gender (or racial) bias when training word embedding models, or when using pre-trained models. _(5 points)_"
      ]
    },
    {
      "cell_type": "markdown",
      "metadata": {
        "collapsed": false,
        "id": "eTArhKCLHf3v"
      },
      "source": [
        "__Answer:__"
      ]
    },
    {
      "cell_type": "markdown",
      "metadata": {
        "id": "rZ04rgM9Hf3w"
      },
      "source": [
        "The sterotype mainly came from the training corpus so we can use more unbiased source of data to training the model. On the other hand, we can also manually adjust the printed result in order to reflect the racial and genedr equality."
      ]
    },
    {
      "cell_type": "markdown",
      "metadata": {
        "id": "ORo_-koKHf3w"
      },
      "source": [
        "<!-- END QUESTION -->\n",
        "\n"
      ]
    }
  ],
  "metadata": {
    "colab": {
      "collapsed_sections": [],
      "provenance": []
    },
    "kernelspec": {
      "display_name": "Python 3 (ipykernel)",
      "language": "python",
      "name": "python3"
    },
    "language_info": {
      "codemirror_mode": {
        "name": "ipython",
        "version": 3
      },
      "file_extension": ".py",
      "mimetype": "text/x-python",
      "name": "python",
      "nbconvert_exporter": "python",
      "pygments_lexer": "ipython3",
      "version": "3.10.4"
    },
    "gpuClass": "premium",
    "widgets": {
      "application/vnd.jupyter.widget-state+json": {
        "13e6abca271c4d77bb9e7d5f9050de3f": {
          "model_module": "@jupyter-widgets/controls",
          "model_name": "HBoxModel",
          "model_module_version": "1.5.0",
          "state": {
            "_dom_classes": [],
            "_model_module": "@jupyter-widgets/controls",
            "_model_module_version": "1.5.0",
            "_model_name": "HBoxModel",
            "_view_count": null,
            "_view_module": "@jupyter-widgets/controls",
            "_view_module_version": "1.5.0",
            "_view_name": "HBoxView",
            "box_style": "",
            "children": [
              "IPY_MODEL_abf06928b7fc491e990ca8c4a0bdbc89",
              "IPY_MODEL_885f7771ae694ab99e04383219ac4fe8",
              "IPY_MODEL_390812d88fb24824b2a7d5bc33401544"
            ],
            "layout": "IPY_MODEL_1cda8defd90b4aa8a0d35d1d54ba8b80"
          }
        },
        "abf06928b7fc491e990ca8c4a0bdbc89": {
          "model_module": "@jupyter-widgets/controls",
          "model_name": "HTMLModel",
          "model_module_version": "1.5.0",
          "state": {
            "_dom_classes": [],
            "_model_module": "@jupyter-widgets/controls",
            "_model_module_version": "1.5.0",
            "_model_name": "HTMLModel",
            "_view_count": null,
            "_view_module": "@jupyter-widgets/controls",
            "_view_module_version": "1.5.0",
            "_view_name": "HTMLView",
            "description": "",
            "description_tooltip": null,
            "layout": "IPY_MODEL_2f6b514bc196497688de546317e5a8dc",
            "placeholder": "​",
            "style": "IPY_MODEL_d0ed12c282c0479988538513de4f5f51",
            "value": "Sanity Checking DataLoader 0:   0%"
          }
        },
        "885f7771ae694ab99e04383219ac4fe8": {
          "model_module": "@jupyter-widgets/controls",
          "model_name": "FloatProgressModel",
          "model_module_version": "1.5.0",
          "state": {
            "_dom_classes": [],
            "_model_module": "@jupyter-widgets/controls",
            "_model_module_version": "1.5.0",
            "_model_name": "FloatProgressModel",
            "_view_count": null,
            "_view_module": "@jupyter-widgets/controls",
            "_view_module_version": "1.5.0",
            "_view_name": "ProgressView",
            "bar_style": "",
            "description": "",
            "description_tooltip": null,
            "layout": "IPY_MODEL_2b09e77656824f01af089c729c06f581",
            "max": 2,
            "min": 0,
            "orientation": "horizontal",
            "style": "IPY_MODEL_ada53bfb6007442c98f328eb3b843214",
            "value": 0
          }
        },
        "390812d88fb24824b2a7d5bc33401544": {
          "model_module": "@jupyter-widgets/controls",
          "model_name": "HTMLModel",
          "model_module_version": "1.5.0",
          "state": {
            "_dom_classes": [],
            "_model_module": "@jupyter-widgets/controls",
            "_model_module_version": "1.5.0",
            "_model_name": "HTMLModel",
            "_view_count": null,
            "_view_module": "@jupyter-widgets/controls",
            "_view_module_version": "1.5.0",
            "_view_name": "HTMLView",
            "description": "",
            "description_tooltip": null,
            "layout": "IPY_MODEL_9ba0c266f3854de38729d632a103019a",
            "placeholder": "​",
            "style": "IPY_MODEL_f65232f9740a4a76aa90d8810dcb4708",
            "value": " 0/2 [00:00&lt;?, ?it/s]"
          }
        },
        "1cda8defd90b4aa8a0d35d1d54ba8b80": {
          "model_module": "@jupyter-widgets/base",
          "model_name": "LayoutModel",
          "model_module_version": "1.2.0",
          "state": {
            "_model_module": "@jupyter-widgets/base",
            "_model_module_version": "1.2.0",
            "_model_name": "LayoutModel",
            "_view_count": null,
            "_view_module": "@jupyter-widgets/base",
            "_view_module_version": "1.2.0",
            "_view_name": "LayoutView",
            "align_content": null,
            "align_items": null,
            "align_self": null,
            "border": null,
            "bottom": null,
            "display": "inline-flex",
            "flex": null,
            "flex_flow": "row wrap",
            "grid_area": null,
            "grid_auto_columns": null,
            "grid_auto_flow": null,
            "grid_auto_rows": null,
            "grid_column": null,
            "grid_gap": null,
            "grid_row": null,
            "grid_template_areas": null,
            "grid_template_columns": null,
            "grid_template_rows": null,
            "height": null,
            "justify_content": null,
            "justify_items": null,
            "left": null,
            "margin": null,
            "max_height": null,
            "max_width": null,
            "min_height": null,
            "min_width": null,
            "object_fit": null,
            "object_position": null,
            "order": null,
            "overflow": null,
            "overflow_x": null,
            "overflow_y": null,
            "padding": null,
            "right": null,
            "top": null,
            "visibility": null,
            "width": "100%"
          }
        },
        "2f6b514bc196497688de546317e5a8dc": {
          "model_module": "@jupyter-widgets/base",
          "model_name": "LayoutModel",
          "model_module_version": "1.2.0",
          "state": {
            "_model_module": "@jupyter-widgets/base",
            "_model_module_version": "1.2.0",
            "_model_name": "LayoutModel",
            "_view_count": null,
            "_view_module": "@jupyter-widgets/base",
            "_view_module_version": "1.2.0",
            "_view_name": "LayoutView",
            "align_content": null,
            "align_items": null,
            "align_self": null,
            "border": null,
            "bottom": null,
            "display": null,
            "flex": null,
            "flex_flow": null,
            "grid_area": null,
            "grid_auto_columns": null,
            "grid_auto_flow": null,
            "grid_auto_rows": null,
            "grid_column": null,
            "grid_gap": null,
            "grid_row": null,
            "grid_template_areas": null,
            "grid_template_columns": null,
            "grid_template_rows": null,
            "height": null,
            "justify_content": null,
            "justify_items": null,
            "left": null,
            "margin": null,
            "max_height": null,
            "max_width": null,
            "min_height": null,
            "min_width": null,
            "object_fit": null,
            "object_position": null,
            "order": null,
            "overflow": null,
            "overflow_x": null,
            "overflow_y": null,
            "padding": null,
            "right": null,
            "top": null,
            "visibility": null,
            "width": null
          }
        },
        "d0ed12c282c0479988538513de4f5f51": {
          "model_module": "@jupyter-widgets/controls",
          "model_name": "DescriptionStyleModel",
          "model_module_version": "1.5.0",
          "state": {
            "_model_module": "@jupyter-widgets/controls",
            "_model_module_version": "1.5.0",
            "_model_name": "DescriptionStyleModel",
            "_view_count": null,
            "_view_module": "@jupyter-widgets/base",
            "_view_module_version": "1.2.0",
            "_view_name": "StyleView",
            "description_width": ""
          }
        },
        "2b09e77656824f01af089c729c06f581": {
          "model_module": "@jupyter-widgets/base",
          "model_name": "LayoutModel",
          "model_module_version": "1.2.0",
          "state": {
            "_model_module": "@jupyter-widgets/base",
            "_model_module_version": "1.2.0",
            "_model_name": "LayoutModel",
            "_view_count": null,
            "_view_module": "@jupyter-widgets/base",
            "_view_module_version": "1.2.0",
            "_view_name": "LayoutView",
            "align_content": null,
            "align_items": null,
            "align_self": null,
            "border": null,
            "bottom": null,
            "display": null,
            "flex": "2",
            "flex_flow": null,
            "grid_area": null,
            "grid_auto_columns": null,
            "grid_auto_flow": null,
            "grid_auto_rows": null,
            "grid_column": null,
            "grid_gap": null,
            "grid_row": null,
            "grid_template_areas": null,
            "grid_template_columns": null,
            "grid_template_rows": null,
            "height": null,
            "justify_content": null,
            "justify_items": null,
            "left": null,
            "margin": null,
            "max_height": null,
            "max_width": null,
            "min_height": null,
            "min_width": null,
            "object_fit": null,
            "object_position": null,
            "order": null,
            "overflow": null,
            "overflow_x": null,
            "overflow_y": null,
            "padding": null,
            "right": null,
            "top": null,
            "visibility": null,
            "width": null
          }
        },
        "ada53bfb6007442c98f328eb3b843214": {
          "model_module": "@jupyter-widgets/controls",
          "model_name": "ProgressStyleModel",
          "model_module_version": "1.5.0",
          "state": {
            "_model_module": "@jupyter-widgets/controls",
            "_model_module_version": "1.5.0",
            "_model_name": "ProgressStyleModel",
            "_view_count": null,
            "_view_module": "@jupyter-widgets/base",
            "_view_module_version": "1.2.0",
            "_view_name": "StyleView",
            "bar_color": null,
            "description_width": ""
          }
        },
        "9ba0c266f3854de38729d632a103019a": {
          "model_module": "@jupyter-widgets/base",
          "model_name": "LayoutModel",
          "model_module_version": "1.2.0",
          "state": {
            "_model_module": "@jupyter-widgets/base",
            "_model_module_version": "1.2.0",
            "_model_name": "LayoutModel",
            "_view_count": null,
            "_view_module": "@jupyter-widgets/base",
            "_view_module_version": "1.2.0",
            "_view_name": "LayoutView",
            "align_content": null,
            "align_items": null,
            "align_self": null,
            "border": null,
            "bottom": null,
            "display": null,
            "flex": null,
            "flex_flow": null,
            "grid_area": null,
            "grid_auto_columns": null,
            "grid_auto_flow": null,
            "grid_auto_rows": null,
            "grid_column": null,
            "grid_gap": null,
            "grid_row": null,
            "grid_template_areas": null,
            "grid_template_columns": null,
            "grid_template_rows": null,
            "height": null,
            "justify_content": null,
            "justify_items": null,
            "left": null,
            "margin": null,
            "max_height": null,
            "max_width": null,
            "min_height": null,
            "min_width": null,
            "object_fit": null,
            "object_position": null,
            "order": null,
            "overflow": null,
            "overflow_x": null,
            "overflow_y": null,
            "padding": null,
            "right": null,
            "top": null,
            "visibility": null,
            "width": null
          }
        },
        "f65232f9740a4a76aa90d8810dcb4708": {
          "model_module": "@jupyter-widgets/controls",
          "model_name": "DescriptionStyleModel",
          "model_module_version": "1.5.0",
          "state": {
            "_model_module": "@jupyter-widgets/controls",
            "_model_module_version": "1.5.0",
            "_model_name": "DescriptionStyleModel",
            "_view_count": null,
            "_view_module": "@jupyter-widgets/base",
            "_view_module_version": "1.2.0",
            "_view_name": "StyleView",
            "description_width": ""
          }
        },
        "7a45629e99324df9aaaab1813f468e49": {
          "model_module": "@jupyter-widgets/controls",
          "model_name": "HBoxModel",
          "model_module_version": "1.5.0",
          "state": {
            "_dom_classes": [],
            "_model_module": "@jupyter-widgets/controls",
            "_model_module_version": "1.5.0",
            "_model_name": "HBoxModel",
            "_view_count": null,
            "_view_module": "@jupyter-widgets/controls",
            "_view_module_version": "1.5.0",
            "_view_name": "HBoxView",
            "box_style": "",
            "children": [
              "IPY_MODEL_17e01d5da7124289bff55cf7c126b3d7",
              "IPY_MODEL_203fba1791304812a9c7274f6c26c895",
              "IPY_MODEL_701835e3b5e84b8390a82c1bc1e3b815"
            ],
            "layout": "IPY_MODEL_cc00907d770447c49c4ec29e308d6337"
          }
        },
        "17e01d5da7124289bff55cf7c126b3d7": {
          "model_module": "@jupyter-widgets/controls",
          "model_name": "HTMLModel",
          "model_module_version": "1.5.0",
          "state": {
            "_dom_classes": [],
            "_model_module": "@jupyter-widgets/controls",
            "_model_module_version": "1.5.0",
            "_model_name": "HTMLModel",
            "_view_count": null,
            "_view_module": "@jupyter-widgets/controls",
            "_view_module_version": "1.5.0",
            "_view_name": "HTMLView",
            "description": "",
            "description_tooltip": null,
            "layout": "IPY_MODEL_2a2fd57ac7c0497fb0c36f75dc943533",
            "placeholder": "​",
            "style": "IPY_MODEL_9daf262b3bcf401abf7555e5ca25669e",
            "value": "Sanity Checking DataLoader 0: 100%"
          }
        },
        "203fba1791304812a9c7274f6c26c895": {
          "model_module": "@jupyter-widgets/controls",
          "model_name": "FloatProgressModel",
          "model_module_version": "1.5.0",
          "state": {
            "_dom_classes": [],
            "_model_module": "@jupyter-widgets/controls",
            "_model_module_version": "1.5.0",
            "_model_name": "FloatProgressModel",
            "_view_count": null,
            "_view_module": "@jupyter-widgets/controls",
            "_view_module_version": "1.5.0",
            "_view_name": "ProgressView",
            "bar_style": "",
            "description": "",
            "description_tooltip": null,
            "layout": "IPY_MODEL_d7eb21f9bad143a5b606d1820f195b95",
            "max": 2,
            "min": 0,
            "orientation": "horizontal",
            "style": "IPY_MODEL_d0e9961f709b4d1ea06a0f3e57125e8c",
            "value": 2
          }
        },
        "701835e3b5e84b8390a82c1bc1e3b815": {
          "model_module": "@jupyter-widgets/controls",
          "model_name": "HTMLModel",
          "model_module_version": "1.5.0",
          "state": {
            "_dom_classes": [],
            "_model_module": "@jupyter-widgets/controls",
            "_model_module_version": "1.5.0",
            "_model_name": "HTMLModel",
            "_view_count": null,
            "_view_module": "@jupyter-widgets/controls",
            "_view_module_version": "1.5.0",
            "_view_name": "HTMLView",
            "description": "",
            "description_tooltip": null,
            "layout": "IPY_MODEL_b7a864b9d00547cdbe6e501b76eb6c8c",
            "placeholder": "​",
            "style": "IPY_MODEL_7661ef917cc14456a1f82e590bba3eab",
            "value": " 2/2 [00:00&lt;00:00,  2.48it/s]"
          }
        },
        "cc00907d770447c49c4ec29e308d6337": {
          "model_module": "@jupyter-widgets/base",
          "model_name": "LayoutModel",
          "model_module_version": "1.2.0",
          "state": {
            "_model_module": "@jupyter-widgets/base",
            "_model_module_version": "1.2.0",
            "_model_name": "LayoutModel",
            "_view_count": null,
            "_view_module": "@jupyter-widgets/base",
            "_view_module_version": "1.2.0",
            "_view_name": "LayoutView",
            "align_content": null,
            "align_items": null,
            "align_self": null,
            "border": null,
            "bottom": null,
            "display": "inline-flex",
            "flex": null,
            "flex_flow": "row wrap",
            "grid_area": null,
            "grid_auto_columns": null,
            "grid_auto_flow": null,
            "grid_auto_rows": null,
            "grid_column": null,
            "grid_gap": null,
            "grid_row": null,
            "grid_template_areas": null,
            "grid_template_columns": null,
            "grid_template_rows": null,
            "height": null,
            "justify_content": null,
            "justify_items": null,
            "left": null,
            "margin": null,
            "max_height": null,
            "max_width": null,
            "min_height": null,
            "min_width": null,
            "object_fit": null,
            "object_position": null,
            "order": null,
            "overflow": null,
            "overflow_x": null,
            "overflow_y": null,
            "padding": null,
            "right": null,
            "top": null,
            "visibility": "hidden",
            "width": "100%"
          }
        },
        "2a2fd57ac7c0497fb0c36f75dc943533": {
          "model_module": "@jupyter-widgets/base",
          "model_name": "LayoutModel",
          "model_module_version": "1.2.0",
          "state": {
            "_model_module": "@jupyter-widgets/base",
            "_model_module_version": "1.2.0",
            "_model_name": "LayoutModel",
            "_view_count": null,
            "_view_module": "@jupyter-widgets/base",
            "_view_module_version": "1.2.0",
            "_view_name": "LayoutView",
            "align_content": null,
            "align_items": null,
            "align_self": null,
            "border": null,
            "bottom": null,
            "display": null,
            "flex": null,
            "flex_flow": null,
            "grid_area": null,
            "grid_auto_columns": null,
            "grid_auto_flow": null,
            "grid_auto_rows": null,
            "grid_column": null,
            "grid_gap": null,
            "grid_row": null,
            "grid_template_areas": null,
            "grid_template_columns": null,
            "grid_template_rows": null,
            "height": null,
            "justify_content": null,
            "justify_items": null,
            "left": null,
            "margin": null,
            "max_height": null,
            "max_width": null,
            "min_height": null,
            "min_width": null,
            "object_fit": null,
            "object_position": null,
            "order": null,
            "overflow": null,
            "overflow_x": null,
            "overflow_y": null,
            "padding": null,
            "right": null,
            "top": null,
            "visibility": null,
            "width": null
          }
        },
        "9daf262b3bcf401abf7555e5ca25669e": {
          "model_module": "@jupyter-widgets/controls",
          "model_name": "DescriptionStyleModel",
          "model_module_version": "1.5.0",
          "state": {
            "_model_module": "@jupyter-widgets/controls",
            "_model_module_version": "1.5.0",
            "_model_name": "DescriptionStyleModel",
            "_view_count": null,
            "_view_module": "@jupyter-widgets/base",
            "_view_module_version": "1.2.0",
            "_view_name": "StyleView",
            "description_width": ""
          }
        },
        "d7eb21f9bad143a5b606d1820f195b95": {
          "model_module": "@jupyter-widgets/base",
          "model_name": "LayoutModel",
          "model_module_version": "1.2.0",
          "state": {
            "_model_module": "@jupyter-widgets/base",
            "_model_module_version": "1.2.0",
            "_model_name": "LayoutModel",
            "_view_count": null,
            "_view_module": "@jupyter-widgets/base",
            "_view_module_version": "1.2.0",
            "_view_name": "LayoutView",
            "align_content": null,
            "align_items": null,
            "align_self": null,
            "border": null,
            "bottom": null,
            "display": null,
            "flex": "2",
            "flex_flow": null,
            "grid_area": null,
            "grid_auto_columns": null,
            "grid_auto_flow": null,
            "grid_auto_rows": null,
            "grid_column": null,
            "grid_gap": null,
            "grid_row": null,
            "grid_template_areas": null,
            "grid_template_columns": null,
            "grid_template_rows": null,
            "height": null,
            "justify_content": null,
            "justify_items": null,
            "left": null,
            "margin": null,
            "max_height": null,
            "max_width": null,
            "min_height": null,
            "min_width": null,
            "object_fit": null,
            "object_position": null,
            "order": null,
            "overflow": null,
            "overflow_x": null,
            "overflow_y": null,
            "padding": null,
            "right": null,
            "top": null,
            "visibility": null,
            "width": null
          }
        },
        "d0e9961f709b4d1ea06a0f3e57125e8c": {
          "model_module": "@jupyter-widgets/controls",
          "model_name": "ProgressStyleModel",
          "model_module_version": "1.5.0",
          "state": {
            "_model_module": "@jupyter-widgets/controls",
            "_model_module_version": "1.5.0",
            "_model_name": "ProgressStyleModel",
            "_view_count": null,
            "_view_module": "@jupyter-widgets/base",
            "_view_module_version": "1.2.0",
            "_view_name": "StyleView",
            "bar_color": null,
            "description_width": ""
          }
        },
        "b7a864b9d00547cdbe6e501b76eb6c8c": {
          "model_module": "@jupyter-widgets/base",
          "model_name": "LayoutModel",
          "model_module_version": "1.2.0",
          "state": {
            "_model_module": "@jupyter-widgets/base",
            "_model_module_version": "1.2.0",
            "_model_name": "LayoutModel",
            "_view_count": null,
            "_view_module": "@jupyter-widgets/base",
            "_view_module_version": "1.2.0",
            "_view_name": "LayoutView",
            "align_content": null,
            "align_items": null,
            "align_self": null,
            "border": null,
            "bottom": null,
            "display": null,
            "flex": null,
            "flex_flow": null,
            "grid_area": null,
            "grid_auto_columns": null,
            "grid_auto_flow": null,
            "grid_auto_rows": null,
            "grid_column": null,
            "grid_gap": null,
            "grid_row": null,
            "grid_template_areas": null,
            "grid_template_columns": null,
            "grid_template_rows": null,
            "height": null,
            "justify_content": null,
            "justify_items": null,
            "left": null,
            "margin": null,
            "max_height": null,
            "max_width": null,
            "min_height": null,
            "min_width": null,
            "object_fit": null,
            "object_position": null,
            "order": null,
            "overflow": null,
            "overflow_x": null,
            "overflow_y": null,
            "padding": null,
            "right": null,
            "top": null,
            "visibility": null,
            "width": null
          }
        },
        "7661ef917cc14456a1f82e590bba3eab": {
          "model_module": "@jupyter-widgets/controls",
          "model_name": "DescriptionStyleModel",
          "model_module_version": "1.5.0",
          "state": {
            "_model_module": "@jupyter-widgets/controls",
            "_model_module_version": "1.5.0",
            "_model_name": "DescriptionStyleModel",
            "_view_count": null,
            "_view_module": "@jupyter-widgets/base",
            "_view_module_version": "1.2.0",
            "_view_name": "StyleView",
            "description_width": ""
          }
        },
        "985e9a4b44224b679cc1eff112ebba75": {
          "model_module": "@jupyter-widgets/controls",
          "model_name": "HBoxModel",
          "model_module_version": "1.5.0",
          "state": {
            "_dom_classes": [],
            "_model_module": "@jupyter-widgets/controls",
            "_model_module_version": "1.5.0",
            "_model_name": "HBoxModel",
            "_view_count": null,
            "_view_module": "@jupyter-widgets/controls",
            "_view_module_version": "1.5.0",
            "_view_name": "HBoxView",
            "box_style": "",
            "children": [
              "IPY_MODEL_d2d34f5f053d4136a3696b200fcb5c69",
              "IPY_MODEL_b83e0bb254db419bb02f3941627092d0",
              "IPY_MODEL_c0b80209f79248a8b909c57e3733f7dd"
            ],
            "layout": "IPY_MODEL_3a8b76b801bc4db4a05222cc95bf229f"
          }
        },
        "d2d34f5f053d4136a3696b200fcb5c69": {
          "model_module": "@jupyter-widgets/controls",
          "model_name": "HTMLModel",
          "model_module_version": "1.5.0",
          "state": {
            "_dom_classes": [],
            "_model_module": "@jupyter-widgets/controls",
            "_model_module_version": "1.5.0",
            "_model_name": "HTMLModel",
            "_view_count": null,
            "_view_module": "@jupyter-widgets/controls",
            "_view_module_version": "1.5.0",
            "_view_name": "HTMLView",
            "description": "",
            "description_tooltip": null,
            "layout": "IPY_MODEL_ef8a91ea760e4e3094c9297094ad9f23",
            "placeholder": "​",
            "style": "IPY_MODEL_1e5927a975ac42698f98552f69fbb800",
            "value": "Epoch 7: 100%"
          }
        },
        "b83e0bb254db419bb02f3941627092d0": {
          "model_module": "@jupyter-widgets/controls",
          "model_name": "FloatProgressModel",
          "model_module_version": "1.5.0",
          "state": {
            "_dom_classes": [],
            "_model_module": "@jupyter-widgets/controls",
            "_model_module_version": "1.5.0",
            "_model_name": "FloatProgressModel",
            "_view_count": null,
            "_view_module": "@jupyter-widgets/controls",
            "_view_module_version": "1.5.0",
            "_view_name": "ProgressView",
            "bar_style": "success",
            "description": "",
            "description_tooltip": null,
            "layout": "IPY_MODEL_b9a259a37fe145329a87fae4e022c72f",
            "max": 161,
            "min": 0,
            "orientation": "horizontal",
            "style": "IPY_MODEL_aef4733632ed436191b37ad9734376bd",
            "value": 161
          }
        },
        "c0b80209f79248a8b909c57e3733f7dd": {
          "model_module": "@jupyter-widgets/controls",
          "model_name": "HTMLModel",
          "model_module_version": "1.5.0",
          "state": {
            "_dom_classes": [],
            "_model_module": "@jupyter-widgets/controls",
            "_model_module_version": "1.5.0",
            "_model_name": "HTMLModel",
            "_view_count": null,
            "_view_module": "@jupyter-widgets/controls",
            "_view_module_version": "1.5.0",
            "_view_name": "HTMLView",
            "description": "",
            "description_tooltip": null,
            "layout": "IPY_MODEL_5abeb934cd7b44f38fc0be2ee8c0ca46",
            "placeholder": "​",
            "style": "IPY_MODEL_d9da576fddd8421ab20d3a6795f2f26d",
            "value": " 161/161 [01:16&lt;00:00,  2.11it/s, loss=1.15, v_num=0]"
          }
        },
        "3a8b76b801bc4db4a05222cc95bf229f": {
          "model_module": "@jupyter-widgets/base",
          "model_name": "LayoutModel",
          "model_module_version": "1.2.0",
          "state": {
            "_model_module": "@jupyter-widgets/base",
            "_model_module_version": "1.2.0",
            "_model_name": "LayoutModel",
            "_view_count": null,
            "_view_module": "@jupyter-widgets/base",
            "_view_module_version": "1.2.0",
            "_view_name": "LayoutView",
            "align_content": null,
            "align_items": null,
            "align_self": null,
            "border": null,
            "bottom": null,
            "display": "inline-flex",
            "flex": null,
            "flex_flow": "row wrap",
            "grid_area": null,
            "grid_auto_columns": null,
            "grid_auto_flow": null,
            "grid_auto_rows": null,
            "grid_column": null,
            "grid_gap": null,
            "grid_row": null,
            "grid_template_areas": null,
            "grid_template_columns": null,
            "grid_template_rows": null,
            "height": null,
            "justify_content": null,
            "justify_items": null,
            "left": null,
            "margin": null,
            "max_height": null,
            "max_width": null,
            "min_height": null,
            "min_width": null,
            "object_fit": null,
            "object_position": null,
            "order": null,
            "overflow": null,
            "overflow_x": null,
            "overflow_y": null,
            "padding": null,
            "right": null,
            "top": null,
            "visibility": null,
            "width": "100%"
          }
        },
        "ef8a91ea760e4e3094c9297094ad9f23": {
          "model_module": "@jupyter-widgets/base",
          "model_name": "LayoutModel",
          "model_module_version": "1.2.0",
          "state": {
            "_model_module": "@jupyter-widgets/base",
            "_model_module_version": "1.2.0",
            "_model_name": "LayoutModel",
            "_view_count": null,
            "_view_module": "@jupyter-widgets/base",
            "_view_module_version": "1.2.0",
            "_view_name": "LayoutView",
            "align_content": null,
            "align_items": null,
            "align_self": null,
            "border": null,
            "bottom": null,
            "display": null,
            "flex": null,
            "flex_flow": null,
            "grid_area": null,
            "grid_auto_columns": null,
            "grid_auto_flow": null,
            "grid_auto_rows": null,
            "grid_column": null,
            "grid_gap": null,
            "grid_row": null,
            "grid_template_areas": null,
            "grid_template_columns": null,
            "grid_template_rows": null,
            "height": null,
            "justify_content": null,
            "justify_items": null,
            "left": null,
            "margin": null,
            "max_height": null,
            "max_width": null,
            "min_height": null,
            "min_width": null,
            "object_fit": null,
            "object_position": null,
            "order": null,
            "overflow": null,
            "overflow_x": null,
            "overflow_y": null,
            "padding": null,
            "right": null,
            "top": null,
            "visibility": null,
            "width": null
          }
        },
        "1e5927a975ac42698f98552f69fbb800": {
          "model_module": "@jupyter-widgets/controls",
          "model_name": "DescriptionStyleModel",
          "model_module_version": "1.5.0",
          "state": {
            "_model_module": "@jupyter-widgets/controls",
            "_model_module_version": "1.5.0",
            "_model_name": "DescriptionStyleModel",
            "_view_count": null,
            "_view_module": "@jupyter-widgets/base",
            "_view_module_version": "1.2.0",
            "_view_name": "StyleView",
            "description_width": ""
          }
        },
        "b9a259a37fe145329a87fae4e022c72f": {
          "model_module": "@jupyter-widgets/base",
          "model_name": "LayoutModel",
          "model_module_version": "1.2.0",
          "state": {
            "_model_module": "@jupyter-widgets/base",
            "_model_module_version": "1.2.0",
            "_model_name": "LayoutModel",
            "_view_count": null,
            "_view_module": "@jupyter-widgets/base",
            "_view_module_version": "1.2.0",
            "_view_name": "LayoutView",
            "align_content": null,
            "align_items": null,
            "align_self": null,
            "border": null,
            "bottom": null,
            "display": null,
            "flex": "2",
            "flex_flow": null,
            "grid_area": null,
            "grid_auto_columns": null,
            "grid_auto_flow": null,
            "grid_auto_rows": null,
            "grid_column": null,
            "grid_gap": null,
            "grid_row": null,
            "grid_template_areas": null,
            "grid_template_columns": null,
            "grid_template_rows": null,
            "height": null,
            "justify_content": null,
            "justify_items": null,
            "left": null,
            "margin": null,
            "max_height": null,
            "max_width": null,
            "min_height": null,
            "min_width": null,
            "object_fit": null,
            "object_position": null,
            "order": null,
            "overflow": null,
            "overflow_x": null,
            "overflow_y": null,
            "padding": null,
            "right": null,
            "top": null,
            "visibility": null,
            "width": null
          }
        },
        "aef4733632ed436191b37ad9734376bd": {
          "model_module": "@jupyter-widgets/controls",
          "model_name": "ProgressStyleModel",
          "model_module_version": "1.5.0",
          "state": {
            "_model_module": "@jupyter-widgets/controls",
            "_model_module_version": "1.5.0",
            "_model_name": "ProgressStyleModel",
            "_view_count": null,
            "_view_module": "@jupyter-widgets/base",
            "_view_module_version": "1.2.0",
            "_view_name": "StyleView",
            "bar_color": null,
            "description_width": ""
          }
        },
        "5abeb934cd7b44f38fc0be2ee8c0ca46": {
          "model_module": "@jupyter-widgets/base",
          "model_name": "LayoutModel",
          "model_module_version": "1.2.0",
          "state": {
            "_model_module": "@jupyter-widgets/base",
            "_model_module_version": "1.2.0",
            "_model_name": "LayoutModel",
            "_view_count": null,
            "_view_module": "@jupyter-widgets/base",
            "_view_module_version": "1.2.0",
            "_view_name": "LayoutView",
            "align_content": null,
            "align_items": null,
            "align_self": null,
            "border": null,
            "bottom": null,
            "display": null,
            "flex": null,
            "flex_flow": null,
            "grid_area": null,
            "grid_auto_columns": null,
            "grid_auto_flow": null,
            "grid_auto_rows": null,
            "grid_column": null,
            "grid_gap": null,
            "grid_row": null,
            "grid_template_areas": null,
            "grid_template_columns": null,
            "grid_template_rows": null,
            "height": null,
            "justify_content": null,
            "justify_items": null,
            "left": null,
            "margin": null,
            "max_height": null,
            "max_width": null,
            "min_height": null,
            "min_width": null,
            "object_fit": null,
            "object_position": null,
            "order": null,
            "overflow": null,
            "overflow_x": null,
            "overflow_y": null,
            "padding": null,
            "right": null,
            "top": null,
            "visibility": null,
            "width": null
          }
        },
        "d9da576fddd8421ab20d3a6795f2f26d": {
          "model_module": "@jupyter-widgets/controls",
          "model_name": "DescriptionStyleModel",
          "model_module_version": "1.5.0",
          "state": {
            "_model_module": "@jupyter-widgets/controls",
            "_model_module_version": "1.5.0",
            "_model_name": "DescriptionStyleModel",
            "_view_count": null,
            "_view_module": "@jupyter-widgets/base",
            "_view_module_version": "1.2.0",
            "_view_name": "StyleView",
            "description_width": ""
          }
        },
        "4250d6fbd43c4f4c8f6b9f0b325544fc": {
          "model_module": "@jupyter-widgets/controls",
          "model_name": "HBoxModel",
          "model_module_version": "1.5.0",
          "state": {
            "_dom_classes": [],
            "_model_module": "@jupyter-widgets/controls",
            "_model_module_version": "1.5.0",
            "_model_name": "HBoxModel",
            "_view_count": null,
            "_view_module": "@jupyter-widgets/controls",
            "_view_module_version": "1.5.0",
            "_view_name": "HBoxView",
            "box_style": "",
            "children": [
              "IPY_MODEL_2e11eb8091d0499fbdb4d238b3748111",
              "IPY_MODEL_648f9f7dd5df491799038f48d202eafb",
              "IPY_MODEL_e01105cc2c354e239ecba6c6a1882051"
            ],
            "layout": "IPY_MODEL_e79474b663344c229e356f401ed59d7c"
          }
        },
        "2e11eb8091d0499fbdb4d238b3748111": {
          "model_module": "@jupyter-widgets/controls",
          "model_name": "HTMLModel",
          "model_module_version": "1.5.0",
          "state": {
            "_dom_classes": [],
            "_model_module": "@jupyter-widgets/controls",
            "_model_module_version": "1.5.0",
            "_model_name": "HTMLModel",
            "_view_count": null,
            "_view_module": "@jupyter-widgets/controls",
            "_view_module_version": "1.5.0",
            "_view_name": "HTMLView",
            "description": "",
            "description_tooltip": null,
            "layout": "IPY_MODEL_7aaaaab693f3404b905f82392b320d48",
            "placeholder": "​",
            "style": "IPY_MODEL_091f8d7431244941a89777401900fad2",
            "value": "Validation DataLoader 0: 100%"
          }
        },
        "648f9f7dd5df491799038f48d202eafb": {
          "model_module": "@jupyter-widgets/controls",
          "model_name": "FloatProgressModel",
          "model_module_version": "1.5.0",
          "state": {
            "_dom_classes": [],
            "_model_module": "@jupyter-widgets/controls",
            "_model_module_version": "1.5.0",
            "_model_name": "FloatProgressModel",
            "_view_count": null,
            "_view_module": "@jupyter-widgets/controls",
            "_view_module_version": "1.5.0",
            "_view_name": "ProgressView",
            "bar_style": "",
            "description": "",
            "description_tooltip": null,
            "layout": "IPY_MODEL_b47adec3309140fe89f6ea89313b86a8",
            "max": 28,
            "min": 0,
            "orientation": "horizontal",
            "style": "IPY_MODEL_f25d7c62b6ca47baacf42c5d8ec87173",
            "value": 28
          }
        },
        "e01105cc2c354e239ecba6c6a1882051": {
          "model_module": "@jupyter-widgets/controls",
          "model_name": "HTMLModel",
          "model_module_version": "1.5.0",
          "state": {
            "_dom_classes": [],
            "_model_module": "@jupyter-widgets/controls",
            "_model_module_version": "1.5.0",
            "_model_name": "HTMLModel",
            "_view_count": null,
            "_view_module": "@jupyter-widgets/controls",
            "_view_module_version": "1.5.0",
            "_view_name": "HTMLView",
            "description": "",
            "description_tooltip": null,
            "layout": "IPY_MODEL_4e615e455a8845e5982afc1d2ee92eb9",
            "placeholder": "​",
            "style": "IPY_MODEL_b4c5c73cbe6b4c9f855c654ba15c2b5d",
            "value": " 28/28 [00:05&lt;00:00,  5.27it/s]"
          }
        },
        "e79474b663344c229e356f401ed59d7c": {
          "model_module": "@jupyter-widgets/base",
          "model_name": "LayoutModel",
          "model_module_version": "1.2.0",
          "state": {
            "_model_module": "@jupyter-widgets/base",
            "_model_module_version": "1.2.0",
            "_model_name": "LayoutModel",
            "_view_count": null,
            "_view_module": "@jupyter-widgets/base",
            "_view_module_version": "1.2.0",
            "_view_name": "LayoutView",
            "align_content": null,
            "align_items": null,
            "align_self": null,
            "border": null,
            "bottom": null,
            "display": "inline-flex",
            "flex": null,
            "flex_flow": "row wrap",
            "grid_area": null,
            "grid_auto_columns": null,
            "grid_auto_flow": null,
            "grid_auto_rows": null,
            "grid_column": null,
            "grid_gap": null,
            "grid_row": null,
            "grid_template_areas": null,
            "grid_template_columns": null,
            "grid_template_rows": null,
            "height": null,
            "justify_content": null,
            "justify_items": null,
            "left": null,
            "margin": null,
            "max_height": null,
            "max_width": null,
            "min_height": null,
            "min_width": null,
            "object_fit": null,
            "object_position": null,
            "order": null,
            "overflow": null,
            "overflow_x": null,
            "overflow_y": null,
            "padding": null,
            "right": null,
            "top": null,
            "visibility": "hidden",
            "width": "100%"
          }
        },
        "7aaaaab693f3404b905f82392b320d48": {
          "model_module": "@jupyter-widgets/base",
          "model_name": "LayoutModel",
          "model_module_version": "1.2.0",
          "state": {
            "_model_module": "@jupyter-widgets/base",
            "_model_module_version": "1.2.0",
            "_model_name": "LayoutModel",
            "_view_count": null,
            "_view_module": "@jupyter-widgets/base",
            "_view_module_version": "1.2.0",
            "_view_name": "LayoutView",
            "align_content": null,
            "align_items": null,
            "align_self": null,
            "border": null,
            "bottom": null,
            "display": null,
            "flex": null,
            "flex_flow": null,
            "grid_area": null,
            "grid_auto_columns": null,
            "grid_auto_flow": null,
            "grid_auto_rows": null,
            "grid_column": null,
            "grid_gap": null,
            "grid_row": null,
            "grid_template_areas": null,
            "grid_template_columns": null,
            "grid_template_rows": null,
            "height": null,
            "justify_content": null,
            "justify_items": null,
            "left": null,
            "margin": null,
            "max_height": null,
            "max_width": null,
            "min_height": null,
            "min_width": null,
            "object_fit": null,
            "object_position": null,
            "order": null,
            "overflow": null,
            "overflow_x": null,
            "overflow_y": null,
            "padding": null,
            "right": null,
            "top": null,
            "visibility": null,
            "width": null
          }
        },
        "091f8d7431244941a89777401900fad2": {
          "model_module": "@jupyter-widgets/controls",
          "model_name": "DescriptionStyleModel",
          "model_module_version": "1.5.0",
          "state": {
            "_model_module": "@jupyter-widgets/controls",
            "_model_module_version": "1.5.0",
            "_model_name": "DescriptionStyleModel",
            "_view_count": null,
            "_view_module": "@jupyter-widgets/base",
            "_view_module_version": "1.2.0",
            "_view_name": "StyleView",
            "description_width": ""
          }
        },
        "b47adec3309140fe89f6ea89313b86a8": {
          "model_module": "@jupyter-widgets/base",
          "model_name": "LayoutModel",
          "model_module_version": "1.2.0",
          "state": {
            "_model_module": "@jupyter-widgets/base",
            "_model_module_version": "1.2.0",
            "_model_name": "LayoutModel",
            "_view_count": null,
            "_view_module": "@jupyter-widgets/base",
            "_view_module_version": "1.2.0",
            "_view_name": "LayoutView",
            "align_content": null,
            "align_items": null,
            "align_self": null,
            "border": null,
            "bottom": null,
            "display": null,
            "flex": "2",
            "flex_flow": null,
            "grid_area": null,
            "grid_auto_columns": null,
            "grid_auto_flow": null,
            "grid_auto_rows": null,
            "grid_column": null,
            "grid_gap": null,
            "grid_row": null,
            "grid_template_areas": null,
            "grid_template_columns": null,
            "grid_template_rows": null,
            "height": null,
            "justify_content": null,
            "justify_items": null,
            "left": null,
            "margin": null,
            "max_height": null,
            "max_width": null,
            "min_height": null,
            "min_width": null,
            "object_fit": null,
            "object_position": null,
            "order": null,
            "overflow": null,
            "overflow_x": null,
            "overflow_y": null,
            "padding": null,
            "right": null,
            "top": null,
            "visibility": null,
            "width": null
          }
        },
        "f25d7c62b6ca47baacf42c5d8ec87173": {
          "model_module": "@jupyter-widgets/controls",
          "model_name": "ProgressStyleModel",
          "model_module_version": "1.5.0",
          "state": {
            "_model_module": "@jupyter-widgets/controls",
            "_model_module_version": "1.5.0",
            "_model_name": "ProgressStyleModel",
            "_view_count": null,
            "_view_module": "@jupyter-widgets/base",
            "_view_module_version": "1.2.0",
            "_view_name": "StyleView",
            "bar_color": null,
            "description_width": ""
          }
        },
        "4e615e455a8845e5982afc1d2ee92eb9": {
          "model_module": "@jupyter-widgets/base",
          "model_name": "LayoutModel",
          "model_module_version": "1.2.0",
          "state": {
            "_model_module": "@jupyter-widgets/base",
            "_model_module_version": "1.2.0",
            "_model_name": "LayoutModel",
            "_view_count": null,
            "_view_module": "@jupyter-widgets/base",
            "_view_module_version": "1.2.0",
            "_view_name": "LayoutView",
            "align_content": null,
            "align_items": null,
            "align_self": null,
            "border": null,
            "bottom": null,
            "display": null,
            "flex": null,
            "flex_flow": null,
            "grid_area": null,
            "grid_auto_columns": null,
            "grid_auto_flow": null,
            "grid_auto_rows": null,
            "grid_column": null,
            "grid_gap": null,
            "grid_row": null,
            "grid_template_areas": null,
            "grid_template_columns": null,
            "grid_template_rows": null,
            "height": null,
            "justify_content": null,
            "justify_items": null,
            "left": null,
            "margin": null,
            "max_height": null,
            "max_width": null,
            "min_height": null,
            "min_width": null,
            "object_fit": null,
            "object_position": null,
            "order": null,
            "overflow": null,
            "overflow_x": null,
            "overflow_y": null,
            "padding": null,
            "right": null,
            "top": null,
            "visibility": null,
            "width": null
          }
        },
        "b4c5c73cbe6b4c9f855c654ba15c2b5d": {
          "model_module": "@jupyter-widgets/controls",
          "model_name": "DescriptionStyleModel",
          "model_module_version": "1.5.0",
          "state": {
            "_model_module": "@jupyter-widgets/controls",
            "_model_module_version": "1.5.0",
            "_model_name": "DescriptionStyleModel",
            "_view_count": null,
            "_view_module": "@jupyter-widgets/base",
            "_view_module_version": "1.2.0",
            "_view_name": "StyleView",
            "description_width": ""
          }
        },
        "3244d3712c144714be9692065333a82c": {
          "model_module": "@jupyter-widgets/controls",
          "model_name": "HBoxModel",
          "model_module_version": "1.5.0",
          "state": {
            "_dom_classes": [],
            "_model_module": "@jupyter-widgets/controls",
            "_model_module_version": "1.5.0",
            "_model_name": "HBoxModel",
            "_view_count": null,
            "_view_module": "@jupyter-widgets/controls",
            "_view_module_version": "1.5.0",
            "_view_name": "HBoxView",
            "box_style": "",
            "children": [
              "IPY_MODEL_e2373163886446ab8cb7d7827f05cee1",
              "IPY_MODEL_e1600f9c41dc47deb5b5b527deb6b62c",
              "IPY_MODEL_369268eeed7f4851b263d508a4a576f3"
            ],
            "layout": "IPY_MODEL_f72061bb81f9404a96e17d7a10375a1a"
          }
        },
        "e2373163886446ab8cb7d7827f05cee1": {
          "model_module": "@jupyter-widgets/controls",
          "model_name": "HTMLModel",
          "model_module_version": "1.5.0",
          "state": {
            "_dom_classes": [],
            "_model_module": "@jupyter-widgets/controls",
            "_model_module_version": "1.5.0",
            "_model_name": "HTMLModel",
            "_view_count": null,
            "_view_module": "@jupyter-widgets/controls",
            "_view_module_version": "1.5.0",
            "_view_name": "HTMLView",
            "description": "",
            "description_tooltip": null,
            "layout": "IPY_MODEL_c5d005be2321420b80904bc6f37ed9ee",
            "placeholder": "​",
            "style": "IPY_MODEL_5c47d9418b754cefb060e8bff13ae1b8",
            "value": "Validation DataLoader 0: 100%"
          }
        },
        "e1600f9c41dc47deb5b5b527deb6b62c": {
          "model_module": "@jupyter-widgets/controls",
          "model_name": "FloatProgressModel",
          "model_module_version": "1.5.0",
          "state": {
            "_dom_classes": [],
            "_model_module": "@jupyter-widgets/controls",
            "_model_module_version": "1.5.0",
            "_model_name": "FloatProgressModel",
            "_view_count": null,
            "_view_module": "@jupyter-widgets/controls",
            "_view_module_version": "1.5.0",
            "_view_name": "ProgressView",
            "bar_style": "",
            "description": "",
            "description_tooltip": null,
            "layout": "IPY_MODEL_ca4166e05a7545b5a9ff9395a24e9bdd",
            "max": 28,
            "min": 0,
            "orientation": "horizontal",
            "style": "IPY_MODEL_6ebd7c7837334bbe96164e00e04478b1",
            "value": 28
          }
        },
        "369268eeed7f4851b263d508a4a576f3": {
          "model_module": "@jupyter-widgets/controls",
          "model_name": "HTMLModel",
          "model_module_version": "1.5.0",
          "state": {
            "_dom_classes": [],
            "_model_module": "@jupyter-widgets/controls",
            "_model_module_version": "1.5.0",
            "_model_name": "HTMLModel",
            "_view_count": null,
            "_view_module": "@jupyter-widgets/controls",
            "_view_module_version": "1.5.0",
            "_view_name": "HTMLView",
            "description": "",
            "description_tooltip": null,
            "layout": "IPY_MODEL_dcc45a943e254aeb8889b0b138d4a6b5",
            "placeholder": "​",
            "style": "IPY_MODEL_6c639b8f23594d9bb290501610b1255b",
            "value": " 28/28 [00:05&lt;00:00,  5.31it/s]"
          }
        },
        "f72061bb81f9404a96e17d7a10375a1a": {
          "model_module": "@jupyter-widgets/base",
          "model_name": "LayoutModel",
          "model_module_version": "1.2.0",
          "state": {
            "_model_module": "@jupyter-widgets/base",
            "_model_module_version": "1.2.0",
            "_model_name": "LayoutModel",
            "_view_count": null,
            "_view_module": "@jupyter-widgets/base",
            "_view_module_version": "1.2.0",
            "_view_name": "LayoutView",
            "align_content": null,
            "align_items": null,
            "align_self": null,
            "border": null,
            "bottom": null,
            "display": "inline-flex",
            "flex": null,
            "flex_flow": "row wrap",
            "grid_area": null,
            "grid_auto_columns": null,
            "grid_auto_flow": null,
            "grid_auto_rows": null,
            "grid_column": null,
            "grid_gap": null,
            "grid_row": null,
            "grid_template_areas": null,
            "grid_template_columns": null,
            "grid_template_rows": null,
            "height": null,
            "justify_content": null,
            "justify_items": null,
            "left": null,
            "margin": null,
            "max_height": null,
            "max_width": null,
            "min_height": null,
            "min_width": null,
            "object_fit": null,
            "object_position": null,
            "order": null,
            "overflow": null,
            "overflow_x": null,
            "overflow_y": null,
            "padding": null,
            "right": null,
            "top": null,
            "visibility": "hidden",
            "width": "100%"
          }
        },
        "c5d005be2321420b80904bc6f37ed9ee": {
          "model_module": "@jupyter-widgets/base",
          "model_name": "LayoutModel",
          "model_module_version": "1.2.0",
          "state": {
            "_model_module": "@jupyter-widgets/base",
            "_model_module_version": "1.2.0",
            "_model_name": "LayoutModel",
            "_view_count": null,
            "_view_module": "@jupyter-widgets/base",
            "_view_module_version": "1.2.0",
            "_view_name": "LayoutView",
            "align_content": null,
            "align_items": null,
            "align_self": null,
            "border": null,
            "bottom": null,
            "display": null,
            "flex": null,
            "flex_flow": null,
            "grid_area": null,
            "grid_auto_columns": null,
            "grid_auto_flow": null,
            "grid_auto_rows": null,
            "grid_column": null,
            "grid_gap": null,
            "grid_row": null,
            "grid_template_areas": null,
            "grid_template_columns": null,
            "grid_template_rows": null,
            "height": null,
            "justify_content": null,
            "justify_items": null,
            "left": null,
            "margin": null,
            "max_height": null,
            "max_width": null,
            "min_height": null,
            "min_width": null,
            "object_fit": null,
            "object_position": null,
            "order": null,
            "overflow": null,
            "overflow_x": null,
            "overflow_y": null,
            "padding": null,
            "right": null,
            "top": null,
            "visibility": null,
            "width": null
          }
        },
        "5c47d9418b754cefb060e8bff13ae1b8": {
          "model_module": "@jupyter-widgets/controls",
          "model_name": "DescriptionStyleModel",
          "model_module_version": "1.5.0",
          "state": {
            "_model_module": "@jupyter-widgets/controls",
            "_model_module_version": "1.5.0",
            "_model_name": "DescriptionStyleModel",
            "_view_count": null,
            "_view_module": "@jupyter-widgets/base",
            "_view_module_version": "1.2.0",
            "_view_name": "StyleView",
            "description_width": ""
          }
        },
        "ca4166e05a7545b5a9ff9395a24e9bdd": {
          "model_module": "@jupyter-widgets/base",
          "model_name": "LayoutModel",
          "model_module_version": "1.2.0",
          "state": {
            "_model_module": "@jupyter-widgets/base",
            "_model_module_version": "1.2.0",
            "_model_name": "LayoutModel",
            "_view_count": null,
            "_view_module": "@jupyter-widgets/base",
            "_view_module_version": "1.2.0",
            "_view_name": "LayoutView",
            "align_content": null,
            "align_items": null,
            "align_self": null,
            "border": null,
            "bottom": null,
            "display": null,
            "flex": "2",
            "flex_flow": null,
            "grid_area": null,
            "grid_auto_columns": null,
            "grid_auto_flow": null,
            "grid_auto_rows": null,
            "grid_column": null,
            "grid_gap": null,
            "grid_row": null,
            "grid_template_areas": null,
            "grid_template_columns": null,
            "grid_template_rows": null,
            "height": null,
            "justify_content": null,
            "justify_items": null,
            "left": null,
            "margin": null,
            "max_height": null,
            "max_width": null,
            "min_height": null,
            "min_width": null,
            "object_fit": null,
            "object_position": null,
            "order": null,
            "overflow": null,
            "overflow_x": null,
            "overflow_y": null,
            "padding": null,
            "right": null,
            "top": null,
            "visibility": null,
            "width": null
          }
        },
        "6ebd7c7837334bbe96164e00e04478b1": {
          "model_module": "@jupyter-widgets/controls",
          "model_name": "ProgressStyleModel",
          "model_module_version": "1.5.0",
          "state": {
            "_model_module": "@jupyter-widgets/controls",
            "_model_module_version": "1.5.0",
            "_model_name": "ProgressStyleModel",
            "_view_count": null,
            "_view_module": "@jupyter-widgets/base",
            "_view_module_version": "1.2.0",
            "_view_name": "StyleView",
            "bar_color": null,
            "description_width": ""
          }
        },
        "dcc45a943e254aeb8889b0b138d4a6b5": {
          "model_module": "@jupyter-widgets/base",
          "model_name": "LayoutModel",
          "model_module_version": "1.2.0",
          "state": {
            "_model_module": "@jupyter-widgets/base",
            "_model_module_version": "1.2.0",
            "_model_name": "LayoutModel",
            "_view_count": null,
            "_view_module": "@jupyter-widgets/base",
            "_view_module_version": "1.2.0",
            "_view_name": "LayoutView",
            "align_content": null,
            "align_items": null,
            "align_self": null,
            "border": null,
            "bottom": null,
            "display": null,
            "flex": null,
            "flex_flow": null,
            "grid_area": null,
            "grid_auto_columns": null,
            "grid_auto_flow": null,
            "grid_auto_rows": null,
            "grid_column": null,
            "grid_gap": null,
            "grid_row": null,
            "grid_template_areas": null,
            "grid_template_columns": null,
            "grid_template_rows": null,
            "height": null,
            "justify_content": null,
            "justify_items": null,
            "left": null,
            "margin": null,
            "max_height": null,
            "max_width": null,
            "min_height": null,
            "min_width": null,
            "object_fit": null,
            "object_position": null,
            "order": null,
            "overflow": null,
            "overflow_x": null,
            "overflow_y": null,
            "padding": null,
            "right": null,
            "top": null,
            "visibility": null,
            "width": null
          }
        },
        "6c639b8f23594d9bb290501610b1255b": {
          "model_module": "@jupyter-widgets/controls",
          "model_name": "DescriptionStyleModel",
          "model_module_version": "1.5.0",
          "state": {
            "_model_module": "@jupyter-widgets/controls",
            "_model_module_version": "1.5.0",
            "_model_name": "DescriptionStyleModel",
            "_view_count": null,
            "_view_module": "@jupyter-widgets/base",
            "_view_module_version": "1.2.0",
            "_view_name": "StyleView",
            "description_width": ""
          }
        },
        "6aa67da5e9e544bc857ef12a5183de44": {
          "model_module": "@jupyter-widgets/controls",
          "model_name": "HBoxModel",
          "model_module_version": "1.5.0",
          "state": {
            "_dom_classes": [],
            "_model_module": "@jupyter-widgets/controls",
            "_model_module_version": "1.5.0",
            "_model_name": "HBoxModel",
            "_view_count": null,
            "_view_module": "@jupyter-widgets/controls",
            "_view_module_version": "1.5.0",
            "_view_name": "HBoxView",
            "box_style": "",
            "children": [
              "IPY_MODEL_a50876f4dcaf4f25b8f3cdd38072c0ba",
              "IPY_MODEL_22046c56ed9a44889c7289ea233e4d4b",
              "IPY_MODEL_746939a26e184a309d3661ef986770b8"
            ],
            "layout": "IPY_MODEL_f05416c4050b4f0c885210c762bd05af"
          }
        },
        "a50876f4dcaf4f25b8f3cdd38072c0ba": {
          "model_module": "@jupyter-widgets/controls",
          "model_name": "HTMLModel",
          "model_module_version": "1.5.0",
          "state": {
            "_dom_classes": [],
            "_model_module": "@jupyter-widgets/controls",
            "_model_module_version": "1.5.0",
            "_model_name": "HTMLModel",
            "_view_count": null,
            "_view_module": "@jupyter-widgets/controls",
            "_view_module_version": "1.5.0",
            "_view_name": "HTMLView",
            "description": "",
            "description_tooltip": null,
            "layout": "IPY_MODEL_73a03d3756b24612a9f2979e1df413a3",
            "placeholder": "​",
            "style": "IPY_MODEL_dd32b0322e664fcf88f99bf58bb75a69",
            "value": "Validation DataLoader 0: 100%"
          }
        },
        "22046c56ed9a44889c7289ea233e4d4b": {
          "model_module": "@jupyter-widgets/controls",
          "model_name": "FloatProgressModel",
          "model_module_version": "1.5.0",
          "state": {
            "_dom_classes": [],
            "_model_module": "@jupyter-widgets/controls",
            "_model_module_version": "1.5.0",
            "_model_name": "FloatProgressModel",
            "_view_count": null,
            "_view_module": "@jupyter-widgets/controls",
            "_view_module_version": "1.5.0",
            "_view_name": "ProgressView",
            "bar_style": "",
            "description": "",
            "description_tooltip": null,
            "layout": "IPY_MODEL_48ce7680ce764fe7a2c85f4e0e8ef407",
            "max": 28,
            "min": 0,
            "orientation": "horizontal",
            "style": "IPY_MODEL_088b1c90918f44fbbd9073a73c40fc09",
            "value": 28
          }
        },
        "746939a26e184a309d3661ef986770b8": {
          "model_module": "@jupyter-widgets/controls",
          "model_name": "HTMLModel",
          "model_module_version": "1.5.0",
          "state": {
            "_dom_classes": [],
            "_model_module": "@jupyter-widgets/controls",
            "_model_module_version": "1.5.0",
            "_model_name": "HTMLModel",
            "_view_count": null,
            "_view_module": "@jupyter-widgets/controls",
            "_view_module_version": "1.5.0",
            "_view_name": "HTMLView",
            "description": "",
            "description_tooltip": null,
            "layout": "IPY_MODEL_15883b95163b4f97bb501c7628e39fff",
            "placeholder": "​",
            "style": "IPY_MODEL_0ebda066206c449598a9ed4aad996c4a",
            "value": " 28/28 [00:05&lt;00:00,  5.26it/s]"
          }
        },
        "f05416c4050b4f0c885210c762bd05af": {
          "model_module": "@jupyter-widgets/base",
          "model_name": "LayoutModel",
          "model_module_version": "1.2.0",
          "state": {
            "_model_module": "@jupyter-widgets/base",
            "_model_module_version": "1.2.0",
            "_model_name": "LayoutModel",
            "_view_count": null,
            "_view_module": "@jupyter-widgets/base",
            "_view_module_version": "1.2.0",
            "_view_name": "LayoutView",
            "align_content": null,
            "align_items": null,
            "align_self": null,
            "border": null,
            "bottom": null,
            "display": "inline-flex",
            "flex": null,
            "flex_flow": "row wrap",
            "grid_area": null,
            "grid_auto_columns": null,
            "grid_auto_flow": null,
            "grid_auto_rows": null,
            "grid_column": null,
            "grid_gap": null,
            "grid_row": null,
            "grid_template_areas": null,
            "grid_template_columns": null,
            "grid_template_rows": null,
            "height": null,
            "justify_content": null,
            "justify_items": null,
            "left": null,
            "margin": null,
            "max_height": null,
            "max_width": null,
            "min_height": null,
            "min_width": null,
            "object_fit": null,
            "object_position": null,
            "order": null,
            "overflow": null,
            "overflow_x": null,
            "overflow_y": null,
            "padding": null,
            "right": null,
            "top": null,
            "visibility": "hidden",
            "width": "100%"
          }
        },
        "73a03d3756b24612a9f2979e1df413a3": {
          "model_module": "@jupyter-widgets/base",
          "model_name": "LayoutModel",
          "model_module_version": "1.2.0",
          "state": {
            "_model_module": "@jupyter-widgets/base",
            "_model_module_version": "1.2.0",
            "_model_name": "LayoutModel",
            "_view_count": null,
            "_view_module": "@jupyter-widgets/base",
            "_view_module_version": "1.2.0",
            "_view_name": "LayoutView",
            "align_content": null,
            "align_items": null,
            "align_self": null,
            "border": null,
            "bottom": null,
            "display": null,
            "flex": null,
            "flex_flow": null,
            "grid_area": null,
            "grid_auto_columns": null,
            "grid_auto_flow": null,
            "grid_auto_rows": null,
            "grid_column": null,
            "grid_gap": null,
            "grid_row": null,
            "grid_template_areas": null,
            "grid_template_columns": null,
            "grid_template_rows": null,
            "height": null,
            "justify_content": null,
            "justify_items": null,
            "left": null,
            "margin": null,
            "max_height": null,
            "max_width": null,
            "min_height": null,
            "min_width": null,
            "object_fit": null,
            "object_position": null,
            "order": null,
            "overflow": null,
            "overflow_x": null,
            "overflow_y": null,
            "padding": null,
            "right": null,
            "top": null,
            "visibility": null,
            "width": null
          }
        },
        "dd32b0322e664fcf88f99bf58bb75a69": {
          "model_module": "@jupyter-widgets/controls",
          "model_name": "DescriptionStyleModel",
          "model_module_version": "1.5.0",
          "state": {
            "_model_module": "@jupyter-widgets/controls",
            "_model_module_version": "1.5.0",
            "_model_name": "DescriptionStyleModel",
            "_view_count": null,
            "_view_module": "@jupyter-widgets/base",
            "_view_module_version": "1.2.0",
            "_view_name": "StyleView",
            "description_width": ""
          }
        },
        "48ce7680ce764fe7a2c85f4e0e8ef407": {
          "model_module": "@jupyter-widgets/base",
          "model_name": "LayoutModel",
          "model_module_version": "1.2.0",
          "state": {
            "_model_module": "@jupyter-widgets/base",
            "_model_module_version": "1.2.0",
            "_model_name": "LayoutModel",
            "_view_count": null,
            "_view_module": "@jupyter-widgets/base",
            "_view_module_version": "1.2.0",
            "_view_name": "LayoutView",
            "align_content": null,
            "align_items": null,
            "align_self": null,
            "border": null,
            "bottom": null,
            "display": null,
            "flex": "2",
            "flex_flow": null,
            "grid_area": null,
            "grid_auto_columns": null,
            "grid_auto_flow": null,
            "grid_auto_rows": null,
            "grid_column": null,
            "grid_gap": null,
            "grid_row": null,
            "grid_template_areas": null,
            "grid_template_columns": null,
            "grid_template_rows": null,
            "height": null,
            "justify_content": null,
            "justify_items": null,
            "left": null,
            "margin": null,
            "max_height": null,
            "max_width": null,
            "min_height": null,
            "min_width": null,
            "object_fit": null,
            "object_position": null,
            "order": null,
            "overflow": null,
            "overflow_x": null,
            "overflow_y": null,
            "padding": null,
            "right": null,
            "top": null,
            "visibility": null,
            "width": null
          }
        },
        "088b1c90918f44fbbd9073a73c40fc09": {
          "model_module": "@jupyter-widgets/controls",
          "model_name": "ProgressStyleModel",
          "model_module_version": "1.5.0",
          "state": {
            "_model_module": "@jupyter-widgets/controls",
            "_model_module_version": "1.5.0",
            "_model_name": "ProgressStyleModel",
            "_view_count": null,
            "_view_module": "@jupyter-widgets/base",
            "_view_module_version": "1.2.0",
            "_view_name": "StyleView",
            "bar_color": null,
            "description_width": ""
          }
        },
        "15883b95163b4f97bb501c7628e39fff": {
          "model_module": "@jupyter-widgets/base",
          "model_name": "LayoutModel",
          "model_module_version": "1.2.0",
          "state": {
            "_model_module": "@jupyter-widgets/base",
            "_model_module_version": "1.2.0",
            "_model_name": "LayoutModel",
            "_view_count": null,
            "_view_module": "@jupyter-widgets/base",
            "_view_module_version": "1.2.0",
            "_view_name": "LayoutView",
            "align_content": null,
            "align_items": null,
            "align_self": null,
            "border": null,
            "bottom": null,
            "display": null,
            "flex": null,
            "flex_flow": null,
            "grid_area": null,
            "grid_auto_columns": null,
            "grid_auto_flow": null,
            "grid_auto_rows": null,
            "grid_column": null,
            "grid_gap": null,
            "grid_row": null,
            "grid_template_areas": null,
            "grid_template_columns": null,
            "grid_template_rows": null,
            "height": null,
            "justify_content": null,
            "justify_items": null,
            "left": null,
            "margin": null,
            "max_height": null,
            "max_width": null,
            "min_height": null,
            "min_width": null,
            "object_fit": null,
            "object_position": null,
            "order": null,
            "overflow": null,
            "overflow_x": null,
            "overflow_y": null,
            "padding": null,
            "right": null,
            "top": null,
            "visibility": null,
            "width": null
          }
        },
        "0ebda066206c449598a9ed4aad996c4a": {
          "model_module": "@jupyter-widgets/controls",
          "model_name": "DescriptionStyleModel",
          "model_module_version": "1.5.0",
          "state": {
            "_model_module": "@jupyter-widgets/controls",
            "_model_module_version": "1.5.0",
            "_model_name": "DescriptionStyleModel",
            "_view_count": null,
            "_view_module": "@jupyter-widgets/base",
            "_view_module_version": "1.2.0",
            "_view_name": "StyleView",
            "description_width": ""
          }
        },
        "08dd73618d77429d975a9de9d1d2b216": {
          "model_module": "@jupyter-widgets/controls",
          "model_name": "HBoxModel",
          "model_module_version": "1.5.0",
          "state": {
            "_dom_classes": [],
            "_model_module": "@jupyter-widgets/controls",
            "_model_module_version": "1.5.0",
            "_model_name": "HBoxModel",
            "_view_count": null,
            "_view_module": "@jupyter-widgets/controls",
            "_view_module_version": "1.5.0",
            "_view_name": "HBoxView",
            "box_style": "",
            "children": [
              "IPY_MODEL_c3a2b89408974c9a9953ea6323c80093",
              "IPY_MODEL_8a1a75d14e4b44d2a16adb0dc94643d2",
              "IPY_MODEL_79ef9387c07e461a8f566f81574211ed"
            ],
            "layout": "IPY_MODEL_b387c4b0452243dca8e87a0c1260260a"
          }
        },
        "c3a2b89408974c9a9953ea6323c80093": {
          "model_module": "@jupyter-widgets/controls",
          "model_name": "HTMLModel",
          "model_module_version": "1.5.0",
          "state": {
            "_dom_classes": [],
            "_model_module": "@jupyter-widgets/controls",
            "_model_module_version": "1.5.0",
            "_model_name": "HTMLModel",
            "_view_count": null,
            "_view_module": "@jupyter-widgets/controls",
            "_view_module_version": "1.5.0",
            "_view_name": "HTMLView",
            "description": "",
            "description_tooltip": null,
            "layout": "IPY_MODEL_3d6fec03de76423bb9e958d5fa3b0a7f",
            "placeholder": "​",
            "style": "IPY_MODEL_e4f9e7c6397f477cbe57a2f1ba6d0af0",
            "value": "Validation DataLoader 0: 100%"
          }
        },
        "8a1a75d14e4b44d2a16adb0dc94643d2": {
          "model_module": "@jupyter-widgets/controls",
          "model_name": "FloatProgressModel",
          "model_module_version": "1.5.0",
          "state": {
            "_dom_classes": [],
            "_model_module": "@jupyter-widgets/controls",
            "_model_module_version": "1.5.0",
            "_model_name": "FloatProgressModel",
            "_view_count": null,
            "_view_module": "@jupyter-widgets/controls",
            "_view_module_version": "1.5.0",
            "_view_name": "ProgressView",
            "bar_style": "",
            "description": "",
            "description_tooltip": null,
            "layout": "IPY_MODEL_db7442d78eb54d6d9bd2d9e27b543c4b",
            "max": 28,
            "min": 0,
            "orientation": "horizontal",
            "style": "IPY_MODEL_3dcd703455584a3d992756a62375e28f",
            "value": 28
          }
        },
        "79ef9387c07e461a8f566f81574211ed": {
          "model_module": "@jupyter-widgets/controls",
          "model_name": "HTMLModel",
          "model_module_version": "1.5.0",
          "state": {
            "_dom_classes": [],
            "_model_module": "@jupyter-widgets/controls",
            "_model_module_version": "1.5.0",
            "_model_name": "HTMLModel",
            "_view_count": null,
            "_view_module": "@jupyter-widgets/controls",
            "_view_module_version": "1.5.0",
            "_view_name": "HTMLView",
            "description": "",
            "description_tooltip": null,
            "layout": "IPY_MODEL_12b1aec1135d4c5bb4696b113446c66f",
            "placeholder": "​",
            "style": "IPY_MODEL_22033f126df74e4c8a968a8d0b38fc67",
            "value": " 28/28 [00:05&lt;00:00,  5.31it/s]"
          }
        },
        "b387c4b0452243dca8e87a0c1260260a": {
          "model_module": "@jupyter-widgets/base",
          "model_name": "LayoutModel",
          "model_module_version": "1.2.0",
          "state": {
            "_model_module": "@jupyter-widgets/base",
            "_model_module_version": "1.2.0",
            "_model_name": "LayoutModel",
            "_view_count": null,
            "_view_module": "@jupyter-widgets/base",
            "_view_module_version": "1.2.0",
            "_view_name": "LayoutView",
            "align_content": null,
            "align_items": null,
            "align_self": null,
            "border": null,
            "bottom": null,
            "display": "inline-flex",
            "flex": null,
            "flex_flow": "row wrap",
            "grid_area": null,
            "grid_auto_columns": null,
            "grid_auto_flow": null,
            "grid_auto_rows": null,
            "grid_column": null,
            "grid_gap": null,
            "grid_row": null,
            "grid_template_areas": null,
            "grid_template_columns": null,
            "grid_template_rows": null,
            "height": null,
            "justify_content": null,
            "justify_items": null,
            "left": null,
            "margin": null,
            "max_height": null,
            "max_width": null,
            "min_height": null,
            "min_width": null,
            "object_fit": null,
            "object_position": null,
            "order": null,
            "overflow": null,
            "overflow_x": null,
            "overflow_y": null,
            "padding": null,
            "right": null,
            "top": null,
            "visibility": "hidden",
            "width": "100%"
          }
        },
        "3d6fec03de76423bb9e958d5fa3b0a7f": {
          "model_module": "@jupyter-widgets/base",
          "model_name": "LayoutModel",
          "model_module_version": "1.2.0",
          "state": {
            "_model_module": "@jupyter-widgets/base",
            "_model_module_version": "1.2.0",
            "_model_name": "LayoutModel",
            "_view_count": null,
            "_view_module": "@jupyter-widgets/base",
            "_view_module_version": "1.2.0",
            "_view_name": "LayoutView",
            "align_content": null,
            "align_items": null,
            "align_self": null,
            "border": null,
            "bottom": null,
            "display": null,
            "flex": null,
            "flex_flow": null,
            "grid_area": null,
            "grid_auto_columns": null,
            "grid_auto_flow": null,
            "grid_auto_rows": null,
            "grid_column": null,
            "grid_gap": null,
            "grid_row": null,
            "grid_template_areas": null,
            "grid_template_columns": null,
            "grid_template_rows": null,
            "height": null,
            "justify_content": null,
            "justify_items": null,
            "left": null,
            "margin": null,
            "max_height": null,
            "max_width": null,
            "min_height": null,
            "min_width": null,
            "object_fit": null,
            "object_position": null,
            "order": null,
            "overflow": null,
            "overflow_x": null,
            "overflow_y": null,
            "padding": null,
            "right": null,
            "top": null,
            "visibility": null,
            "width": null
          }
        },
        "e4f9e7c6397f477cbe57a2f1ba6d0af0": {
          "model_module": "@jupyter-widgets/controls",
          "model_name": "DescriptionStyleModel",
          "model_module_version": "1.5.0",
          "state": {
            "_model_module": "@jupyter-widgets/controls",
            "_model_module_version": "1.5.0",
            "_model_name": "DescriptionStyleModel",
            "_view_count": null,
            "_view_module": "@jupyter-widgets/base",
            "_view_module_version": "1.2.0",
            "_view_name": "StyleView",
            "description_width": ""
          }
        },
        "db7442d78eb54d6d9bd2d9e27b543c4b": {
          "model_module": "@jupyter-widgets/base",
          "model_name": "LayoutModel",
          "model_module_version": "1.2.0",
          "state": {
            "_model_module": "@jupyter-widgets/base",
            "_model_module_version": "1.2.0",
            "_model_name": "LayoutModel",
            "_view_count": null,
            "_view_module": "@jupyter-widgets/base",
            "_view_module_version": "1.2.0",
            "_view_name": "LayoutView",
            "align_content": null,
            "align_items": null,
            "align_self": null,
            "border": null,
            "bottom": null,
            "display": null,
            "flex": "2",
            "flex_flow": null,
            "grid_area": null,
            "grid_auto_columns": null,
            "grid_auto_flow": null,
            "grid_auto_rows": null,
            "grid_column": null,
            "grid_gap": null,
            "grid_row": null,
            "grid_template_areas": null,
            "grid_template_columns": null,
            "grid_template_rows": null,
            "height": null,
            "justify_content": null,
            "justify_items": null,
            "left": null,
            "margin": null,
            "max_height": null,
            "max_width": null,
            "min_height": null,
            "min_width": null,
            "object_fit": null,
            "object_position": null,
            "order": null,
            "overflow": null,
            "overflow_x": null,
            "overflow_y": null,
            "padding": null,
            "right": null,
            "top": null,
            "visibility": null,
            "width": null
          }
        },
        "3dcd703455584a3d992756a62375e28f": {
          "model_module": "@jupyter-widgets/controls",
          "model_name": "ProgressStyleModel",
          "model_module_version": "1.5.0",
          "state": {
            "_model_module": "@jupyter-widgets/controls",
            "_model_module_version": "1.5.0",
            "_model_name": "ProgressStyleModel",
            "_view_count": null,
            "_view_module": "@jupyter-widgets/base",
            "_view_module_version": "1.2.0",
            "_view_name": "StyleView",
            "bar_color": null,
            "description_width": ""
          }
        },
        "12b1aec1135d4c5bb4696b113446c66f": {
          "model_module": "@jupyter-widgets/base",
          "model_name": "LayoutModel",
          "model_module_version": "1.2.0",
          "state": {
            "_model_module": "@jupyter-widgets/base",
            "_model_module_version": "1.2.0",
            "_model_name": "LayoutModel",
            "_view_count": null,
            "_view_module": "@jupyter-widgets/base",
            "_view_module_version": "1.2.0",
            "_view_name": "LayoutView",
            "align_content": null,
            "align_items": null,
            "align_self": null,
            "border": null,
            "bottom": null,
            "display": null,
            "flex": null,
            "flex_flow": null,
            "grid_area": null,
            "grid_auto_columns": null,
            "grid_auto_flow": null,
            "grid_auto_rows": null,
            "grid_column": null,
            "grid_gap": null,
            "grid_row": null,
            "grid_template_areas": null,
            "grid_template_columns": null,
            "grid_template_rows": null,
            "height": null,
            "justify_content": null,
            "justify_items": null,
            "left": null,
            "margin": null,
            "max_height": null,
            "max_width": null,
            "min_height": null,
            "min_width": null,
            "object_fit": null,
            "object_position": null,
            "order": null,
            "overflow": null,
            "overflow_x": null,
            "overflow_y": null,
            "padding": null,
            "right": null,
            "top": null,
            "visibility": null,
            "width": null
          }
        },
        "22033f126df74e4c8a968a8d0b38fc67": {
          "model_module": "@jupyter-widgets/controls",
          "model_name": "DescriptionStyleModel",
          "model_module_version": "1.5.0",
          "state": {
            "_model_module": "@jupyter-widgets/controls",
            "_model_module_version": "1.5.0",
            "_model_name": "DescriptionStyleModel",
            "_view_count": null,
            "_view_module": "@jupyter-widgets/base",
            "_view_module_version": "1.2.0",
            "_view_name": "StyleView",
            "description_width": ""
          }
        },
        "9073197f637a4c85a6e42d081dfb2a7d": {
          "model_module": "@jupyter-widgets/controls",
          "model_name": "HBoxModel",
          "model_module_version": "1.5.0",
          "state": {
            "_dom_classes": [],
            "_model_module": "@jupyter-widgets/controls",
            "_model_module_version": "1.5.0",
            "_model_name": "HBoxModel",
            "_view_count": null,
            "_view_module": "@jupyter-widgets/controls",
            "_view_module_version": "1.5.0",
            "_view_name": "HBoxView",
            "box_style": "",
            "children": [
              "IPY_MODEL_9808af4d6119450b80193b5a10625dbe",
              "IPY_MODEL_9a3a195ff1ca44eb893944838e93b55c",
              "IPY_MODEL_87ddfdc3a33646608b9dbbddc510ed7b"
            ],
            "layout": "IPY_MODEL_da6420e1850b4a41bfab3709f81e57d0"
          }
        },
        "9808af4d6119450b80193b5a10625dbe": {
          "model_module": "@jupyter-widgets/controls",
          "model_name": "HTMLModel",
          "model_module_version": "1.5.0",
          "state": {
            "_dom_classes": [],
            "_model_module": "@jupyter-widgets/controls",
            "_model_module_version": "1.5.0",
            "_model_name": "HTMLModel",
            "_view_count": null,
            "_view_module": "@jupyter-widgets/controls",
            "_view_module_version": "1.5.0",
            "_view_name": "HTMLView",
            "description": "",
            "description_tooltip": null,
            "layout": "IPY_MODEL_7bc0908df5e846a38553f120b7cfee46",
            "placeholder": "​",
            "style": "IPY_MODEL_9da5f1c8c1e344d88000c4492c5a975e",
            "value": "Validation DataLoader 0: 100%"
          }
        },
        "9a3a195ff1ca44eb893944838e93b55c": {
          "model_module": "@jupyter-widgets/controls",
          "model_name": "FloatProgressModel",
          "model_module_version": "1.5.0",
          "state": {
            "_dom_classes": [],
            "_model_module": "@jupyter-widgets/controls",
            "_model_module_version": "1.5.0",
            "_model_name": "FloatProgressModel",
            "_view_count": null,
            "_view_module": "@jupyter-widgets/controls",
            "_view_module_version": "1.5.0",
            "_view_name": "ProgressView",
            "bar_style": "",
            "description": "",
            "description_tooltip": null,
            "layout": "IPY_MODEL_16696a5580354413b01e0e91d52b34b3",
            "max": 28,
            "min": 0,
            "orientation": "horizontal",
            "style": "IPY_MODEL_5490ae1da94e4f939ab92a7a730d250a",
            "value": 28
          }
        },
        "87ddfdc3a33646608b9dbbddc510ed7b": {
          "model_module": "@jupyter-widgets/controls",
          "model_name": "HTMLModel",
          "model_module_version": "1.5.0",
          "state": {
            "_dom_classes": [],
            "_model_module": "@jupyter-widgets/controls",
            "_model_module_version": "1.5.0",
            "_model_name": "HTMLModel",
            "_view_count": null,
            "_view_module": "@jupyter-widgets/controls",
            "_view_module_version": "1.5.0",
            "_view_name": "HTMLView",
            "description": "",
            "description_tooltip": null,
            "layout": "IPY_MODEL_a6d7f98f356f4b309f3078979fce1640",
            "placeholder": "​",
            "style": "IPY_MODEL_e6b57bb6246448f8b0f31b6865ef50be",
            "value": " 28/28 [00:05&lt;00:00,  5.24it/s]"
          }
        },
        "da6420e1850b4a41bfab3709f81e57d0": {
          "model_module": "@jupyter-widgets/base",
          "model_name": "LayoutModel",
          "model_module_version": "1.2.0",
          "state": {
            "_model_module": "@jupyter-widgets/base",
            "_model_module_version": "1.2.0",
            "_model_name": "LayoutModel",
            "_view_count": null,
            "_view_module": "@jupyter-widgets/base",
            "_view_module_version": "1.2.0",
            "_view_name": "LayoutView",
            "align_content": null,
            "align_items": null,
            "align_self": null,
            "border": null,
            "bottom": null,
            "display": "inline-flex",
            "flex": null,
            "flex_flow": "row wrap",
            "grid_area": null,
            "grid_auto_columns": null,
            "grid_auto_flow": null,
            "grid_auto_rows": null,
            "grid_column": null,
            "grid_gap": null,
            "grid_row": null,
            "grid_template_areas": null,
            "grid_template_columns": null,
            "grid_template_rows": null,
            "height": null,
            "justify_content": null,
            "justify_items": null,
            "left": null,
            "margin": null,
            "max_height": null,
            "max_width": null,
            "min_height": null,
            "min_width": null,
            "object_fit": null,
            "object_position": null,
            "order": null,
            "overflow": null,
            "overflow_x": null,
            "overflow_y": null,
            "padding": null,
            "right": null,
            "top": null,
            "visibility": "hidden",
            "width": "100%"
          }
        },
        "7bc0908df5e846a38553f120b7cfee46": {
          "model_module": "@jupyter-widgets/base",
          "model_name": "LayoutModel",
          "model_module_version": "1.2.0",
          "state": {
            "_model_module": "@jupyter-widgets/base",
            "_model_module_version": "1.2.0",
            "_model_name": "LayoutModel",
            "_view_count": null,
            "_view_module": "@jupyter-widgets/base",
            "_view_module_version": "1.2.0",
            "_view_name": "LayoutView",
            "align_content": null,
            "align_items": null,
            "align_self": null,
            "border": null,
            "bottom": null,
            "display": null,
            "flex": null,
            "flex_flow": null,
            "grid_area": null,
            "grid_auto_columns": null,
            "grid_auto_flow": null,
            "grid_auto_rows": null,
            "grid_column": null,
            "grid_gap": null,
            "grid_row": null,
            "grid_template_areas": null,
            "grid_template_columns": null,
            "grid_template_rows": null,
            "height": null,
            "justify_content": null,
            "justify_items": null,
            "left": null,
            "margin": null,
            "max_height": null,
            "max_width": null,
            "min_height": null,
            "min_width": null,
            "object_fit": null,
            "object_position": null,
            "order": null,
            "overflow": null,
            "overflow_x": null,
            "overflow_y": null,
            "padding": null,
            "right": null,
            "top": null,
            "visibility": null,
            "width": null
          }
        },
        "9da5f1c8c1e344d88000c4492c5a975e": {
          "model_module": "@jupyter-widgets/controls",
          "model_name": "DescriptionStyleModel",
          "model_module_version": "1.5.0",
          "state": {
            "_model_module": "@jupyter-widgets/controls",
            "_model_module_version": "1.5.0",
            "_model_name": "DescriptionStyleModel",
            "_view_count": null,
            "_view_module": "@jupyter-widgets/base",
            "_view_module_version": "1.2.0",
            "_view_name": "StyleView",
            "description_width": ""
          }
        },
        "16696a5580354413b01e0e91d52b34b3": {
          "model_module": "@jupyter-widgets/base",
          "model_name": "LayoutModel",
          "model_module_version": "1.2.0",
          "state": {
            "_model_module": "@jupyter-widgets/base",
            "_model_module_version": "1.2.0",
            "_model_name": "LayoutModel",
            "_view_count": null,
            "_view_module": "@jupyter-widgets/base",
            "_view_module_version": "1.2.0",
            "_view_name": "LayoutView",
            "align_content": null,
            "align_items": null,
            "align_self": null,
            "border": null,
            "bottom": null,
            "display": null,
            "flex": "2",
            "flex_flow": null,
            "grid_area": null,
            "grid_auto_columns": null,
            "grid_auto_flow": null,
            "grid_auto_rows": null,
            "grid_column": null,
            "grid_gap": null,
            "grid_row": null,
            "grid_template_areas": null,
            "grid_template_columns": null,
            "grid_template_rows": null,
            "height": null,
            "justify_content": null,
            "justify_items": null,
            "left": null,
            "margin": null,
            "max_height": null,
            "max_width": null,
            "min_height": null,
            "min_width": null,
            "object_fit": null,
            "object_position": null,
            "order": null,
            "overflow": null,
            "overflow_x": null,
            "overflow_y": null,
            "padding": null,
            "right": null,
            "top": null,
            "visibility": null,
            "width": null
          }
        },
        "5490ae1da94e4f939ab92a7a730d250a": {
          "model_module": "@jupyter-widgets/controls",
          "model_name": "ProgressStyleModel",
          "model_module_version": "1.5.0",
          "state": {
            "_model_module": "@jupyter-widgets/controls",
            "_model_module_version": "1.5.0",
            "_model_name": "ProgressStyleModel",
            "_view_count": null,
            "_view_module": "@jupyter-widgets/base",
            "_view_module_version": "1.2.0",
            "_view_name": "StyleView",
            "bar_color": null,
            "description_width": ""
          }
        },
        "a6d7f98f356f4b309f3078979fce1640": {
          "model_module": "@jupyter-widgets/base",
          "model_name": "LayoutModel",
          "model_module_version": "1.2.0",
          "state": {
            "_model_module": "@jupyter-widgets/base",
            "_model_module_version": "1.2.0",
            "_model_name": "LayoutModel",
            "_view_count": null,
            "_view_module": "@jupyter-widgets/base",
            "_view_module_version": "1.2.0",
            "_view_name": "LayoutView",
            "align_content": null,
            "align_items": null,
            "align_self": null,
            "border": null,
            "bottom": null,
            "display": null,
            "flex": null,
            "flex_flow": null,
            "grid_area": null,
            "grid_auto_columns": null,
            "grid_auto_flow": null,
            "grid_auto_rows": null,
            "grid_column": null,
            "grid_gap": null,
            "grid_row": null,
            "grid_template_areas": null,
            "grid_template_columns": null,
            "grid_template_rows": null,
            "height": null,
            "justify_content": null,
            "justify_items": null,
            "left": null,
            "margin": null,
            "max_height": null,
            "max_width": null,
            "min_height": null,
            "min_width": null,
            "object_fit": null,
            "object_position": null,
            "order": null,
            "overflow": null,
            "overflow_x": null,
            "overflow_y": null,
            "padding": null,
            "right": null,
            "top": null,
            "visibility": null,
            "width": null
          }
        },
        "e6b57bb6246448f8b0f31b6865ef50be": {
          "model_module": "@jupyter-widgets/controls",
          "model_name": "DescriptionStyleModel",
          "model_module_version": "1.5.0",
          "state": {
            "_model_module": "@jupyter-widgets/controls",
            "_model_module_version": "1.5.0",
            "_model_name": "DescriptionStyleModel",
            "_view_count": null,
            "_view_module": "@jupyter-widgets/base",
            "_view_module_version": "1.2.0",
            "_view_name": "StyleView",
            "description_width": ""
          }
        },
        "922bc5e72605484a921977f5673d6f04": {
          "model_module": "@jupyter-widgets/controls",
          "model_name": "HBoxModel",
          "model_module_version": "1.5.0",
          "state": {
            "_dom_classes": [],
            "_model_module": "@jupyter-widgets/controls",
            "_model_module_version": "1.5.0",
            "_model_name": "HBoxModel",
            "_view_count": null,
            "_view_module": "@jupyter-widgets/controls",
            "_view_module_version": "1.5.0",
            "_view_name": "HBoxView",
            "box_style": "",
            "children": [
              "IPY_MODEL_881fcbe167cd41159abe3361035f94c2",
              "IPY_MODEL_3ee86014ed6144ff9b8e9e96d99527d3",
              "IPY_MODEL_a8e32ad0f99b4b57bab082aea6629882"
            ],
            "layout": "IPY_MODEL_b7f0458af7164445bd2d885ff9ab6a9a"
          }
        },
        "881fcbe167cd41159abe3361035f94c2": {
          "model_module": "@jupyter-widgets/controls",
          "model_name": "HTMLModel",
          "model_module_version": "1.5.0",
          "state": {
            "_dom_classes": [],
            "_model_module": "@jupyter-widgets/controls",
            "_model_module_version": "1.5.0",
            "_model_name": "HTMLModel",
            "_view_count": null,
            "_view_module": "@jupyter-widgets/controls",
            "_view_module_version": "1.5.0",
            "_view_name": "HTMLView",
            "description": "",
            "description_tooltip": null,
            "layout": "IPY_MODEL_e1eca45bc8ee438484d072969fd7d197",
            "placeholder": "​",
            "style": "IPY_MODEL_09950491edcc4de98a8a8d5219b7f008",
            "value": "Validation DataLoader 0: 100%"
          }
        },
        "3ee86014ed6144ff9b8e9e96d99527d3": {
          "model_module": "@jupyter-widgets/controls",
          "model_name": "FloatProgressModel",
          "model_module_version": "1.5.0",
          "state": {
            "_dom_classes": [],
            "_model_module": "@jupyter-widgets/controls",
            "_model_module_version": "1.5.0",
            "_model_name": "FloatProgressModel",
            "_view_count": null,
            "_view_module": "@jupyter-widgets/controls",
            "_view_module_version": "1.5.0",
            "_view_name": "ProgressView",
            "bar_style": "",
            "description": "",
            "description_tooltip": null,
            "layout": "IPY_MODEL_fde3bc834dcd446a94c9d1f6b156a86f",
            "max": 28,
            "min": 0,
            "orientation": "horizontal",
            "style": "IPY_MODEL_72de2d1caaf040308193fd62738f2f9d",
            "value": 28
          }
        },
        "a8e32ad0f99b4b57bab082aea6629882": {
          "model_module": "@jupyter-widgets/controls",
          "model_name": "HTMLModel",
          "model_module_version": "1.5.0",
          "state": {
            "_dom_classes": [],
            "_model_module": "@jupyter-widgets/controls",
            "_model_module_version": "1.5.0",
            "_model_name": "HTMLModel",
            "_view_count": null,
            "_view_module": "@jupyter-widgets/controls",
            "_view_module_version": "1.5.0",
            "_view_name": "HTMLView",
            "description": "",
            "description_tooltip": null,
            "layout": "IPY_MODEL_7a2a5f973b5d474bb2a79ca80f7e4321",
            "placeholder": "​",
            "style": "IPY_MODEL_a70c31c1d7274152b0227188a1fb998c",
            "value": " 28/28 [00:05&lt;00:00,  5.31it/s]"
          }
        },
        "b7f0458af7164445bd2d885ff9ab6a9a": {
          "model_module": "@jupyter-widgets/base",
          "model_name": "LayoutModel",
          "model_module_version": "1.2.0",
          "state": {
            "_model_module": "@jupyter-widgets/base",
            "_model_module_version": "1.2.0",
            "_model_name": "LayoutModel",
            "_view_count": null,
            "_view_module": "@jupyter-widgets/base",
            "_view_module_version": "1.2.0",
            "_view_name": "LayoutView",
            "align_content": null,
            "align_items": null,
            "align_self": null,
            "border": null,
            "bottom": null,
            "display": "inline-flex",
            "flex": null,
            "flex_flow": "row wrap",
            "grid_area": null,
            "grid_auto_columns": null,
            "grid_auto_flow": null,
            "grid_auto_rows": null,
            "grid_column": null,
            "grid_gap": null,
            "grid_row": null,
            "grid_template_areas": null,
            "grid_template_columns": null,
            "grid_template_rows": null,
            "height": null,
            "justify_content": null,
            "justify_items": null,
            "left": null,
            "margin": null,
            "max_height": null,
            "max_width": null,
            "min_height": null,
            "min_width": null,
            "object_fit": null,
            "object_position": null,
            "order": null,
            "overflow": null,
            "overflow_x": null,
            "overflow_y": null,
            "padding": null,
            "right": null,
            "top": null,
            "visibility": "hidden",
            "width": "100%"
          }
        },
        "e1eca45bc8ee438484d072969fd7d197": {
          "model_module": "@jupyter-widgets/base",
          "model_name": "LayoutModel",
          "model_module_version": "1.2.0",
          "state": {
            "_model_module": "@jupyter-widgets/base",
            "_model_module_version": "1.2.0",
            "_model_name": "LayoutModel",
            "_view_count": null,
            "_view_module": "@jupyter-widgets/base",
            "_view_module_version": "1.2.0",
            "_view_name": "LayoutView",
            "align_content": null,
            "align_items": null,
            "align_self": null,
            "border": null,
            "bottom": null,
            "display": null,
            "flex": null,
            "flex_flow": null,
            "grid_area": null,
            "grid_auto_columns": null,
            "grid_auto_flow": null,
            "grid_auto_rows": null,
            "grid_column": null,
            "grid_gap": null,
            "grid_row": null,
            "grid_template_areas": null,
            "grid_template_columns": null,
            "grid_template_rows": null,
            "height": null,
            "justify_content": null,
            "justify_items": null,
            "left": null,
            "margin": null,
            "max_height": null,
            "max_width": null,
            "min_height": null,
            "min_width": null,
            "object_fit": null,
            "object_position": null,
            "order": null,
            "overflow": null,
            "overflow_x": null,
            "overflow_y": null,
            "padding": null,
            "right": null,
            "top": null,
            "visibility": null,
            "width": null
          }
        },
        "09950491edcc4de98a8a8d5219b7f008": {
          "model_module": "@jupyter-widgets/controls",
          "model_name": "DescriptionStyleModel",
          "model_module_version": "1.5.0",
          "state": {
            "_model_module": "@jupyter-widgets/controls",
            "_model_module_version": "1.5.0",
            "_model_name": "DescriptionStyleModel",
            "_view_count": null,
            "_view_module": "@jupyter-widgets/base",
            "_view_module_version": "1.2.0",
            "_view_name": "StyleView",
            "description_width": ""
          }
        },
        "fde3bc834dcd446a94c9d1f6b156a86f": {
          "model_module": "@jupyter-widgets/base",
          "model_name": "LayoutModel",
          "model_module_version": "1.2.0",
          "state": {
            "_model_module": "@jupyter-widgets/base",
            "_model_module_version": "1.2.0",
            "_model_name": "LayoutModel",
            "_view_count": null,
            "_view_module": "@jupyter-widgets/base",
            "_view_module_version": "1.2.0",
            "_view_name": "LayoutView",
            "align_content": null,
            "align_items": null,
            "align_self": null,
            "border": null,
            "bottom": null,
            "display": null,
            "flex": "2",
            "flex_flow": null,
            "grid_area": null,
            "grid_auto_columns": null,
            "grid_auto_flow": null,
            "grid_auto_rows": null,
            "grid_column": null,
            "grid_gap": null,
            "grid_row": null,
            "grid_template_areas": null,
            "grid_template_columns": null,
            "grid_template_rows": null,
            "height": null,
            "justify_content": null,
            "justify_items": null,
            "left": null,
            "margin": null,
            "max_height": null,
            "max_width": null,
            "min_height": null,
            "min_width": null,
            "object_fit": null,
            "object_position": null,
            "order": null,
            "overflow": null,
            "overflow_x": null,
            "overflow_y": null,
            "padding": null,
            "right": null,
            "top": null,
            "visibility": null,
            "width": null
          }
        },
        "72de2d1caaf040308193fd62738f2f9d": {
          "model_module": "@jupyter-widgets/controls",
          "model_name": "ProgressStyleModel",
          "model_module_version": "1.5.0",
          "state": {
            "_model_module": "@jupyter-widgets/controls",
            "_model_module_version": "1.5.0",
            "_model_name": "ProgressStyleModel",
            "_view_count": null,
            "_view_module": "@jupyter-widgets/base",
            "_view_module_version": "1.2.0",
            "_view_name": "StyleView",
            "bar_color": null,
            "description_width": ""
          }
        },
        "7a2a5f973b5d474bb2a79ca80f7e4321": {
          "model_module": "@jupyter-widgets/base",
          "model_name": "LayoutModel",
          "model_module_version": "1.2.0",
          "state": {
            "_model_module": "@jupyter-widgets/base",
            "_model_module_version": "1.2.0",
            "_model_name": "LayoutModel",
            "_view_count": null,
            "_view_module": "@jupyter-widgets/base",
            "_view_module_version": "1.2.0",
            "_view_name": "LayoutView",
            "align_content": null,
            "align_items": null,
            "align_self": null,
            "border": null,
            "bottom": null,
            "display": null,
            "flex": null,
            "flex_flow": null,
            "grid_area": null,
            "grid_auto_columns": null,
            "grid_auto_flow": null,
            "grid_auto_rows": null,
            "grid_column": null,
            "grid_gap": null,
            "grid_row": null,
            "grid_template_areas": null,
            "grid_template_columns": null,
            "grid_template_rows": null,
            "height": null,
            "justify_content": null,
            "justify_items": null,
            "left": null,
            "margin": null,
            "max_height": null,
            "max_width": null,
            "min_height": null,
            "min_width": null,
            "object_fit": null,
            "object_position": null,
            "order": null,
            "overflow": null,
            "overflow_x": null,
            "overflow_y": null,
            "padding": null,
            "right": null,
            "top": null,
            "visibility": null,
            "width": null
          }
        },
        "a70c31c1d7274152b0227188a1fb998c": {
          "model_module": "@jupyter-widgets/controls",
          "model_name": "DescriptionStyleModel",
          "model_module_version": "1.5.0",
          "state": {
            "_model_module": "@jupyter-widgets/controls",
            "_model_module_version": "1.5.0",
            "_model_name": "DescriptionStyleModel",
            "_view_count": null,
            "_view_module": "@jupyter-widgets/base",
            "_view_module_version": "1.2.0",
            "_view_name": "StyleView",
            "description_width": ""
          }
        },
        "5cc2490652e842d9a1f7fb40d32df152": {
          "model_module": "@jupyter-widgets/controls",
          "model_name": "HBoxModel",
          "model_module_version": "1.5.0",
          "state": {
            "_dom_classes": [],
            "_model_module": "@jupyter-widgets/controls",
            "_model_module_version": "1.5.0",
            "_model_name": "HBoxModel",
            "_view_count": null,
            "_view_module": "@jupyter-widgets/controls",
            "_view_module_version": "1.5.0",
            "_view_name": "HBoxView",
            "box_style": "",
            "children": [
              "IPY_MODEL_8d33b7c446f54e739e92ecd89b513d91",
              "IPY_MODEL_5e4b506dbae341198658e507a2ace4fc",
              "IPY_MODEL_d2940e69f1af49d8a488683a4111facd"
            ],
            "layout": "IPY_MODEL_83b6f9bbdfa44b53b0fcb52152d120ab"
          }
        },
        "8d33b7c446f54e739e92ecd89b513d91": {
          "model_module": "@jupyter-widgets/controls",
          "model_name": "HTMLModel",
          "model_module_version": "1.5.0",
          "state": {
            "_dom_classes": [],
            "_model_module": "@jupyter-widgets/controls",
            "_model_module_version": "1.5.0",
            "_model_name": "HTMLModel",
            "_view_count": null,
            "_view_module": "@jupyter-widgets/controls",
            "_view_module_version": "1.5.0",
            "_view_name": "HTMLView",
            "description": "",
            "description_tooltip": null,
            "layout": "IPY_MODEL_4d223b0d3c6b40d087d4f052b6b8c323",
            "placeholder": "​",
            "style": "IPY_MODEL_a897dbff865248c2869c74b266797170",
            "value": "Validation DataLoader 0: 100%"
          }
        },
        "5e4b506dbae341198658e507a2ace4fc": {
          "model_module": "@jupyter-widgets/controls",
          "model_name": "FloatProgressModel",
          "model_module_version": "1.5.0",
          "state": {
            "_dom_classes": [],
            "_model_module": "@jupyter-widgets/controls",
            "_model_module_version": "1.5.0",
            "_model_name": "FloatProgressModel",
            "_view_count": null,
            "_view_module": "@jupyter-widgets/controls",
            "_view_module_version": "1.5.0",
            "_view_name": "ProgressView",
            "bar_style": "",
            "description": "",
            "description_tooltip": null,
            "layout": "IPY_MODEL_43a6e0273e5c4b0f89e0cb1db630d118",
            "max": 28,
            "min": 0,
            "orientation": "horizontal",
            "style": "IPY_MODEL_e40242d5769249f4941be931767da2e8",
            "value": 28
          }
        },
        "d2940e69f1af49d8a488683a4111facd": {
          "model_module": "@jupyter-widgets/controls",
          "model_name": "HTMLModel",
          "model_module_version": "1.5.0",
          "state": {
            "_dom_classes": [],
            "_model_module": "@jupyter-widgets/controls",
            "_model_module_version": "1.5.0",
            "_model_name": "HTMLModel",
            "_view_count": null,
            "_view_module": "@jupyter-widgets/controls",
            "_view_module_version": "1.5.0",
            "_view_name": "HTMLView",
            "description": "",
            "description_tooltip": null,
            "layout": "IPY_MODEL_a6a6158bee8944f0b64284ba42e3ff94",
            "placeholder": "​",
            "style": "IPY_MODEL_d867020309f944d694c19e5f888ee2f6",
            "value": " 28/28 [00:05&lt;00:00,  5.25it/s]"
          }
        },
        "83b6f9bbdfa44b53b0fcb52152d120ab": {
          "model_module": "@jupyter-widgets/base",
          "model_name": "LayoutModel",
          "model_module_version": "1.2.0",
          "state": {
            "_model_module": "@jupyter-widgets/base",
            "_model_module_version": "1.2.0",
            "_model_name": "LayoutModel",
            "_view_count": null,
            "_view_module": "@jupyter-widgets/base",
            "_view_module_version": "1.2.0",
            "_view_name": "LayoutView",
            "align_content": null,
            "align_items": null,
            "align_self": null,
            "border": null,
            "bottom": null,
            "display": "inline-flex",
            "flex": null,
            "flex_flow": "row wrap",
            "grid_area": null,
            "grid_auto_columns": null,
            "grid_auto_flow": null,
            "grid_auto_rows": null,
            "grid_column": null,
            "grid_gap": null,
            "grid_row": null,
            "grid_template_areas": null,
            "grid_template_columns": null,
            "grid_template_rows": null,
            "height": null,
            "justify_content": null,
            "justify_items": null,
            "left": null,
            "margin": null,
            "max_height": null,
            "max_width": null,
            "min_height": null,
            "min_width": null,
            "object_fit": null,
            "object_position": null,
            "order": null,
            "overflow": null,
            "overflow_x": null,
            "overflow_y": null,
            "padding": null,
            "right": null,
            "top": null,
            "visibility": "hidden",
            "width": "100%"
          }
        },
        "4d223b0d3c6b40d087d4f052b6b8c323": {
          "model_module": "@jupyter-widgets/base",
          "model_name": "LayoutModel",
          "model_module_version": "1.2.0",
          "state": {
            "_model_module": "@jupyter-widgets/base",
            "_model_module_version": "1.2.0",
            "_model_name": "LayoutModel",
            "_view_count": null,
            "_view_module": "@jupyter-widgets/base",
            "_view_module_version": "1.2.0",
            "_view_name": "LayoutView",
            "align_content": null,
            "align_items": null,
            "align_self": null,
            "border": null,
            "bottom": null,
            "display": null,
            "flex": null,
            "flex_flow": null,
            "grid_area": null,
            "grid_auto_columns": null,
            "grid_auto_flow": null,
            "grid_auto_rows": null,
            "grid_column": null,
            "grid_gap": null,
            "grid_row": null,
            "grid_template_areas": null,
            "grid_template_columns": null,
            "grid_template_rows": null,
            "height": null,
            "justify_content": null,
            "justify_items": null,
            "left": null,
            "margin": null,
            "max_height": null,
            "max_width": null,
            "min_height": null,
            "min_width": null,
            "object_fit": null,
            "object_position": null,
            "order": null,
            "overflow": null,
            "overflow_x": null,
            "overflow_y": null,
            "padding": null,
            "right": null,
            "top": null,
            "visibility": null,
            "width": null
          }
        },
        "a897dbff865248c2869c74b266797170": {
          "model_module": "@jupyter-widgets/controls",
          "model_name": "DescriptionStyleModel",
          "model_module_version": "1.5.0",
          "state": {
            "_model_module": "@jupyter-widgets/controls",
            "_model_module_version": "1.5.0",
            "_model_name": "DescriptionStyleModel",
            "_view_count": null,
            "_view_module": "@jupyter-widgets/base",
            "_view_module_version": "1.2.0",
            "_view_name": "StyleView",
            "description_width": ""
          }
        },
        "43a6e0273e5c4b0f89e0cb1db630d118": {
          "model_module": "@jupyter-widgets/base",
          "model_name": "LayoutModel",
          "model_module_version": "1.2.0",
          "state": {
            "_model_module": "@jupyter-widgets/base",
            "_model_module_version": "1.2.0",
            "_model_name": "LayoutModel",
            "_view_count": null,
            "_view_module": "@jupyter-widgets/base",
            "_view_module_version": "1.2.0",
            "_view_name": "LayoutView",
            "align_content": null,
            "align_items": null,
            "align_self": null,
            "border": null,
            "bottom": null,
            "display": null,
            "flex": "2",
            "flex_flow": null,
            "grid_area": null,
            "grid_auto_columns": null,
            "grid_auto_flow": null,
            "grid_auto_rows": null,
            "grid_column": null,
            "grid_gap": null,
            "grid_row": null,
            "grid_template_areas": null,
            "grid_template_columns": null,
            "grid_template_rows": null,
            "height": null,
            "justify_content": null,
            "justify_items": null,
            "left": null,
            "margin": null,
            "max_height": null,
            "max_width": null,
            "min_height": null,
            "min_width": null,
            "object_fit": null,
            "object_position": null,
            "order": null,
            "overflow": null,
            "overflow_x": null,
            "overflow_y": null,
            "padding": null,
            "right": null,
            "top": null,
            "visibility": null,
            "width": null
          }
        },
        "e40242d5769249f4941be931767da2e8": {
          "model_module": "@jupyter-widgets/controls",
          "model_name": "ProgressStyleModel",
          "model_module_version": "1.5.0",
          "state": {
            "_model_module": "@jupyter-widgets/controls",
            "_model_module_version": "1.5.0",
            "_model_name": "ProgressStyleModel",
            "_view_count": null,
            "_view_module": "@jupyter-widgets/base",
            "_view_module_version": "1.2.0",
            "_view_name": "StyleView",
            "bar_color": null,
            "description_width": ""
          }
        },
        "a6a6158bee8944f0b64284ba42e3ff94": {
          "model_module": "@jupyter-widgets/base",
          "model_name": "LayoutModel",
          "model_module_version": "1.2.0",
          "state": {
            "_model_module": "@jupyter-widgets/base",
            "_model_module_version": "1.2.0",
            "_model_name": "LayoutModel",
            "_view_count": null,
            "_view_module": "@jupyter-widgets/base",
            "_view_module_version": "1.2.0",
            "_view_name": "LayoutView",
            "align_content": null,
            "align_items": null,
            "align_self": null,
            "border": null,
            "bottom": null,
            "display": null,
            "flex": null,
            "flex_flow": null,
            "grid_area": null,
            "grid_auto_columns": null,
            "grid_auto_flow": null,
            "grid_auto_rows": null,
            "grid_column": null,
            "grid_gap": null,
            "grid_row": null,
            "grid_template_areas": null,
            "grid_template_columns": null,
            "grid_template_rows": null,
            "height": null,
            "justify_content": null,
            "justify_items": null,
            "left": null,
            "margin": null,
            "max_height": null,
            "max_width": null,
            "min_height": null,
            "min_width": null,
            "object_fit": null,
            "object_position": null,
            "order": null,
            "overflow": null,
            "overflow_x": null,
            "overflow_y": null,
            "padding": null,
            "right": null,
            "top": null,
            "visibility": null,
            "width": null
          }
        },
        "d867020309f944d694c19e5f888ee2f6": {
          "model_module": "@jupyter-widgets/controls",
          "model_name": "DescriptionStyleModel",
          "model_module_version": "1.5.0",
          "state": {
            "_model_module": "@jupyter-widgets/controls",
            "_model_module_version": "1.5.0",
            "_model_name": "DescriptionStyleModel",
            "_view_count": null,
            "_view_module": "@jupyter-widgets/base",
            "_view_module_version": "1.2.0",
            "_view_name": "StyleView",
            "description_width": ""
          }
        },
        "9db239c581894ae4a2ac55bfcda74a0f": {
          "model_module": "@jupyter-widgets/controls",
          "model_name": "HBoxModel",
          "model_module_version": "1.5.0",
          "state": {
            "_dom_classes": [],
            "_model_module": "@jupyter-widgets/controls",
            "_model_module_version": "1.5.0",
            "_model_name": "HBoxModel",
            "_view_count": null,
            "_view_module": "@jupyter-widgets/controls",
            "_view_module_version": "1.5.0",
            "_view_name": "HBoxView",
            "box_style": "",
            "children": [
              "IPY_MODEL_b5867c658ae1445ca2f709dd61f8cd23",
              "IPY_MODEL_de37b726ecae4e998a3dda67f3cd40ed",
              "IPY_MODEL_eeef8334196f4c4bb8b8cfb266811ae2"
            ],
            "layout": "IPY_MODEL_687e537f620f411085865c625be3967c"
          }
        },
        "b5867c658ae1445ca2f709dd61f8cd23": {
          "model_module": "@jupyter-widgets/controls",
          "model_name": "HTMLModel",
          "model_module_version": "1.5.0",
          "state": {
            "_dom_classes": [],
            "_model_module": "@jupyter-widgets/controls",
            "_model_module_version": "1.5.0",
            "_model_name": "HTMLModel",
            "_view_count": null,
            "_view_module": "@jupyter-widgets/controls",
            "_view_module_version": "1.5.0",
            "_view_name": "HTMLView",
            "description": "",
            "description_tooltip": null,
            "layout": "IPY_MODEL_b7872aa49d5b48d8bc1e4f61642fafcb",
            "placeholder": "​",
            "style": "IPY_MODEL_7cd203e6678c471e88bb8db5e8ca7372",
            "value": "Validation DataLoader 0: 100%"
          }
        },
        "de37b726ecae4e998a3dda67f3cd40ed": {
          "model_module": "@jupyter-widgets/controls",
          "model_name": "FloatProgressModel",
          "model_module_version": "1.5.0",
          "state": {
            "_dom_classes": [],
            "_model_module": "@jupyter-widgets/controls",
            "_model_module_version": "1.5.0",
            "_model_name": "FloatProgressModel",
            "_view_count": null,
            "_view_module": "@jupyter-widgets/controls",
            "_view_module_version": "1.5.0",
            "_view_name": "ProgressView",
            "bar_style": "",
            "description": "",
            "description_tooltip": null,
            "layout": "IPY_MODEL_eedfa81b603a47da8b243b637bb97f64",
            "max": 28,
            "min": 0,
            "orientation": "horizontal",
            "style": "IPY_MODEL_ad7fa744dedf449f929debae17c969f7",
            "value": 28
          }
        },
        "eeef8334196f4c4bb8b8cfb266811ae2": {
          "model_module": "@jupyter-widgets/controls",
          "model_name": "HTMLModel",
          "model_module_version": "1.5.0",
          "state": {
            "_dom_classes": [],
            "_model_module": "@jupyter-widgets/controls",
            "_model_module_version": "1.5.0",
            "_model_name": "HTMLModel",
            "_view_count": null,
            "_view_module": "@jupyter-widgets/controls",
            "_view_module_version": "1.5.0",
            "_view_name": "HTMLView",
            "description": "",
            "description_tooltip": null,
            "layout": "IPY_MODEL_cf09be3958a5438580697ec97a81885b",
            "placeholder": "​",
            "style": "IPY_MODEL_a4505c42bc2340f3873768f711d74077",
            "value": " 28/28 [00:05&lt;00:00,  5.29it/s]"
          }
        },
        "687e537f620f411085865c625be3967c": {
          "model_module": "@jupyter-widgets/base",
          "model_name": "LayoutModel",
          "model_module_version": "1.2.0",
          "state": {
            "_model_module": "@jupyter-widgets/base",
            "_model_module_version": "1.2.0",
            "_model_name": "LayoutModel",
            "_view_count": null,
            "_view_module": "@jupyter-widgets/base",
            "_view_module_version": "1.2.0",
            "_view_name": "LayoutView",
            "align_content": null,
            "align_items": null,
            "align_self": null,
            "border": null,
            "bottom": null,
            "display": "inline-flex",
            "flex": null,
            "flex_flow": "row wrap",
            "grid_area": null,
            "grid_auto_columns": null,
            "grid_auto_flow": null,
            "grid_auto_rows": null,
            "grid_column": null,
            "grid_gap": null,
            "grid_row": null,
            "grid_template_areas": null,
            "grid_template_columns": null,
            "grid_template_rows": null,
            "height": null,
            "justify_content": null,
            "justify_items": null,
            "left": null,
            "margin": null,
            "max_height": null,
            "max_width": null,
            "min_height": null,
            "min_width": null,
            "object_fit": null,
            "object_position": null,
            "order": null,
            "overflow": null,
            "overflow_x": null,
            "overflow_y": null,
            "padding": null,
            "right": null,
            "top": null,
            "visibility": "hidden",
            "width": "100%"
          }
        },
        "b7872aa49d5b48d8bc1e4f61642fafcb": {
          "model_module": "@jupyter-widgets/base",
          "model_name": "LayoutModel",
          "model_module_version": "1.2.0",
          "state": {
            "_model_module": "@jupyter-widgets/base",
            "_model_module_version": "1.2.0",
            "_model_name": "LayoutModel",
            "_view_count": null,
            "_view_module": "@jupyter-widgets/base",
            "_view_module_version": "1.2.0",
            "_view_name": "LayoutView",
            "align_content": null,
            "align_items": null,
            "align_self": null,
            "border": null,
            "bottom": null,
            "display": null,
            "flex": null,
            "flex_flow": null,
            "grid_area": null,
            "grid_auto_columns": null,
            "grid_auto_flow": null,
            "grid_auto_rows": null,
            "grid_column": null,
            "grid_gap": null,
            "grid_row": null,
            "grid_template_areas": null,
            "grid_template_columns": null,
            "grid_template_rows": null,
            "height": null,
            "justify_content": null,
            "justify_items": null,
            "left": null,
            "margin": null,
            "max_height": null,
            "max_width": null,
            "min_height": null,
            "min_width": null,
            "object_fit": null,
            "object_position": null,
            "order": null,
            "overflow": null,
            "overflow_x": null,
            "overflow_y": null,
            "padding": null,
            "right": null,
            "top": null,
            "visibility": null,
            "width": null
          }
        },
        "7cd203e6678c471e88bb8db5e8ca7372": {
          "model_module": "@jupyter-widgets/controls",
          "model_name": "DescriptionStyleModel",
          "model_module_version": "1.5.0",
          "state": {
            "_model_module": "@jupyter-widgets/controls",
            "_model_module_version": "1.5.0",
            "_model_name": "DescriptionStyleModel",
            "_view_count": null,
            "_view_module": "@jupyter-widgets/base",
            "_view_module_version": "1.2.0",
            "_view_name": "StyleView",
            "description_width": ""
          }
        },
        "eedfa81b603a47da8b243b637bb97f64": {
          "model_module": "@jupyter-widgets/base",
          "model_name": "LayoutModel",
          "model_module_version": "1.2.0",
          "state": {
            "_model_module": "@jupyter-widgets/base",
            "_model_module_version": "1.2.0",
            "_model_name": "LayoutModel",
            "_view_count": null,
            "_view_module": "@jupyter-widgets/base",
            "_view_module_version": "1.2.0",
            "_view_name": "LayoutView",
            "align_content": null,
            "align_items": null,
            "align_self": null,
            "border": null,
            "bottom": null,
            "display": null,
            "flex": "2",
            "flex_flow": null,
            "grid_area": null,
            "grid_auto_columns": null,
            "grid_auto_flow": null,
            "grid_auto_rows": null,
            "grid_column": null,
            "grid_gap": null,
            "grid_row": null,
            "grid_template_areas": null,
            "grid_template_columns": null,
            "grid_template_rows": null,
            "height": null,
            "justify_content": null,
            "justify_items": null,
            "left": null,
            "margin": null,
            "max_height": null,
            "max_width": null,
            "min_height": null,
            "min_width": null,
            "object_fit": null,
            "object_position": null,
            "order": null,
            "overflow": null,
            "overflow_x": null,
            "overflow_y": null,
            "padding": null,
            "right": null,
            "top": null,
            "visibility": null,
            "width": null
          }
        },
        "ad7fa744dedf449f929debae17c969f7": {
          "model_module": "@jupyter-widgets/controls",
          "model_name": "ProgressStyleModel",
          "model_module_version": "1.5.0",
          "state": {
            "_model_module": "@jupyter-widgets/controls",
            "_model_module_version": "1.5.0",
            "_model_name": "ProgressStyleModel",
            "_view_count": null,
            "_view_module": "@jupyter-widgets/base",
            "_view_module_version": "1.2.0",
            "_view_name": "StyleView",
            "bar_color": null,
            "description_width": ""
          }
        },
        "cf09be3958a5438580697ec97a81885b": {
          "model_module": "@jupyter-widgets/base",
          "model_name": "LayoutModel",
          "model_module_version": "1.2.0",
          "state": {
            "_model_module": "@jupyter-widgets/base",
            "_model_module_version": "1.2.0",
            "_model_name": "LayoutModel",
            "_view_count": null,
            "_view_module": "@jupyter-widgets/base",
            "_view_module_version": "1.2.0",
            "_view_name": "LayoutView",
            "align_content": null,
            "align_items": null,
            "align_self": null,
            "border": null,
            "bottom": null,
            "display": null,
            "flex": null,
            "flex_flow": null,
            "grid_area": null,
            "grid_auto_columns": null,
            "grid_auto_flow": null,
            "grid_auto_rows": null,
            "grid_column": null,
            "grid_gap": null,
            "grid_row": null,
            "grid_template_areas": null,
            "grid_template_columns": null,
            "grid_template_rows": null,
            "height": null,
            "justify_content": null,
            "justify_items": null,
            "left": null,
            "margin": null,
            "max_height": null,
            "max_width": null,
            "min_height": null,
            "min_width": null,
            "object_fit": null,
            "object_position": null,
            "order": null,
            "overflow": null,
            "overflow_x": null,
            "overflow_y": null,
            "padding": null,
            "right": null,
            "top": null,
            "visibility": null,
            "width": null
          }
        },
        "a4505c42bc2340f3873768f711d74077": {
          "model_module": "@jupyter-widgets/controls",
          "model_name": "DescriptionStyleModel",
          "model_module_version": "1.5.0",
          "state": {
            "_model_module": "@jupyter-widgets/controls",
            "_model_module_version": "1.5.0",
            "_model_name": "DescriptionStyleModel",
            "_view_count": null,
            "_view_module": "@jupyter-widgets/base",
            "_view_module_version": "1.2.0",
            "_view_name": "StyleView",
            "description_width": ""
          }
        }
      }
    }
  },
  "nbformat": 4,
  "nbformat_minor": 0
}